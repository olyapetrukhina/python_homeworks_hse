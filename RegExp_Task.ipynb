{
  "nbformat": 4,
  "nbformat_minor": 0,
  "metadata": {
    "colab": {
      "provenance": []
    },
    "kernelspec": {
      "name": "python3",
      "display_name": "Python 3"
    },
    "language_info": {
      "name": "python"
    }
  },
  "cells": [
    {
      "cell_type": "markdown",
      "source": [
        "# Работа со строками. Регулярные выражения. Практика"
      ],
      "metadata": {
        "id": "nWvD7qWzGI1J"
      }
    },
    {
      "cell_type": "markdown",
      "source": [
        "## Упражнения"
      ],
      "metadata": {
        "id": "lHvWur9lfs8v"
      }
    },
    {
      "cell_type": "code",
      "source": [
        "import re"
      ],
      "metadata": {
        "id": "SQ1t7nKMy0e4"
      },
      "execution_count": 1,
      "outputs": []
    },
    {
      "cell_type": "markdown",
      "source": [
        "### Задание 1. Регулярное выражение, соответствующее четному числу"
      ],
      "metadata": {
        "id": "dSwELBk53g-V"
      }
    },
    {
      "cell_type": "code",
      "source": [
        "numbers = {\n",
        "    \"2341\": False,\n",
        "    \"132\": True,\n",
        "    \"29\": False,\n",
        "    \"5578\": True\n",
        "}\n",
        "\n",
        "pattern = r'\\d*[02468]$'\n",
        "for number, answer in numbers.items():\n",
        "  assert bool(re.match(pattern, number)) == numbers[number]"
      ],
      "metadata": {
        "id": "5dRgorkJ3qUU"
      },
      "execution_count": 3,
      "outputs": []
    },
    {
      "cell_type": "markdown",
      "source": [
        "### Задание 2. Извлеките все слова, начинающиеся на гласную"
      ],
      "metadata": {
        "id": "ZL--cOY4fvkn"
      }
    },
    {
      "cell_type": "code",
      "source": [
        "string = '''В этот лес завороженный,\n",
        "По пушинкам серебра,\n",
        "Я с винтовкой заряженной\n",
        "На охоту шел вчера'''\n",
        "\n",
        "pattern = r'\\b[aeiouAEIOUаеёиоуыэюяАЕЁИОУЫЭЮЯ]\\w*'\n",
        "re.findall(pattern, string)"
      ],
      "metadata": {
        "id": "RbkJSfSZHxUi",
        "colab": {
          "base_uri": "https://localhost:8080/"
        },
        "outputId": "8649b8a9-8634-4676-f9dd-46776b1f9cd3"
      },
      "execution_count": 7,
      "outputs": [
        {
          "output_type": "execute_result",
          "data": {
            "text/plain": [
              "['этот', 'Я', 'охоту']"
            ]
          },
          "metadata": {},
          "execution_count": 7
        }
      ]
    },
    {
      "cell_type": "markdown",
      "source": [
        "### Задание 3. Телефонный номер"
      ],
      "metadata": {
        "id": "LJFV1Cy2yRJR"
      }
    },
    {
      "cell_type": "markdown",
      "source": [
        "Проверить телефонный номер (номер должен быть длиной 10 знаков и начинаться с 7 или 8)"
      ],
      "metadata": {
        "id": "CfSGk0pGyVCb"
      }
    },
    {
      "cell_type": "code",
      "source": [
        "phone_numbers = ['899999999964', '8999999999', '79999999992', '7999999999', '9999999999']\n",
        "pattern = r'^[78]'\n",
        "\n",
        "for number in phone_numbers:\n",
        "  if len(number) == 10 and re.match(pattern, number):\n",
        "      print(f'{number} - корректный телефонный номер')\n",
        "  else:\n",
        "      print (f'{number} - некорректный телефонный номер')"
      ],
      "metadata": {
        "id": "VCOJVmcuyQL5",
        "colab": {
          "base_uri": "https://localhost:8080/"
        },
        "outputId": "ec6d3b71-6e67-405a-f988-0be1d5c42643"
      },
      "execution_count": 9,
      "outputs": [
        {
          "output_type": "stream",
          "name": "stdout",
          "text": [
            "899999999964 - некорректный телефонный номер\n",
            "8999999999 - корректный телефонный номер\n",
            "79999999992 - некорректный телефонный номер\n",
            "7999999999 - корректный телефонный номер\n",
            "9999999999 - некорректный телефонный номер\n"
          ]
        }
      ]
    },
    {
      "cell_type": "markdown",
      "source": [
        "### Задание 4. Номера автомобилей"
      ],
      "metadata": {
        "id": "LiUIhVJSybLM"
      }
    },
    {
      "cell_type": "markdown",
      "source": [
        "В России применяются регистрационные знаки нескольких видов. Общего в них то, что они состоят из цифр и букв. Причём используются только 12 букв кириллицы,\n",
        "имеющие графические аналоги в латинском алфавите — А, В, Е, К, М, Н, О, Р, С, Т, У и Х.\n",
        "\n",
        "У частных легковых автомобилей номера — это буква, три цифры, две буквы, затем две или три цифры с\n",
        "кодом региона. У такси — две буквы, три цифры, затем две или три цифры с кодом региона.\n",
        "Есть также и другие виды, но в этой задаче они не понадобятся."
      ],
      "metadata": {
        "id": "oTA5KMCeyeaM"
      }
    },
    {
      "cell_type": "code",
      "source": [
        "# Автомобильные номера\n",
        "numbers = ['С227НА777', 'КУ22777', 'Т22В7477', 'М227К19У9', 'С227НА8777']\n",
        "\n",
        "# Теперь правильные ответы\n",
        "Answers = ['Private', 'Taxi', 'Fail', 'Fail', 'Fail']"
      ],
      "metadata": {
        "id": "pxEiw7jGyeB4"
      },
      "execution_count": 11,
      "outputs": []
    },
    {
      "cell_type": "code",
      "source": [
        "private_pattern = r'[АВЕКМНОПРСТУХ]\\d{3}[АВЕКМНОПРСТУХ]{2}\\d{2,3}'\n",
        "taxi_pattern = r'[АВЕКМНОПРСТУХ]{2}\\d{3}\\d{2,3}'\n",
        "\n",
        "for number in numbers:\n",
        "    if re.match(private_pattern, number) and len(number) in (8,9):\n",
        "        print('Private')\n",
        "    elif re.match(taxi_pattern, number) and len(number) in (7,8):\n",
        "        print('Taxi')\n",
        "    else:\n",
        "        print('Fail')"
      ],
      "metadata": {
        "id": "pb5eWG0G2Bmn",
        "colab": {
          "base_uri": "https://localhost:8080/"
        },
        "outputId": "076f89f8-346c-4f4f-8df5-5b181cb3bbca"
      },
      "execution_count": 13,
      "outputs": [
        {
          "output_type": "stream",
          "name": "stdout",
          "text": [
            "Private\n",
            "Taxi\n",
            "Fail\n",
            "Fail\n",
            "Fail\n"
          ]
        }
      ]
    },
    {
      "cell_type": "markdown",
      "source": [
        "### Задание 5. Проверка пароля"
      ],
      "metadata": {
        "id": "Do324_es5lNH"
      }
    },
    {
      "cell_type": "markdown",
      "source": [
        "На сайте нужно вывести сообщение, если пароль не валиден.\n",
        "Обычно пароль должен содержать не менее 8 символов, не менее одной заглавной буквы,\n",
        "не менее одной строчной буквы и, опционально, символ.\n",
        "\n",
        "_\"Your password must have at least 8 characters, at least an upper case letter, an lowercase letter,\n",
        "a number and probably a symbol so you make sure you’ll never remember it in the future\"_"
      ],
      "metadata": {
        "id": "Uwjvt6HP5ujl"
      }
    },
    {
      "cell_type": "code",
      "source": [
        "passwords = ['', '1', 'abcdefgh', 'abCdefgh', 'ABCDEFGH', 'ab3defGh']\n",
        "\n",
        "# Не менее 8 символов (тут не считаются знаки препинания)\n",
        "char_regex = re.compile(r'^[a-zA-Z0-9]{8,}$')\n",
        "\n",
        "# Не менее 1 маленькой буквы\n",
        "lower_regex = re.compile(r'[a-z]')\n",
        "\n",
        "# Не менее 1 большой буквы\n",
        "upper_regex = re.compile(r'[A-Z]') # Ваш код здесь\n",
        "\n",
        "# Не менее 1 цифры\n",
        "digit_regex = re.compile(r'\\d+') # Ваш код здесь\n",
        "\n",
        "# ПРОВЕРКА\n",
        "for password in passwords:\n",
        "  if char_regex.findall(password) == []:\n",
        "      print('Password must contain at least 8 characters')\n",
        "  elif lower_regex.findall(password)==[]:\n",
        "      print('Password must contain at least one lowercase character')\n",
        "  elif upper_regex.findall(password)==[]:\n",
        "      print('Password must contain at least one uppercase character')\n",
        "  elif digit_regex.findall(password)==[]:\n",
        "      print('Password must contain at least one digit character')\n",
        "  else:\n",
        "      print('Your password is strong. Good job!')"
      ],
      "metadata": {
        "colab": {
          "base_uri": "https://localhost:8080/"
        },
        "id": "LI3QUFB15qCl",
        "outputId": "a2522cfe-6331-4845-dce1-caa8231b6220"
      },
      "execution_count": 14,
      "outputs": [
        {
          "output_type": "stream",
          "name": "stdout",
          "text": [
            "Password must contain at least 8 characters\n",
            "Password must contain at least 8 characters\n",
            "Password must contain at least one uppercase character\n",
            "Password must contain at least one digit character\n",
            "Password must contain at least one lowercase character\n",
            "Your password is strong. Good job!\n"
          ]
        }
      ]
    }
  ]
}