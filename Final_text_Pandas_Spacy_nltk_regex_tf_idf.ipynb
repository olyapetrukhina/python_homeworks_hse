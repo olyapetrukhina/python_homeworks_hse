{
  "cells": [
    {
      "cell_type": "code",
      "execution_count": null,
      "id": "ca73ad5d",
      "metadata": {
        "id": "ca73ad5d",
        "outputId": "2cdc0f39-de7b-45c2-d55b-8fef0e30e315"
      },
      "outputs": [
        {
          "data": {
            "text/html": [
              "<style>.container { width:100% !important; }</style>"
            ],
            "text/plain": [
              "<IPython.core.display.HTML object>"
            ]
          },
          "metadata": {},
          "output_type": "display_data"
        }
      ],
      "source": [
        "from IPython.display import display, HTML\n",
        "display(HTML(\"<style>.container { width:100% !important; }</style>\"))"
      ]
    },
    {
      "cell_type": "markdown",
      "id": "fca5c5d1",
      "metadata": {
        "id": "fca5c5d1"
      },
      "source": [
        "**Задание 1.** Напишите регулярное выражение, которое выделит слова, которые одновременно содержит приставку \"пре\" и корень \"крас\", но не по отдельности (т.е. выделит слово \"прекрасный\", но проигнорирует \"прелесть\" или \"красоту\")."
      ]
    },
    {
      "cell_type": "code",
      "execution_count": null,
      "id": "Da-ueoPjdQQ6",
      "metadata": {
        "colab": {
          "base_uri": "https://localhost:8080/"
        },
        "id": "Da-ueoPjdQQ6",
        "outputId": "de4a683e-b9dc-4917-f14b-7c8876dd6e81"
      },
      "outputs": [
        {
          "output_type": "stream",
          "name": "stdout",
          "text": [
            "Requirement already satisfied: regex in /usr/local/lib/python3.10/dist-packages (2023.12.25)\n"
          ]
        }
      ],
      "source": [
        "!pip install regex"
      ]
    },
    {
      "cell_type": "code",
      "execution_count": null,
      "id": "4qXApTdzdVmQ",
      "metadata": {
        "id": "4qXApTdzdVmQ"
      },
      "outputs": [],
      "source": [
        "import re"
      ]
    },
    {
      "cell_type": "code",
      "execution_count": null,
      "id": "6lFTBccVdWo9",
      "metadata": {
        "colab": {
          "base_uri": "https://localhost:8080/"
        },
        "id": "6lFTBccVdWo9",
        "outputId": "02dfebfd-a422-4191-83bf-545cee430dcc"
      },
      "outputs": [
        {
          "output_type": "stream",
          "name": "stdout",
          "text": [
            "['Прекрасный', 'прекрасной']\n"
          ]
        }
      ],
      "source": [
        "text = 'Прекрасный летний лень. Прелесть как дивно видеть расцвет природы, красоту её возрождения. Петров тем временем шёл за прекрасной работы часами.'\n",
        "result = re.findall(r'[Пп]рекрасн[\\w]+', text)\n",
        "print(result)"
      ]
    },
    {
      "cell_type": "markdown",
      "id": "b4217b2f",
      "metadata": {
        "id": "b4217b2f"
      },
      "source": [
        "**Задание 2.** Напишите функцию, которая извлекает доменные имена в почтах вроде student@edumail.hse.ru (т.е. edumail.hse.ru). Результатом работы этой функции должен быть список доменных имён, не забудьте про **return**."
      ]
    },
    {
      "cell_type": "code",
      "execution_count": null,
      "id": "BmccJI3Gg6PN",
      "metadata": {
        "id": "BmccJI3Gg6PN"
      },
      "outputs": [],
      "source": [
        "def regex_emails(emails):\n",
        "    result = []\n",
        "    for email in emails:\n",
        "#       result.append(email.split(\"@\")[-1])\n",
        "        result.extend(re.findall(r'[\\w]+\\.[\\w]*\\.*[\\w]+', email))\n",
        "    return result\n"
      ]
    },
    {
      "cell_type": "code",
      "execution_count": null,
      "id": "Ipk-CneChfrY",
      "metadata": {
        "colab": {
          "base_uri": "https://localhost:8080/"
        },
        "id": "Ipk-CneChfrY",
        "outputId": "9a3982a4-be2f-4027-f123-3a6584ba80a6"
      },
      "outputs": [
        {
          "output_type": "stream",
          "name": "stdout",
          "text": [
            "['edumail.hse.ru', 'gmail.com', 'ya.ru']\n"
          ]
        }
      ],
      "source": [
        "lst_emails = ['student@edumail.hse.ru', 'apetrov@gmail.com', 'msidorova@ya.ru']\n",
        "print(regex_emails(lst_emails))"
      ]
    },
    {
      "cell_type": "markdown",
      "id": "40ed8064",
      "metadata": {
        "id": "40ed8064"
      },
      "source": [
        "**Задание 3.** Посчитайте частоты в следующем тексте и визуализируйте график с распределением. Похож ли он на распределение по закону Ципфа?"
      ]
    },
    {
      "cell_type": "code",
      "execution_count": null,
      "id": "ltrh-RDfkNJM",
      "metadata": {
        "collapsed": true,
        "id": "ltrh-RDfkNJM"
      },
      "outputs": [],
      "source": [
        "import nltk\n",
        "from nltk import download\n",
        "download('punkt')\n",
        "\n",
        "from nltk.tokenize import word_tokenize\n",
        "\n",
        "download('stopwords')\n",
        "from nltk.corpus import stopwords\n",
        "stop_words = stopwords.words('russian')\n",
        "\n",
        "!pip install pymorphy2\n",
        "from pymorphy2 import MorphAnalyzer\n",
        "morph = MorphAnalyzer()\n",
        "\n",
        "import matplotlib.pyplot as plt\n",
        "import seaborn as sns"
      ]
    },
    {
      "cell_type": "code",
      "execution_count": null,
      "id": "c233e1d6",
      "metadata": {
        "id": "c233e1d6"
      },
      "outputs": [],
      "source": [
        "text = '''Впрочем, сам виноват, кругом виноват! Не пускаться бы на старости лет с клочком волос в амуры да в экивоки…\n",
        "И еще скажу, маточка: чуден иногда человек, очень чуден. И, святые вы мои! о чем заговорит, занесет подчас!\n",
        "А что выходит-то, что следует-то из этого? Да ровно ничего не следует, а выходит такая дрянь,\n",
        "что убереги меня, господи! Я, маточка, я не сержусь, а так досадно только очень вспоминать обо всем,\n",
        "досадно, что я вам написал так фигурно и глупо. И в должность-то я пошел сегодня таким гоголем-щеголем;\n",
        "сияние такое было на сердце. На душе ни с того ни с сего такой праздник был; весело было!\n",
        "За бумаги принялся рачительно — да что вышло-то потом из этого! Уж потом только как осмотрелся, так всё стало по-прежнему\n",
        "— и серенько и темненько. Всё те же чернильные пятна, всё те же столы и бумаги, да и я всё такой же;\n",
        "так, каким был, совершенно таким же и остался, — так чего же тут было на Пегасе-то ездить? Да из чего это вышло-то всё?\n",
        "Что солнышко проглянуло да небо полазоревело! от этого, что ли? Да и что за ароматы такие, когда на нашем дворе под окнами\n",
        "и чему-чему не случается быть! Знать, это мне всё сдуру так показалось. А ведь случается же иногда заблудиться так человеку\n",
        "в собственных чувствах своих да занести околесную. Это ни от чего иного происходит, как от излишней, глупой горячности сердца.\n",
        "Домой-то я не пришел, а приплелся; ни с того ни с сего голова у меня разболелась; уж это, знать, всё одно к одному.\n",
        "(В спину, что ли, надуло мне.) Я весне-то обрадовался, дурак дураком, да в холодной шинели пошел.\n",
        "И в чувствах-то вы моих ошиблись, родная моя! Излияние-то их совершенно в другую сторону приняли.\n",
        "Отеческая приязнь одушевляла меня, единственно чистая отеческая приязнь, Варвара Алексеевна;\n",
        "ибо я занимаю у вас место отца родного, по горькому сиротству вашему; говорю это от души,\n",
        "от чистого сердца, по-родственному. Уж как бы там ни было, а я вам хоть дальний родной, хоть, по пословице,\n",
        "и седьмая вода на киселе, а все-таки родственник, и теперь ближайший родственник и покровитель; ибо там,\n",
        "где вы ближе всего имели право искать покровительства и защиты, нашли вы предательство и обиду.\n",
        "А насчет стишков скажу я вам, маточка, что неприлично мне на старости лет в составлении стихов упражняться.\n",
        "Стихи вздор! За стишки и в школах теперь ребятишек секут… вот оно что, родная моя.'''"
      ]
    },
    {
      "cell_type": "code",
      "execution_count": null,
      "id": "Q24HiLEUnI-Z",
      "metadata": {
        "id": "Q24HiLEUnI-Z"
      },
      "outputs": [],
      "source": [
        "def clean_text(text):\n",
        "    text = text.lower()\n",
        "    text = word_tokenize(text)\n",
        "    text_clean = [word for word in text if word not in set(stop_words) and word[0].isalpha()]\n",
        "    return text_clean"
      ]
    },
    {
      "cell_type": "code",
      "execution_count": null,
      "id": "6MhvCIospD1S",
      "metadata": {
        "id": "6MhvCIospD1S"
      },
      "outputs": [],
      "source": [
        "text_final = clean_text(text)"
      ]
    },
    {
      "cell_type": "code",
      "execution_count": null,
      "id": "IUmxblnYpPu0",
      "metadata": {
        "id": "IUmxblnYpPu0"
      },
      "outputs": [],
      "source": [
        "words_lemmatized = []\n",
        "for word in text_final:\n",
        "    result = morph.parse(word)\n",
        "    most_probable_result = result[0]\n",
        "    normal_form = most_probable_result.normal_form\n",
        "    words_lemmatized.append(normal_form)\n",
        "\n",
        "words_lemmatized"
      ]
    },
    {
      "cell_type": "code",
      "execution_count": null,
      "id": "xWXyIsloqnVm",
      "metadata": {
        "id": "xWXyIsloqnVm"
      },
      "outputs": [],
      "source": [
        "frequencies_list = nltk.FreqDist(words_lemmatized)\n",
        "filtered_word_freq = dict((word, freq) for word, freq in frequencies_list.items())\n",
        "print(filtered_word_freq)"
      ]
    },
    {
      "cell_type": "code",
      "execution_count": null,
      "id": "apGwOscxq7oi",
      "metadata": {
        "id": "apGwOscxq7oi"
      },
      "outputs": [],
      "source": [
        "frequencies_list.most_common(10)"
      ]
    },
    {
      "cell_type": "code",
      "execution_count": null,
      "id": "hOS3_q8MryaP",
      "metadata": {
        "id": "hOS3_q8MryaP"
      },
      "outputs": [],
      "source": [
        "def plot_word_frequency(words,top_n=10):\n",
        "    word_freq = nltk.FreqDist(words)\n",
        "    labels = [element[0] for element in word_freq.most_common(top_n)]\n",
        "    counts = [element[1] for element in word_freq.most_common(top_n)]\n",
        "    plt.figure(figsize=(15, 5))\n",
        "    plt.title(\"Самые частотные слова в корпусе\")\n",
        "    plt.ylabel(\"Количество\")\n",
        "    plt.xlabel(\"Слово\")\n",
        "    plot = sns.barplot(x=labels, y=counts)\n",
        "    return plot"
      ]
    },
    {
      "cell_type": "code",
      "execution_count": null,
      "id": "SRk45_Bwr_3W",
      "metadata": {
        "id": "SRk45_Bwr_3W"
      },
      "outputs": [],
      "source": [
        "plot_word_frequency(words_lemmatized)"
      ]
    },
    {
      "cell_type": "markdown",
      "id": "qv-nAQlJtqkf",
      "metadata": {
        "id": "qv-nAQlJtqkf"
      },
      "source": [
        "**Ответ**: нет, не похож, так как по закону Ципфа частота n-го слова в списке, упорядоченном по убыванию частоты использования слов, окажется приблизительно обратно пропорциональной его рангу/номеру n\n",
        "Второе по используемости слово \"такой\" должно встречаться примерно в 2 раза реже, чем первое - \"все\", т.е. примерно 3-4 раза(на графике - 5). Третье — в три раза реже, т.е. примерно 2.33, (на графике - 5)"
      ]
    },
    {
      "cell_type": "markdown",
      "id": "38243e57",
      "metadata": {
        "id": "38243e57"
      },
      "source": [
        "**Задание 4.** Разметьте текст выше любым из известных вам морфологических разметчиков. Подсчитайте количество глаголов, существительных, прилагательных, местоимений и предлогов в этом тексте (удобнее всего эти сведения будет сохранить в списки), затем посчитайте доли этих частей речи в тексте. Сведите всё в единую табличку с помощью **pandas**."
      ]
    },
    {
      "cell_type": "code",
      "execution_count": null,
      "id": "lx4sGjFxilX0",
      "metadata": {
        "id": "lx4sGjFxilX0"
      },
      "outputs": [],
      "source": [
        "!python -m spacy download ru_core_news_sm"
      ]
    },
    {
      "cell_type": "code",
      "execution_count": null,
      "id": "RB7H11uMDzVl",
      "metadata": {
        "id": "RB7H11uMDzVl"
      },
      "outputs": [],
      "source": [
        "import pandas as pd\n",
        "import spacy\n",
        "from spacy.lang.ru.examples import sentences\n",
        "\n",
        "nlp_rus = spacy.load(\"ru_core_news_sm\")\n",
        "import re"
      ]
    },
    {
      "cell_type": "code",
      "execution_count": null,
      "id": "7pubSxmfJEZV",
      "metadata": {
        "id": "7pubSxmfJEZV"
      },
      "outputs": [],
      "source": [
        "!python -m spacy validate"
      ]
    },
    {
      "cell_type": "code",
      "execution_count": null,
      "id": "yr8LM1P9FJE0",
      "metadata": {
        "id": "yr8LM1P9FJE0"
      },
      "outputs": [],
      "source": [
        "lst_pos = []\n",
        "\n",
        "text = re.sub('[^\\w ]+', '', text)\n",
        "doc = nlp_rus(text.lower())\n",
        "\n",
        "\n",
        "for token in doc:\n",
        "    lst_pos.append(token.pos_)"
      ]
    },
    {
      "cell_type": "code",
      "execution_count": null,
      "id": "86a5e6c5",
      "metadata": {
        "id": "86a5e6c5"
      },
      "outputs": [],
      "source": [
        "final_pos1 = set(lst_pos)"
      ]
    },
    {
      "cell_type": "code",
      "execution_count": null,
      "id": "gM8QpiXwQfpl",
      "metadata": {
        "id": "gM8QpiXwQfpl"
      },
      "outputs": [],
      "source": [
        "sum_ = len(lst_pos)\n",
        "final_pos1 = sorted(list(set(lst_pos)))\n",
        "sorted(final_pos1)"
      ]
    },
    {
      "cell_type": "code",
      "execution_count": null,
      "id": "g5WsOj3CQnHX",
      "metadata": {
        "id": "g5WsOj3CQnHX"
      },
      "outputs": [],
      "source": [
        "final_count1 = []\n",
        "final_part1 = []\n",
        "for part_of_speech in final_pos1:\n",
        "    final_count1.append(lst_pos.count(part_of_speech))\n",
        "    final_part1.append(lst_pos.count(part_of_speech) / sum_)"
      ]
    },
    {
      "cell_type": "code",
      "execution_count": null,
      "id": "Ccx-GCojQbeB",
      "metadata": {
        "id": "Ccx-GCojQbeB",
        "scrolled": true,
        "colab": {
          "base_uri": "https://localhost:8080/",
          "height": 488
        },
        "outputId": "dd454171-7043-4251-cc8b-3b5aae0163fe"
      },
      "outputs": [
        {
          "output_type": "execute_result",
          "data": {
            "text/plain": [
              "   Часть речи  Количество  Доля в тексте\n",
              "0         ADJ          29       0.077957\n",
              "1         ADP          38       0.102151\n",
              "2         ADV          36       0.096774\n",
              "3         AUX           7       0.018817\n",
              "4       CCONJ          23       0.061828\n",
              "5         DET          21       0.056452\n",
              "6        NOUN          76       0.204301\n",
              "7         NUM           2       0.005376\n",
              "8        PART          35       0.094086\n",
              "9        PRON          47       0.126344\n",
              "10      PROPN           4       0.010753\n",
              "11      SCONJ           8       0.021505\n",
              "12      SPACE           2       0.005376\n",
              "13       VERB          44       0.118280"
            ],
            "text/html": [
              "\n",
              "  <div id=\"df-f6097564-7932-4ebd-a602-961c578722b4\" class=\"colab-df-container\">\n",
              "    <div>\n",
              "<style scoped>\n",
              "    .dataframe tbody tr th:only-of-type {\n",
              "        vertical-align: middle;\n",
              "    }\n",
              "\n",
              "    .dataframe tbody tr th {\n",
              "        vertical-align: top;\n",
              "    }\n",
              "\n",
              "    .dataframe thead th {\n",
              "        text-align: right;\n",
              "    }\n",
              "</style>\n",
              "<table border=\"1\" class=\"dataframe\">\n",
              "  <thead>\n",
              "    <tr style=\"text-align: right;\">\n",
              "      <th></th>\n",
              "      <th>Часть речи</th>\n",
              "      <th>Количество</th>\n",
              "      <th>Доля в тексте</th>\n",
              "    </tr>\n",
              "  </thead>\n",
              "  <tbody>\n",
              "    <tr>\n",
              "      <th>0</th>\n",
              "      <td>ADJ</td>\n",
              "      <td>29</td>\n",
              "      <td>0.077957</td>\n",
              "    </tr>\n",
              "    <tr>\n",
              "      <th>1</th>\n",
              "      <td>ADP</td>\n",
              "      <td>38</td>\n",
              "      <td>0.102151</td>\n",
              "    </tr>\n",
              "    <tr>\n",
              "      <th>2</th>\n",
              "      <td>ADV</td>\n",
              "      <td>36</td>\n",
              "      <td>0.096774</td>\n",
              "    </tr>\n",
              "    <tr>\n",
              "      <th>3</th>\n",
              "      <td>AUX</td>\n",
              "      <td>7</td>\n",
              "      <td>0.018817</td>\n",
              "    </tr>\n",
              "    <tr>\n",
              "      <th>4</th>\n",
              "      <td>CCONJ</td>\n",
              "      <td>23</td>\n",
              "      <td>0.061828</td>\n",
              "    </tr>\n",
              "    <tr>\n",
              "      <th>5</th>\n",
              "      <td>DET</td>\n",
              "      <td>21</td>\n",
              "      <td>0.056452</td>\n",
              "    </tr>\n",
              "    <tr>\n",
              "      <th>6</th>\n",
              "      <td>NOUN</td>\n",
              "      <td>76</td>\n",
              "      <td>0.204301</td>\n",
              "    </tr>\n",
              "    <tr>\n",
              "      <th>7</th>\n",
              "      <td>NUM</td>\n",
              "      <td>2</td>\n",
              "      <td>0.005376</td>\n",
              "    </tr>\n",
              "    <tr>\n",
              "      <th>8</th>\n",
              "      <td>PART</td>\n",
              "      <td>35</td>\n",
              "      <td>0.094086</td>\n",
              "    </tr>\n",
              "    <tr>\n",
              "      <th>9</th>\n",
              "      <td>PRON</td>\n",
              "      <td>47</td>\n",
              "      <td>0.126344</td>\n",
              "    </tr>\n",
              "    <tr>\n",
              "      <th>10</th>\n",
              "      <td>PROPN</td>\n",
              "      <td>4</td>\n",
              "      <td>0.010753</td>\n",
              "    </tr>\n",
              "    <tr>\n",
              "      <th>11</th>\n",
              "      <td>SCONJ</td>\n",
              "      <td>8</td>\n",
              "      <td>0.021505</td>\n",
              "    </tr>\n",
              "    <tr>\n",
              "      <th>12</th>\n",
              "      <td>SPACE</td>\n",
              "      <td>2</td>\n",
              "      <td>0.005376</td>\n",
              "    </tr>\n",
              "    <tr>\n",
              "      <th>13</th>\n",
              "      <td>VERB</td>\n",
              "      <td>44</td>\n",
              "      <td>0.118280</td>\n",
              "    </tr>\n",
              "  </tbody>\n",
              "</table>\n",
              "</div>\n",
              "    <div class=\"colab-df-buttons\">\n",
              "\n",
              "  <div class=\"colab-df-container\">\n",
              "    <button class=\"colab-df-convert\" onclick=\"convertToInteractive('df-f6097564-7932-4ebd-a602-961c578722b4')\"\n",
              "            title=\"Convert this dataframe to an interactive table.\"\n",
              "            style=\"display:none;\">\n",
              "\n",
              "  <svg xmlns=\"http://www.w3.org/2000/svg\" height=\"24px\" viewBox=\"0 -960 960 960\">\n",
              "    <path d=\"M120-120v-720h720v720H120Zm60-500h600v-160H180v160Zm220 220h160v-160H400v160Zm0 220h160v-160H400v160ZM180-400h160v-160H180v160Zm440 0h160v-160H620v160ZM180-180h160v-160H180v160Zm440 0h160v-160H620v160Z\"/>\n",
              "  </svg>\n",
              "    </button>\n",
              "\n",
              "  <style>\n",
              "    .colab-df-container {\n",
              "      display:flex;\n",
              "      gap: 12px;\n",
              "    }\n",
              "\n",
              "    .colab-df-convert {\n",
              "      background-color: #E8F0FE;\n",
              "      border: none;\n",
              "      border-radius: 50%;\n",
              "      cursor: pointer;\n",
              "      display: none;\n",
              "      fill: #1967D2;\n",
              "      height: 32px;\n",
              "      padding: 0 0 0 0;\n",
              "      width: 32px;\n",
              "    }\n",
              "\n",
              "    .colab-df-convert:hover {\n",
              "      background-color: #E2EBFA;\n",
              "      box-shadow: 0px 1px 2px rgba(60, 64, 67, 0.3), 0px 1px 3px 1px rgba(60, 64, 67, 0.15);\n",
              "      fill: #174EA6;\n",
              "    }\n",
              "\n",
              "    .colab-df-buttons div {\n",
              "      margin-bottom: 4px;\n",
              "    }\n",
              "\n",
              "    [theme=dark] .colab-df-convert {\n",
              "      background-color: #3B4455;\n",
              "      fill: #D2E3FC;\n",
              "    }\n",
              "\n",
              "    [theme=dark] .colab-df-convert:hover {\n",
              "      background-color: #434B5C;\n",
              "      box-shadow: 0px 1px 3px 1px rgba(0, 0, 0, 0.15);\n",
              "      filter: drop-shadow(0px 1px 2px rgba(0, 0, 0, 0.3));\n",
              "      fill: #FFFFFF;\n",
              "    }\n",
              "  </style>\n",
              "\n",
              "    <script>\n",
              "      const buttonEl =\n",
              "        document.querySelector('#df-f6097564-7932-4ebd-a602-961c578722b4 button.colab-df-convert');\n",
              "      buttonEl.style.display =\n",
              "        google.colab.kernel.accessAllowed ? 'block' : 'none';\n",
              "\n",
              "      async function convertToInteractive(key) {\n",
              "        const element = document.querySelector('#df-f6097564-7932-4ebd-a602-961c578722b4');\n",
              "        const dataTable =\n",
              "          await google.colab.kernel.invokeFunction('convertToInteractive',\n",
              "                                                    [key], {});\n",
              "        if (!dataTable) return;\n",
              "\n",
              "        const docLinkHtml = 'Like what you see? Visit the ' +\n",
              "          '<a target=\"_blank\" href=https://colab.research.google.com/notebooks/data_table.ipynb>data table notebook</a>'\n",
              "          + ' to learn more about interactive tables.';\n",
              "        element.innerHTML = '';\n",
              "        dataTable['output_type'] = 'display_data';\n",
              "        await google.colab.output.renderOutput(dataTable, element);\n",
              "        const docLink = document.createElement('div');\n",
              "        docLink.innerHTML = docLinkHtml;\n",
              "        element.appendChild(docLink);\n",
              "      }\n",
              "    </script>\n",
              "  </div>\n",
              "\n",
              "\n",
              "<div id=\"df-0c2c7dcd-772c-4836-9165-db1f9ebe806f\">\n",
              "  <button class=\"colab-df-quickchart\" onclick=\"quickchart('df-0c2c7dcd-772c-4836-9165-db1f9ebe806f')\"\n",
              "            title=\"Suggest charts\"\n",
              "            style=\"display:none;\">\n",
              "\n",
              "<svg xmlns=\"http://www.w3.org/2000/svg\" height=\"24px\"viewBox=\"0 0 24 24\"\n",
              "     width=\"24px\">\n",
              "    <g>\n",
              "        <path d=\"M19 3H5c-1.1 0-2 .9-2 2v14c0 1.1.9 2 2 2h14c1.1 0 2-.9 2-2V5c0-1.1-.9-2-2-2zM9 17H7v-7h2v7zm4 0h-2V7h2v10zm4 0h-2v-4h2v4z\"/>\n",
              "    </g>\n",
              "</svg>\n",
              "  </button>\n",
              "\n",
              "<style>\n",
              "  .colab-df-quickchart {\n",
              "      --bg-color: #E8F0FE;\n",
              "      --fill-color: #1967D2;\n",
              "      --hover-bg-color: #E2EBFA;\n",
              "      --hover-fill-color: #174EA6;\n",
              "      --disabled-fill-color: #AAA;\n",
              "      --disabled-bg-color: #DDD;\n",
              "  }\n",
              "\n",
              "  [theme=dark] .colab-df-quickchart {\n",
              "      --bg-color: #3B4455;\n",
              "      --fill-color: #D2E3FC;\n",
              "      --hover-bg-color: #434B5C;\n",
              "      --hover-fill-color: #FFFFFF;\n",
              "      --disabled-bg-color: #3B4455;\n",
              "      --disabled-fill-color: #666;\n",
              "  }\n",
              "\n",
              "  .colab-df-quickchart {\n",
              "    background-color: var(--bg-color);\n",
              "    border: none;\n",
              "    border-radius: 50%;\n",
              "    cursor: pointer;\n",
              "    display: none;\n",
              "    fill: var(--fill-color);\n",
              "    height: 32px;\n",
              "    padding: 0;\n",
              "    width: 32px;\n",
              "  }\n",
              "\n",
              "  .colab-df-quickchart:hover {\n",
              "    background-color: var(--hover-bg-color);\n",
              "    box-shadow: 0 1px 2px rgba(60, 64, 67, 0.3), 0 1px 3px 1px rgba(60, 64, 67, 0.15);\n",
              "    fill: var(--button-hover-fill-color);\n",
              "  }\n",
              "\n",
              "  .colab-df-quickchart-complete:disabled,\n",
              "  .colab-df-quickchart-complete:disabled:hover {\n",
              "    background-color: var(--disabled-bg-color);\n",
              "    fill: var(--disabled-fill-color);\n",
              "    box-shadow: none;\n",
              "  }\n",
              "\n",
              "  .colab-df-spinner {\n",
              "    border: 2px solid var(--fill-color);\n",
              "    border-color: transparent;\n",
              "    border-bottom-color: var(--fill-color);\n",
              "    animation:\n",
              "      spin 1s steps(1) infinite;\n",
              "  }\n",
              "\n",
              "  @keyframes spin {\n",
              "    0% {\n",
              "      border-color: transparent;\n",
              "      border-bottom-color: var(--fill-color);\n",
              "      border-left-color: var(--fill-color);\n",
              "    }\n",
              "    20% {\n",
              "      border-color: transparent;\n",
              "      border-left-color: var(--fill-color);\n",
              "      border-top-color: var(--fill-color);\n",
              "    }\n",
              "    30% {\n",
              "      border-color: transparent;\n",
              "      border-left-color: var(--fill-color);\n",
              "      border-top-color: var(--fill-color);\n",
              "      border-right-color: var(--fill-color);\n",
              "    }\n",
              "    40% {\n",
              "      border-color: transparent;\n",
              "      border-right-color: var(--fill-color);\n",
              "      border-top-color: var(--fill-color);\n",
              "    }\n",
              "    60% {\n",
              "      border-color: transparent;\n",
              "      border-right-color: var(--fill-color);\n",
              "    }\n",
              "    80% {\n",
              "      border-color: transparent;\n",
              "      border-right-color: var(--fill-color);\n",
              "      border-bottom-color: var(--fill-color);\n",
              "    }\n",
              "    90% {\n",
              "      border-color: transparent;\n",
              "      border-bottom-color: var(--fill-color);\n",
              "    }\n",
              "  }\n",
              "</style>\n",
              "\n",
              "  <script>\n",
              "    async function quickchart(key) {\n",
              "      const quickchartButtonEl =\n",
              "        document.querySelector('#' + key + ' button');\n",
              "      quickchartButtonEl.disabled = true;  // To prevent multiple clicks.\n",
              "      quickchartButtonEl.classList.add('colab-df-spinner');\n",
              "      try {\n",
              "        const charts = await google.colab.kernel.invokeFunction(\n",
              "            'suggestCharts', [key], {});\n",
              "      } catch (error) {\n",
              "        console.error('Error during call to suggestCharts:', error);\n",
              "      }\n",
              "      quickchartButtonEl.classList.remove('colab-df-spinner');\n",
              "      quickchartButtonEl.classList.add('colab-df-quickchart-complete');\n",
              "    }\n",
              "    (() => {\n",
              "      let quickchartButtonEl =\n",
              "        document.querySelector('#df-0c2c7dcd-772c-4836-9165-db1f9ebe806f button');\n",
              "      quickchartButtonEl.style.display =\n",
              "        google.colab.kernel.accessAllowed ? 'block' : 'none';\n",
              "    })();\n",
              "  </script>\n",
              "</div>\n",
              "    </div>\n",
              "  </div>\n"
            ]
          },
          "metadata": {},
          "execution_count": 21
        }
      ],
      "source": [
        "df = pd.DataFrame({\n",
        "            'Часть речи': final_pos1,\n",
        "            'Количество': final_count1,\n",
        "            \"Доля в тексте\": final_part1})\n",
        "df"
      ]
    },
    {
      "cell_type": "markdown",
      "id": "AJY_IKPQGeut",
      "metadata": {
        "id": "AJY_IKPQGeut"
      },
      "source": [
        "**Ответ:**"
      ]
    },
    {
      "cell_type": "code",
      "execution_count": null,
      "id": "_-JDbnYiU_d5",
      "metadata": {
        "colab": {
          "base_uri": "https://localhost:8080/",
          "height": 206
        },
        "id": "_-JDbnYiU_d5",
        "outputId": "0421ded2-0e09-4379-8a48-e5901a1fc68c"
      },
      "outputs": [
        {
          "output_type": "execute_result",
          "data": {
            "text/plain": [
              "   Часть речи  Количество  Доля в тексте\n",
              "0         ADJ          29       0.077957\n",
              "1         ADP          38       0.102151\n",
              "6        NOUN          76       0.204301\n",
              "9        PRON          47       0.126344\n",
              "13       VERB          44       0.118280"
            ],
            "text/html": [
              "\n",
              "  <div id=\"df-03d404fb-7ef8-4c32-b7d3-63984320fc8f\" class=\"colab-df-container\">\n",
              "    <div>\n",
              "<style scoped>\n",
              "    .dataframe tbody tr th:only-of-type {\n",
              "        vertical-align: middle;\n",
              "    }\n",
              "\n",
              "    .dataframe tbody tr th {\n",
              "        vertical-align: top;\n",
              "    }\n",
              "\n",
              "    .dataframe thead th {\n",
              "        text-align: right;\n",
              "    }\n",
              "</style>\n",
              "<table border=\"1\" class=\"dataframe\">\n",
              "  <thead>\n",
              "    <tr style=\"text-align: right;\">\n",
              "      <th></th>\n",
              "      <th>Часть речи</th>\n",
              "      <th>Количество</th>\n",
              "      <th>Доля в тексте</th>\n",
              "    </tr>\n",
              "  </thead>\n",
              "  <tbody>\n",
              "    <tr>\n",
              "      <th>0</th>\n",
              "      <td>ADJ</td>\n",
              "      <td>29</td>\n",
              "      <td>0.077957</td>\n",
              "    </tr>\n",
              "    <tr>\n",
              "      <th>1</th>\n",
              "      <td>ADP</td>\n",
              "      <td>38</td>\n",
              "      <td>0.102151</td>\n",
              "    </tr>\n",
              "    <tr>\n",
              "      <th>6</th>\n",
              "      <td>NOUN</td>\n",
              "      <td>76</td>\n",
              "      <td>0.204301</td>\n",
              "    </tr>\n",
              "    <tr>\n",
              "      <th>9</th>\n",
              "      <td>PRON</td>\n",
              "      <td>47</td>\n",
              "      <td>0.126344</td>\n",
              "    </tr>\n",
              "    <tr>\n",
              "      <th>13</th>\n",
              "      <td>VERB</td>\n",
              "      <td>44</td>\n",
              "      <td>0.118280</td>\n",
              "    </tr>\n",
              "  </tbody>\n",
              "</table>\n",
              "</div>\n",
              "    <div class=\"colab-df-buttons\">\n",
              "\n",
              "  <div class=\"colab-df-container\">\n",
              "    <button class=\"colab-df-convert\" onclick=\"convertToInteractive('df-03d404fb-7ef8-4c32-b7d3-63984320fc8f')\"\n",
              "            title=\"Convert this dataframe to an interactive table.\"\n",
              "            style=\"display:none;\">\n",
              "\n",
              "  <svg xmlns=\"http://www.w3.org/2000/svg\" height=\"24px\" viewBox=\"0 -960 960 960\">\n",
              "    <path d=\"M120-120v-720h720v720H120Zm60-500h600v-160H180v160Zm220 220h160v-160H400v160Zm0 220h160v-160H400v160ZM180-400h160v-160H180v160Zm440 0h160v-160H620v160ZM180-180h160v-160H180v160Zm440 0h160v-160H620v160Z\"/>\n",
              "  </svg>\n",
              "    </button>\n",
              "\n",
              "  <style>\n",
              "    .colab-df-container {\n",
              "      display:flex;\n",
              "      gap: 12px;\n",
              "    }\n",
              "\n",
              "    .colab-df-convert {\n",
              "      background-color: #E8F0FE;\n",
              "      border: none;\n",
              "      border-radius: 50%;\n",
              "      cursor: pointer;\n",
              "      display: none;\n",
              "      fill: #1967D2;\n",
              "      height: 32px;\n",
              "      padding: 0 0 0 0;\n",
              "      width: 32px;\n",
              "    }\n",
              "\n",
              "    .colab-df-convert:hover {\n",
              "      background-color: #E2EBFA;\n",
              "      box-shadow: 0px 1px 2px rgba(60, 64, 67, 0.3), 0px 1px 3px 1px rgba(60, 64, 67, 0.15);\n",
              "      fill: #174EA6;\n",
              "    }\n",
              "\n",
              "    .colab-df-buttons div {\n",
              "      margin-bottom: 4px;\n",
              "    }\n",
              "\n",
              "    [theme=dark] .colab-df-convert {\n",
              "      background-color: #3B4455;\n",
              "      fill: #D2E3FC;\n",
              "    }\n",
              "\n",
              "    [theme=dark] .colab-df-convert:hover {\n",
              "      background-color: #434B5C;\n",
              "      box-shadow: 0px 1px 3px 1px rgba(0, 0, 0, 0.15);\n",
              "      filter: drop-shadow(0px 1px 2px rgba(0, 0, 0, 0.3));\n",
              "      fill: #FFFFFF;\n",
              "    }\n",
              "  </style>\n",
              "\n",
              "    <script>\n",
              "      const buttonEl =\n",
              "        document.querySelector('#df-03d404fb-7ef8-4c32-b7d3-63984320fc8f button.colab-df-convert');\n",
              "      buttonEl.style.display =\n",
              "        google.colab.kernel.accessAllowed ? 'block' : 'none';\n",
              "\n",
              "      async function convertToInteractive(key) {\n",
              "        const element = document.querySelector('#df-03d404fb-7ef8-4c32-b7d3-63984320fc8f');\n",
              "        const dataTable =\n",
              "          await google.colab.kernel.invokeFunction('convertToInteractive',\n",
              "                                                    [key], {});\n",
              "        if (!dataTable) return;\n",
              "\n",
              "        const docLinkHtml = 'Like what you see? Visit the ' +\n",
              "          '<a target=\"_blank\" href=https://colab.research.google.com/notebooks/data_table.ipynb>data table notebook</a>'\n",
              "          + ' to learn more about interactive tables.';\n",
              "        element.innerHTML = '';\n",
              "        dataTable['output_type'] = 'display_data';\n",
              "        await google.colab.output.renderOutput(dataTable, element);\n",
              "        const docLink = document.createElement('div');\n",
              "        docLink.innerHTML = docLinkHtml;\n",
              "        element.appendChild(docLink);\n",
              "      }\n",
              "    </script>\n",
              "  </div>\n",
              "\n",
              "\n",
              "<div id=\"df-8d258ee2-f284-405e-8504-1a60fb29cb68\">\n",
              "  <button class=\"colab-df-quickchart\" onclick=\"quickchart('df-8d258ee2-f284-405e-8504-1a60fb29cb68')\"\n",
              "            title=\"Suggest charts\"\n",
              "            style=\"display:none;\">\n",
              "\n",
              "<svg xmlns=\"http://www.w3.org/2000/svg\" height=\"24px\"viewBox=\"0 0 24 24\"\n",
              "     width=\"24px\">\n",
              "    <g>\n",
              "        <path d=\"M19 3H5c-1.1 0-2 .9-2 2v14c0 1.1.9 2 2 2h14c1.1 0 2-.9 2-2V5c0-1.1-.9-2-2-2zM9 17H7v-7h2v7zm4 0h-2V7h2v10zm4 0h-2v-4h2v4z\"/>\n",
              "    </g>\n",
              "</svg>\n",
              "  </button>\n",
              "\n",
              "<style>\n",
              "  .colab-df-quickchart {\n",
              "      --bg-color: #E8F0FE;\n",
              "      --fill-color: #1967D2;\n",
              "      --hover-bg-color: #E2EBFA;\n",
              "      --hover-fill-color: #174EA6;\n",
              "      --disabled-fill-color: #AAA;\n",
              "      --disabled-bg-color: #DDD;\n",
              "  }\n",
              "\n",
              "  [theme=dark] .colab-df-quickchart {\n",
              "      --bg-color: #3B4455;\n",
              "      --fill-color: #D2E3FC;\n",
              "      --hover-bg-color: #434B5C;\n",
              "      --hover-fill-color: #FFFFFF;\n",
              "      --disabled-bg-color: #3B4455;\n",
              "      --disabled-fill-color: #666;\n",
              "  }\n",
              "\n",
              "  .colab-df-quickchart {\n",
              "    background-color: var(--bg-color);\n",
              "    border: none;\n",
              "    border-radius: 50%;\n",
              "    cursor: pointer;\n",
              "    display: none;\n",
              "    fill: var(--fill-color);\n",
              "    height: 32px;\n",
              "    padding: 0;\n",
              "    width: 32px;\n",
              "  }\n",
              "\n",
              "  .colab-df-quickchart:hover {\n",
              "    background-color: var(--hover-bg-color);\n",
              "    box-shadow: 0 1px 2px rgba(60, 64, 67, 0.3), 0 1px 3px 1px rgba(60, 64, 67, 0.15);\n",
              "    fill: var(--button-hover-fill-color);\n",
              "  }\n",
              "\n",
              "  .colab-df-quickchart-complete:disabled,\n",
              "  .colab-df-quickchart-complete:disabled:hover {\n",
              "    background-color: var(--disabled-bg-color);\n",
              "    fill: var(--disabled-fill-color);\n",
              "    box-shadow: none;\n",
              "  }\n",
              "\n",
              "  .colab-df-spinner {\n",
              "    border: 2px solid var(--fill-color);\n",
              "    border-color: transparent;\n",
              "    border-bottom-color: var(--fill-color);\n",
              "    animation:\n",
              "      spin 1s steps(1) infinite;\n",
              "  }\n",
              "\n",
              "  @keyframes spin {\n",
              "    0% {\n",
              "      border-color: transparent;\n",
              "      border-bottom-color: var(--fill-color);\n",
              "      border-left-color: var(--fill-color);\n",
              "    }\n",
              "    20% {\n",
              "      border-color: transparent;\n",
              "      border-left-color: var(--fill-color);\n",
              "      border-top-color: var(--fill-color);\n",
              "    }\n",
              "    30% {\n",
              "      border-color: transparent;\n",
              "      border-left-color: var(--fill-color);\n",
              "      border-top-color: var(--fill-color);\n",
              "      border-right-color: var(--fill-color);\n",
              "    }\n",
              "    40% {\n",
              "      border-color: transparent;\n",
              "      border-right-color: var(--fill-color);\n",
              "      border-top-color: var(--fill-color);\n",
              "    }\n",
              "    60% {\n",
              "      border-color: transparent;\n",
              "      border-right-color: var(--fill-color);\n",
              "    }\n",
              "    80% {\n",
              "      border-color: transparent;\n",
              "      border-right-color: var(--fill-color);\n",
              "      border-bottom-color: var(--fill-color);\n",
              "    }\n",
              "    90% {\n",
              "      border-color: transparent;\n",
              "      border-bottom-color: var(--fill-color);\n",
              "    }\n",
              "  }\n",
              "</style>\n",
              "\n",
              "  <script>\n",
              "    async function quickchart(key) {\n",
              "      const quickchartButtonEl =\n",
              "        document.querySelector('#' + key + ' button');\n",
              "      quickchartButtonEl.disabled = true;  // To prevent multiple clicks.\n",
              "      quickchartButtonEl.classList.add('colab-df-spinner');\n",
              "      try {\n",
              "        const charts = await google.colab.kernel.invokeFunction(\n",
              "            'suggestCharts', [key], {});\n",
              "      } catch (error) {\n",
              "        console.error('Error during call to suggestCharts:', error);\n",
              "      }\n",
              "      quickchartButtonEl.classList.remove('colab-df-spinner');\n",
              "      quickchartButtonEl.classList.add('colab-df-quickchart-complete');\n",
              "    }\n",
              "    (() => {\n",
              "      let quickchartButtonEl =\n",
              "        document.querySelector('#df-8d258ee2-f284-405e-8504-1a60fb29cb68 button');\n",
              "      quickchartButtonEl.style.display =\n",
              "        google.colab.kernel.accessAllowed ? 'block' : 'none';\n",
              "    })();\n",
              "  </script>\n",
              "</div>\n",
              "    </div>\n",
              "  </div>\n"
            ]
          },
          "metadata": {},
          "execution_count": 22
        }
      ],
      "source": [
        "new = df[\"Часть речи\"].isin([\"ADJ\", \"NOUN\", \"PRON\", \"VERB\", \"ADP\"])\n",
        "df[new]"
      ]
    },
    {
      "cell_type": "markdown",
      "id": "df638e1c",
      "metadata": {
        "id": "df638e1c"
      },
      "source": [
        "**Задание 5.** Разметьте синтаксические отношения в тексте выше  при помощи spacy. У какого токена в тексте наибольшее количество дочерей? Вспомните, как с помощью этой библиотеки можно это выявить и напишите код. Выведите топ-10 слов с наибольшим количеством дочерей."
      ]
    },
    {
      "cell_type": "code",
      "execution_count": null,
      "id": "IeuuOFHNC3r_",
      "metadata": {
        "id": "IeuuOFHNC3r_"
      },
      "outputs": [],
      "source": [
        "!python -m spacy download ru_core_news_sm"
      ]
    },
    {
      "cell_type": "code",
      "execution_count": null,
      "id": "02d37c3a",
      "metadata": {
        "id": "02d37c3a"
      },
      "outputs": [],
      "source": [
        "! pip install spacy"
      ]
    },
    {
      "cell_type": "code",
      "execution_count": null,
      "id": "2f87e5a2",
      "metadata": {
        "id": "2f87e5a2"
      },
      "outputs": [],
      "source": [
        "import spacy\n",
        "nlp_rus = spacy.load('ru_core_news_sm')\n",
        "from spacy import displacy\n",
        "import re\n",
        "import pandas as pd"
      ]
    },
    {
      "cell_type": "code",
      "execution_count": null,
      "id": "0kK7HclyCsJI",
      "metadata": {
        "id": "0kK7HclyCsJI"
      },
      "outputs": [],
      "source": [
        "text = '''Впрочем, сам виноват, кругом виноват! Не пускаться бы на старости лет с клочком волос в амуры да в экивоки…\n",
        "И еще скажу, маточка: чуден иногда человек, очень чуден. И, святые вы мои! о чем заговорит, занесет подчас!\n",
        "А что выходит-то, что следует-то из этого? Да ровно ничего не следует, а выходит такая дрянь,\n",
        "что убереги меня, господи! Я, маточка, я не сержусь, а так досадно только очень вспоминать обо всем,\n",
        "досадно, что я вам написал так фигурно и глупо. И в должность-то я пошел сегодня таким гоголем-щеголем;\n",
        "сияние такое было на сердце. На душе ни с того ни с сего такой праздник был; весело было!\n",
        "За бумаги принялся рачительно — да что вышло-то потом из этого! Уж потом только как осмотрелся, так всё стало по-прежнему\n",
        "— и серенько и темненько. Всё те же чернильные пятна, всё те же столы и бумаги, да и я всё такой же;\n",
        "так, каким был, совершенно таким же и остался, — так чего же тут было на Пегасе-то ездить? Да из чего это вышло-то всё?\n",
        "Что солнышко проглянуло да небо полазоревело! от этого, что ли? Да и что за ароматы такие, когда на нашем дворе под окнами\n",
        "и чему-чему не случается быть! Знать, это мне всё сдуру так показалось. А ведь случается же иногда заблудиться так человеку\n",
        "в собственных чувствах своих да занести околесную. Это ни от чего иного происходит, как от излишней, глупой горячности сердца.\n",
        "Домой-то я не пришел, а приплелся; ни с того ни с сего голова у меня разболелась; уж это, знать, всё одно к одному.\n",
        "(В спину, что ли, надуло мне.) Я весне-то обрадовался, дурак дураком, да в холодной шинели пошел.\n",
        "И в чувствах-то вы моих ошиблись, родная моя! Излияние-то их совершенно в другую сторону приняли.\n",
        "Отеческая приязнь одушевляла меня, единственно чистая отеческая приязнь, Варвара Алексеевна;\n",
        "ибо я занимаю у вас место отца родного, по горькому сиротству вашему; говорю это от души,\n",
        "от чистого сердца, по-родственному. Уж как бы там ни было, а я вам хоть дальний родной, хоть, по пословице,\n",
        "и седьмая вода на киселе, а все-таки родственник, и теперь ближайший родственник и покровитель; ибо там,\n",
        "где вы ближе всего имели право искать покровительства и защиты, нашли вы предательство и обиду.\n",
        "А насчет стишков скажу я вам, маточка, что неприлично мне на старости лет в составлении стихов упражняться.\n",
        "Стихи вздор! За стишки и в школах теперь ребятишек секут… вот оно что, родная моя.'''"
      ]
    },
    {
      "cell_type": "code",
      "execution_count": null,
      "id": "o1ZRkq4OMRkq",
      "metadata": {
        "id": "o1ZRkq4OMRkq"
      },
      "outputs": [],
      "source": [
        "doc = nlp_rus(text)\n",
        "tokens_list = []\n",
        "numbers_list = []\n",
        "children_list = []\n",
        "for token in doc:\n",
        "\n",
        "    tokens_list.append(token)\n",
        "\n",
        "    children = [child for child in token.children]\n",
        "    children = [child for child in children if str(child)[0].isalpha()]\n",
        "\n",
        "    numbers_list.append(len([child for child in children]))\n",
        "    children_list.append(children)\n"
      ]
    },
    {
      "cell_type": "code",
      "execution_count": null,
      "id": "hsexqtTCKGIE",
      "metadata": {
        "id": "hsexqtTCKGIE",
        "scrolled": true
      },
      "outputs": [],
      "source": [
        "df = pd.DataFrame({\n",
        "        'Токен': tokens_list,\n",
        "        'Количество дочерей': numbers_list,\n",
        "        \"Дочери\": children_list})"
      ]
    },
    {
      "cell_type": "code",
      "execution_count": null,
      "id": "NBep0dpSLbp6",
      "metadata": {
        "colab": {
          "base_uri": "https://localhost:8080/",
          "height": 423
        },
        "id": "NBep0dpSLbp6",
        "outputId": "8cedd91d-f393-4bf5-f3e4-b3faba8d8c11"
      },
      "outputs": [
        {
          "output_type": "execute_result",
          "data": {
            "text/plain": [
              "       Токен  Количество дочерей                   Дочери\n",
              "0    Впрочем                   0                       []\n",
              "1          ,                   0                       []\n",
              "2        сам                   0                       []\n",
              "3    виноват                   3  [Впрочем, сам, виноват]\n",
              "4          ,                   0                       []\n",
              "..       ...                 ...                      ...\n",
              "531      что                   3          [вот, оно, моя]\n",
              "532        ,                   0                       []\n",
              "533   родная                   0                       []\n",
              "534      моя                   1                 [родная]\n",
              "535        .                   0                       []\n",
              "\n",
              "[536 rows x 3 columns]"
            ],
            "text/html": [
              "\n",
              "  <div id=\"df-36a4e183-0abd-477b-87cf-89ce83a04bdf\" class=\"colab-df-container\">\n",
              "    <div>\n",
              "<style scoped>\n",
              "    .dataframe tbody tr th:only-of-type {\n",
              "        vertical-align: middle;\n",
              "    }\n",
              "\n",
              "    .dataframe tbody tr th {\n",
              "        vertical-align: top;\n",
              "    }\n",
              "\n",
              "    .dataframe thead th {\n",
              "        text-align: right;\n",
              "    }\n",
              "</style>\n",
              "<table border=\"1\" class=\"dataframe\">\n",
              "  <thead>\n",
              "    <tr style=\"text-align: right;\">\n",
              "      <th></th>\n",
              "      <th>Токен</th>\n",
              "      <th>Количество дочерей</th>\n",
              "      <th>Дочери</th>\n",
              "    </tr>\n",
              "  </thead>\n",
              "  <tbody>\n",
              "    <tr>\n",
              "      <th>0</th>\n",
              "      <td>Впрочем</td>\n",
              "      <td>0</td>\n",
              "      <td>[]</td>\n",
              "    </tr>\n",
              "    <tr>\n",
              "      <th>1</th>\n",
              "      <td>,</td>\n",
              "      <td>0</td>\n",
              "      <td>[]</td>\n",
              "    </tr>\n",
              "    <tr>\n",
              "      <th>2</th>\n",
              "      <td>сам</td>\n",
              "      <td>0</td>\n",
              "      <td>[]</td>\n",
              "    </tr>\n",
              "    <tr>\n",
              "      <th>3</th>\n",
              "      <td>виноват</td>\n",
              "      <td>3</td>\n",
              "      <td>[Впрочем, сам, виноват]</td>\n",
              "    </tr>\n",
              "    <tr>\n",
              "      <th>4</th>\n",
              "      <td>,</td>\n",
              "      <td>0</td>\n",
              "      <td>[]</td>\n",
              "    </tr>\n",
              "    <tr>\n",
              "      <th>...</th>\n",
              "      <td>...</td>\n",
              "      <td>...</td>\n",
              "      <td>...</td>\n",
              "    </tr>\n",
              "    <tr>\n",
              "      <th>531</th>\n",
              "      <td>что</td>\n",
              "      <td>3</td>\n",
              "      <td>[вот, оно, моя]</td>\n",
              "    </tr>\n",
              "    <tr>\n",
              "      <th>532</th>\n",
              "      <td>,</td>\n",
              "      <td>0</td>\n",
              "      <td>[]</td>\n",
              "    </tr>\n",
              "    <tr>\n",
              "      <th>533</th>\n",
              "      <td>родная</td>\n",
              "      <td>0</td>\n",
              "      <td>[]</td>\n",
              "    </tr>\n",
              "    <tr>\n",
              "      <th>534</th>\n",
              "      <td>моя</td>\n",
              "      <td>1</td>\n",
              "      <td>[родная]</td>\n",
              "    </tr>\n",
              "    <tr>\n",
              "      <th>535</th>\n",
              "      <td>.</td>\n",
              "      <td>0</td>\n",
              "      <td>[]</td>\n",
              "    </tr>\n",
              "  </tbody>\n",
              "</table>\n",
              "<p>536 rows × 3 columns</p>\n",
              "</div>\n",
              "    <div class=\"colab-df-buttons\">\n",
              "\n",
              "  <div class=\"colab-df-container\">\n",
              "    <button class=\"colab-df-convert\" onclick=\"convertToInteractive('df-36a4e183-0abd-477b-87cf-89ce83a04bdf')\"\n",
              "            title=\"Convert this dataframe to an interactive table.\"\n",
              "            style=\"display:none;\">\n",
              "\n",
              "  <svg xmlns=\"http://www.w3.org/2000/svg\" height=\"24px\" viewBox=\"0 -960 960 960\">\n",
              "    <path d=\"M120-120v-720h720v720H120Zm60-500h600v-160H180v160Zm220 220h160v-160H400v160Zm0 220h160v-160H400v160ZM180-400h160v-160H180v160Zm440 0h160v-160H620v160ZM180-180h160v-160H180v160Zm440 0h160v-160H620v160Z\"/>\n",
              "  </svg>\n",
              "    </button>\n",
              "\n",
              "  <style>\n",
              "    .colab-df-container {\n",
              "      display:flex;\n",
              "      gap: 12px;\n",
              "    }\n",
              "\n",
              "    .colab-df-convert {\n",
              "      background-color: #E8F0FE;\n",
              "      border: none;\n",
              "      border-radius: 50%;\n",
              "      cursor: pointer;\n",
              "      display: none;\n",
              "      fill: #1967D2;\n",
              "      height: 32px;\n",
              "      padding: 0 0 0 0;\n",
              "      width: 32px;\n",
              "    }\n",
              "\n",
              "    .colab-df-convert:hover {\n",
              "      background-color: #E2EBFA;\n",
              "      box-shadow: 0px 1px 2px rgba(60, 64, 67, 0.3), 0px 1px 3px 1px rgba(60, 64, 67, 0.15);\n",
              "      fill: #174EA6;\n",
              "    }\n",
              "\n",
              "    .colab-df-buttons div {\n",
              "      margin-bottom: 4px;\n",
              "    }\n",
              "\n",
              "    [theme=dark] .colab-df-convert {\n",
              "      background-color: #3B4455;\n",
              "      fill: #D2E3FC;\n",
              "    }\n",
              "\n",
              "    [theme=dark] .colab-df-convert:hover {\n",
              "      background-color: #434B5C;\n",
              "      box-shadow: 0px 1px 3px 1px rgba(0, 0, 0, 0.15);\n",
              "      filter: drop-shadow(0px 1px 2px rgba(0, 0, 0, 0.3));\n",
              "      fill: #FFFFFF;\n",
              "    }\n",
              "  </style>\n",
              "\n",
              "    <script>\n",
              "      const buttonEl =\n",
              "        document.querySelector('#df-36a4e183-0abd-477b-87cf-89ce83a04bdf button.colab-df-convert');\n",
              "      buttonEl.style.display =\n",
              "        google.colab.kernel.accessAllowed ? 'block' : 'none';\n",
              "\n",
              "      async function convertToInteractive(key) {\n",
              "        const element = document.querySelector('#df-36a4e183-0abd-477b-87cf-89ce83a04bdf');\n",
              "        const dataTable =\n",
              "          await google.colab.kernel.invokeFunction('convertToInteractive',\n",
              "                                                    [key], {});\n",
              "        if (!dataTable) return;\n",
              "\n",
              "        const docLinkHtml = 'Like what you see? Visit the ' +\n",
              "          '<a target=\"_blank\" href=https://colab.research.google.com/notebooks/data_table.ipynb>data table notebook</a>'\n",
              "          + ' to learn more about interactive tables.';\n",
              "        element.innerHTML = '';\n",
              "        dataTable['output_type'] = 'display_data';\n",
              "        await google.colab.output.renderOutput(dataTable, element);\n",
              "        const docLink = document.createElement('div');\n",
              "        docLink.innerHTML = docLinkHtml;\n",
              "        element.appendChild(docLink);\n",
              "      }\n",
              "    </script>\n",
              "  </div>\n",
              "\n",
              "\n",
              "<div id=\"df-7270bbad-1e41-4e05-93ad-b2666a00c3fe\">\n",
              "  <button class=\"colab-df-quickchart\" onclick=\"quickchart('df-7270bbad-1e41-4e05-93ad-b2666a00c3fe')\"\n",
              "            title=\"Suggest charts\"\n",
              "            style=\"display:none;\">\n",
              "\n",
              "<svg xmlns=\"http://www.w3.org/2000/svg\" height=\"24px\"viewBox=\"0 0 24 24\"\n",
              "     width=\"24px\">\n",
              "    <g>\n",
              "        <path d=\"M19 3H5c-1.1 0-2 .9-2 2v14c0 1.1.9 2 2 2h14c1.1 0 2-.9 2-2V5c0-1.1-.9-2-2-2zM9 17H7v-7h2v7zm4 0h-2V7h2v10zm4 0h-2v-4h2v4z\"/>\n",
              "    </g>\n",
              "</svg>\n",
              "  </button>\n",
              "\n",
              "<style>\n",
              "  .colab-df-quickchart {\n",
              "      --bg-color: #E8F0FE;\n",
              "      --fill-color: #1967D2;\n",
              "      --hover-bg-color: #E2EBFA;\n",
              "      --hover-fill-color: #174EA6;\n",
              "      --disabled-fill-color: #AAA;\n",
              "      --disabled-bg-color: #DDD;\n",
              "  }\n",
              "\n",
              "  [theme=dark] .colab-df-quickchart {\n",
              "      --bg-color: #3B4455;\n",
              "      --fill-color: #D2E3FC;\n",
              "      --hover-bg-color: #434B5C;\n",
              "      --hover-fill-color: #FFFFFF;\n",
              "      --disabled-bg-color: #3B4455;\n",
              "      --disabled-fill-color: #666;\n",
              "  }\n",
              "\n",
              "  .colab-df-quickchart {\n",
              "    background-color: var(--bg-color);\n",
              "    border: none;\n",
              "    border-radius: 50%;\n",
              "    cursor: pointer;\n",
              "    display: none;\n",
              "    fill: var(--fill-color);\n",
              "    height: 32px;\n",
              "    padding: 0;\n",
              "    width: 32px;\n",
              "  }\n",
              "\n",
              "  .colab-df-quickchart:hover {\n",
              "    background-color: var(--hover-bg-color);\n",
              "    box-shadow: 0 1px 2px rgba(60, 64, 67, 0.3), 0 1px 3px 1px rgba(60, 64, 67, 0.15);\n",
              "    fill: var(--button-hover-fill-color);\n",
              "  }\n",
              "\n",
              "  .colab-df-quickchart-complete:disabled,\n",
              "  .colab-df-quickchart-complete:disabled:hover {\n",
              "    background-color: var(--disabled-bg-color);\n",
              "    fill: var(--disabled-fill-color);\n",
              "    box-shadow: none;\n",
              "  }\n",
              "\n",
              "  .colab-df-spinner {\n",
              "    border: 2px solid var(--fill-color);\n",
              "    border-color: transparent;\n",
              "    border-bottom-color: var(--fill-color);\n",
              "    animation:\n",
              "      spin 1s steps(1) infinite;\n",
              "  }\n",
              "\n",
              "  @keyframes spin {\n",
              "    0% {\n",
              "      border-color: transparent;\n",
              "      border-bottom-color: var(--fill-color);\n",
              "      border-left-color: var(--fill-color);\n",
              "    }\n",
              "    20% {\n",
              "      border-color: transparent;\n",
              "      border-left-color: var(--fill-color);\n",
              "      border-top-color: var(--fill-color);\n",
              "    }\n",
              "    30% {\n",
              "      border-color: transparent;\n",
              "      border-left-color: var(--fill-color);\n",
              "      border-top-color: var(--fill-color);\n",
              "      border-right-color: var(--fill-color);\n",
              "    }\n",
              "    40% {\n",
              "      border-color: transparent;\n",
              "      border-right-color: var(--fill-color);\n",
              "      border-top-color: var(--fill-color);\n",
              "    }\n",
              "    60% {\n",
              "      border-color: transparent;\n",
              "      border-right-color: var(--fill-color);\n",
              "    }\n",
              "    80% {\n",
              "      border-color: transparent;\n",
              "      border-right-color: var(--fill-color);\n",
              "      border-bottom-color: var(--fill-color);\n",
              "    }\n",
              "    90% {\n",
              "      border-color: transparent;\n",
              "      border-bottom-color: var(--fill-color);\n",
              "    }\n",
              "  }\n",
              "</style>\n",
              "\n",
              "  <script>\n",
              "    async function quickchart(key) {\n",
              "      const quickchartButtonEl =\n",
              "        document.querySelector('#' + key + ' button');\n",
              "      quickchartButtonEl.disabled = true;  // To prevent multiple clicks.\n",
              "      quickchartButtonEl.classList.add('colab-df-spinner');\n",
              "      try {\n",
              "        const charts = await google.colab.kernel.invokeFunction(\n",
              "            'suggestCharts', [key], {});\n",
              "      } catch (error) {\n",
              "        console.error('Error during call to suggestCharts:', error);\n",
              "      }\n",
              "      quickchartButtonEl.classList.remove('colab-df-spinner');\n",
              "      quickchartButtonEl.classList.add('colab-df-quickchart-complete');\n",
              "    }\n",
              "    (() => {\n",
              "      let quickchartButtonEl =\n",
              "        document.querySelector('#df-7270bbad-1e41-4e05-93ad-b2666a00c3fe button');\n",
              "      quickchartButtonEl.style.display =\n",
              "        google.colab.kernel.accessAllowed ? 'block' : 'none';\n",
              "    })();\n",
              "  </script>\n",
              "</div>\n",
              "    </div>\n",
              "  </div>\n"
            ]
          },
          "metadata": {},
          "execution_count": 29
        }
      ],
      "source": [
        "df"
      ]
    },
    {
      "cell_type": "markdown",
      "id": "6O8mnYR6OQJl",
      "metadata": {
        "id": "6O8mnYR6OQJl"
      },
      "source": [
        "**Ответ:** максимальное количество дочерей у токенов \"пошел\" и \"пришел\" - по 8"
      ]
    },
    {
      "cell_type": "code",
      "execution_count": null,
      "id": "LjyUHo6nNXKE",
      "metadata": {
        "colab": {
          "base_uri": "https://localhost:8080/",
          "height": 363
        },
        "id": "LjyUHo6nNXKE",
        "outputId": "bd14af1a-6120-45ad-ba76-3f6b1e98999f"
      },
      "outputs": [
        {
          "output_type": "execute_result",
          "data": {
            "text/plain": [
              "          Токен  Количество дочерей  \\\n",
              "316      пришел                   8   \n",
              "117       пошел                   8   \n",
              "169       стало                   7   \n",
              "266   случается                   7   \n",
              "184       пятна                   6   \n",
              "377    ошиблись                   6   \n",
              "222      ездить                   6   \n",
              "499       скажу                   6   \n",
              "447      родной                   5   \n",
              "276  показалось                   5   \n",
              "\n",
              "                                                Дочери  \n",
              "316  [Домой, то, я, не, приплелся, разболелась, зна...  \n",
              "117  [И, должность, то, я, сегодня, гоголем, щеголе...  \n",
              "169  [потом, осмотрелся, так, всё, по, прежнему, се...  \n",
              "266            [когда, дворе, и, чему, чему, не, быть]  \n",
              "184        [Всё, те, чернильные, столы, бумаги, такой]  \n",
              "377                   [И, чувствах, то, вы, моих, моя]  \n",
              "222                 [так, чего, тут, было, Пегасе, то]  \n",
              "499          [А, стишков, я, вам, маточка, неприлично]  \n",
              "447                    [а, я, вам, дальний, пословице]  \n",
              "276                      [Знать, это, мне, сдуру, так]  "
            ],
            "text/html": [
              "\n",
              "  <div id=\"df-6918a81f-dd85-4535-8ecf-d36c3d4f1893\" class=\"colab-df-container\">\n",
              "    <div>\n",
              "<style scoped>\n",
              "    .dataframe tbody tr th:only-of-type {\n",
              "        vertical-align: middle;\n",
              "    }\n",
              "\n",
              "    .dataframe tbody tr th {\n",
              "        vertical-align: top;\n",
              "    }\n",
              "\n",
              "    .dataframe thead th {\n",
              "        text-align: right;\n",
              "    }\n",
              "</style>\n",
              "<table border=\"1\" class=\"dataframe\">\n",
              "  <thead>\n",
              "    <tr style=\"text-align: right;\">\n",
              "      <th></th>\n",
              "      <th>Токен</th>\n",
              "      <th>Количество дочерей</th>\n",
              "      <th>Дочери</th>\n",
              "    </tr>\n",
              "  </thead>\n",
              "  <tbody>\n",
              "    <tr>\n",
              "      <th>316</th>\n",
              "      <td>пришел</td>\n",
              "      <td>8</td>\n",
              "      <td>[Домой, то, я, не, приплелся, разболелась, зна...</td>\n",
              "    </tr>\n",
              "    <tr>\n",
              "      <th>117</th>\n",
              "      <td>пошел</td>\n",
              "      <td>8</td>\n",
              "      <td>[И, должность, то, я, сегодня, гоголем, щеголе...</td>\n",
              "    </tr>\n",
              "    <tr>\n",
              "      <th>169</th>\n",
              "      <td>стало</td>\n",
              "      <td>7</td>\n",
              "      <td>[потом, осмотрелся, так, всё, по, прежнему, се...</td>\n",
              "    </tr>\n",
              "    <tr>\n",
              "      <th>266</th>\n",
              "      <td>случается</td>\n",
              "      <td>7</td>\n",
              "      <td>[когда, дворе, и, чему, чему, не, быть]</td>\n",
              "    </tr>\n",
              "    <tr>\n",
              "      <th>184</th>\n",
              "      <td>пятна</td>\n",
              "      <td>6</td>\n",
              "      <td>[Всё, те, чернильные, столы, бумаги, такой]</td>\n",
              "    </tr>\n",
              "    <tr>\n",
              "      <th>377</th>\n",
              "      <td>ошиблись</td>\n",
              "      <td>6</td>\n",
              "      <td>[И, чувствах, то, вы, моих, моя]</td>\n",
              "    </tr>\n",
              "    <tr>\n",
              "      <th>222</th>\n",
              "      <td>ездить</td>\n",
              "      <td>6</td>\n",
              "      <td>[так, чего, тут, было, Пегасе, то]</td>\n",
              "    </tr>\n",
              "    <tr>\n",
              "      <th>499</th>\n",
              "      <td>скажу</td>\n",
              "      <td>6</td>\n",
              "      <td>[А, стишков, я, вам, маточка, неприлично]</td>\n",
              "    </tr>\n",
              "    <tr>\n",
              "      <th>447</th>\n",
              "      <td>родной</td>\n",
              "      <td>5</td>\n",
              "      <td>[а, я, вам, дальний, пословице]</td>\n",
              "    </tr>\n",
              "    <tr>\n",
              "      <th>276</th>\n",
              "      <td>показалось</td>\n",
              "      <td>5</td>\n",
              "      <td>[Знать, это, мне, сдуру, так]</td>\n",
              "    </tr>\n",
              "  </tbody>\n",
              "</table>\n",
              "</div>\n",
              "    <div class=\"colab-df-buttons\">\n",
              "\n",
              "  <div class=\"colab-df-container\">\n",
              "    <button class=\"colab-df-convert\" onclick=\"convertToInteractive('df-6918a81f-dd85-4535-8ecf-d36c3d4f1893')\"\n",
              "            title=\"Convert this dataframe to an interactive table.\"\n",
              "            style=\"display:none;\">\n",
              "\n",
              "  <svg xmlns=\"http://www.w3.org/2000/svg\" height=\"24px\" viewBox=\"0 -960 960 960\">\n",
              "    <path d=\"M120-120v-720h720v720H120Zm60-500h600v-160H180v160Zm220 220h160v-160H400v160Zm0 220h160v-160H400v160ZM180-400h160v-160H180v160Zm440 0h160v-160H620v160ZM180-180h160v-160H180v160Zm440 0h160v-160H620v160Z\"/>\n",
              "  </svg>\n",
              "    </button>\n",
              "\n",
              "  <style>\n",
              "    .colab-df-container {\n",
              "      display:flex;\n",
              "      gap: 12px;\n",
              "    }\n",
              "\n",
              "    .colab-df-convert {\n",
              "      background-color: #E8F0FE;\n",
              "      border: none;\n",
              "      border-radius: 50%;\n",
              "      cursor: pointer;\n",
              "      display: none;\n",
              "      fill: #1967D2;\n",
              "      height: 32px;\n",
              "      padding: 0 0 0 0;\n",
              "      width: 32px;\n",
              "    }\n",
              "\n",
              "    .colab-df-convert:hover {\n",
              "      background-color: #E2EBFA;\n",
              "      box-shadow: 0px 1px 2px rgba(60, 64, 67, 0.3), 0px 1px 3px 1px rgba(60, 64, 67, 0.15);\n",
              "      fill: #174EA6;\n",
              "    }\n",
              "\n",
              "    .colab-df-buttons div {\n",
              "      margin-bottom: 4px;\n",
              "    }\n",
              "\n",
              "    [theme=dark] .colab-df-convert {\n",
              "      background-color: #3B4455;\n",
              "      fill: #D2E3FC;\n",
              "    }\n",
              "\n",
              "    [theme=dark] .colab-df-convert:hover {\n",
              "      background-color: #434B5C;\n",
              "      box-shadow: 0px 1px 3px 1px rgba(0, 0, 0, 0.15);\n",
              "      filter: drop-shadow(0px 1px 2px rgba(0, 0, 0, 0.3));\n",
              "      fill: #FFFFFF;\n",
              "    }\n",
              "  </style>\n",
              "\n",
              "    <script>\n",
              "      const buttonEl =\n",
              "        document.querySelector('#df-6918a81f-dd85-4535-8ecf-d36c3d4f1893 button.colab-df-convert');\n",
              "      buttonEl.style.display =\n",
              "        google.colab.kernel.accessAllowed ? 'block' : 'none';\n",
              "\n",
              "      async function convertToInteractive(key) {\n",
              "        const element = document.querySelector('#df-6918a81f-dd85-4535-8ecf-d36c3d4f1893');\n",
              "        const dataTable =\n",
              "          await google.colab.kernel.invokeFunction('convertToInteractive',\n",
              "                                                    [key], {});\n",
              "        if (!dataTable) return;\n",
              "\n",
              "        const docLinkHtml = 'Like what you see? Visit the ' +\n",
              "          '<a target=\"_blank\" href=https://colab.research.google.com/notebooks/data_table.ipynb>data table notebook</a>'\n",
              "          + ' to learn more about interactive tables.';\n",
              "        element.innerHTML = '';\n",
              "        dataTable['output_type'] = 'display_data';\n",
              "        await google.colab.output.renderOutput(dataTable, element);\n",
              "        const docLink = document.createElement('div');\n",
              "        docLink.innerHTML = docLinkHtml;\n",
              "        element.appendChild(docLink);\n",
              "      }\n",
              "    </script>\n",
              "  </div>\n",
              "\n",
              "\n",
              "<div id=\"df-ccf58249-f5fb-43d3-9b99-84ae197a6029\">\n",
              "  <button class=\"colab-df-quickchart\" onclick=\"quickchart('df-ccf58249-f5fb-43d3-9b99-84ae197a6029')\"\n",
              "            title=\"Suggest charts\"\n",
              "            style=\"display:none;\">\n",
              "\n",
              "<svg xmlns=\"http://www.w3.org/2000/svg\" height=\"24px\"viewBox=\"0 0 24 24\"\n",
              "     width=\"24px\">\n",
              "    <g>\n",
              "        <path d=\"M19 3H5c-1.1 0-2 .9-2 2v14c0 1.1.9 2 2 2h14c1.1 0 2-.9 2-2V5c0-1.1-.9-2-2-2zM9 17H7v-7h2v7zm4 0h-2V7h2v10zm4 0h-2v-4h2v4z\"/>\n",
              "    </g>\n",
              "</svg>\n",
              "  </button>\n",
              "\n",
              "<style>\n",
              "  .colab-df-quickchart {\n",
              "      --bg-color: #E8F0FE;\n",
              "      --fill-color: #1967D2;\n",
              "      --hover-bg-color: #E2EBFA;\n",
              "      --hover-fill-color: #174EA6;\n",
              "      --disabled-fill-color: #AAA;\n",
              "      --disabled-bg-color: #DDD;\n",
              "  }\n",
              "\n",
              "  [theme=dark] .colab-df-quickchart {\n",
              "      --bg-color: #3B4455;\n",
              "      --fill-color: #D2E3FC;\n",
              "      --hover-bg-color: #434B5C;\n",
              "      --hover-fill-color: #FFFFFF;\n",
              "      --disabled-bg-color: #3B4455;\n",
              "      --disabled-fill-color: #666;\n",
              "  }\n",
              "\n",
              "  .colab-df-quickchart {\n",
              "    background-color: var(--bg-color);\n",
              "    border: none;\n",
              "    border-radius: 50%;\n",
              "    cursor: pointer;\n",
              "    display: none;\n",
              "    fill: var(--fill-color);\n",
              "    height: 32px;\n",
              "    padding: 0;\n",
              "    width: 32px;\n",
              "  }\n",
              "\n",
              "  .colab-df-quickchart:hover {\n",
              "    background-color: var(--hover-bg-color);\n",
              "    box-shadow: 0 1px 2px rgba(60, 64, 67, 0.3), 0 1px 3px 1px rgba(60, 64, 67, 0.15);\n",
              "    fill: var(--button-hover-fill-color);\n",
              "  }\n",
              "\n",
              "  .colab-df-quickchart-complete:disabled,\n",
              "  .colab-df-quickchart-complete:disabled:hover {\n",
              "    background-color: var(--disabled-bg-color);\n",
              "    fill: var(--disabled-fill-color);\n",
              "    box-shadow: none;\n",
              "  }\n",
              "\n",
              "  .colab-df-spinner {\n",
              "    border: 2px solid var(--fill-color);\n",
              "    border-color: transparent;\n",
              "    border-bottom-color: var(--fill-color);\n",
              "    animation:\n",
              "      spin 1s steps(1) infinite;\n",
              "  }\n",
              "\n",
              "  @keyframes spin {\n",
              "    0% {\n",
              "      border-color: transparent;\n",
              "      border-bottom-color: var(--fill-color);\n",
              "      border-left-color: var(--fill-color);\n",
              "    }\n",
              "    20% {\n",
              "      border-color: transparent;\n",
              "      border-left-color: var(--fill-color);\n",
              "      border-top-color: var(--fill-color);\n",
              "    }\n",
              "    30% {\n",
              "      border-color: transparent;\n",
              "      border-left-color: var(--fill-color);\n",
              "      border-top-color: var(--fill-color);\n",
              "      border-right-color: var(--fill-color);\n",
              "    }\n",
              "    40% {\n",
              "      border-color: transparent;\n",
              "      border-right-color: var(--fill-color);\n",
              "      border-top-color: var(--fill-color);\n",
              "    }\n",
              "    60% {\n",
              "      border-color: transparent;\n",
              "      border-right-color: var(--fill-color);\n",
              "    }\n",
              "    80% {\n",
              "      border-color: transparent;\n",
              "      border-right-color: var(--fill-color);\n",
              "      border-bottom-color: var(--fill-color);\n",
              "    }\n",
              "    90% {\n",
              "      border-color: transparent;\n",
              "      border-bottom-color: var(--fill-color);\n",
              "    }\n",
              "  }\n",
              "</style>\n",
              "\n",
              "  <script>\n",
              "    async function quickchart(key) {\n",
              "      const quickchartButtonEl =\n",
              "        document.querySelector('#' + key + ' button');\n",
              "      quickchartButtonEl.disabled = true;  // To prevent multiple clicks.\n",
              "      quickchartButtonEl.classList.add('colab-df-spinner');\n",
              "      try {\n",
              "        const charts = await google.colab.kernel.invokeFunction(\n",
              "            'suggestCharts', [key], {});\n",
              "      } catch (error) {\n",
              "        console.error('Error during call to suggestCharts:', error);\n",
              "      }\n",
              "      quickchartButtonEl.classList.remove('colab-df-spinner');\n",
              "      quickchartButtonEl.classList.add('colab-df-quickchart-complete');\n",
              "    }\n",
              "    (() => {\n",
              "      let quickchartButtonEl =\n",
              "        document.querySelector('#df-ccf58249-f5fb-43d3-9b99-84ae197a6029 button');\n",
              "      quickchartButtonEl.style.display =\n",
              "        google.colab.kernel.accessAllowed ? 'block' : 'none';\n",
              "    })();\n",
              "  </script>\n",
              "</div>\n",
              "    </div>\n",
              "  </div>\n"
            ]
          },
          "metadata": {},
          "execution_count": 30
        }
      ],
      "source": [
        "answer = df.sort_values(by='Количество дочерей', ascending=False)\n",
        "answer.head(10)"
      ]
    },
    {
      "cell_type": "markdown",
      "id": "7fcf5146",
      "metadata": {
        "id": "7fcf5146"
      },
      "source": [
        "**Ответ**: синтаксические отношения"
      ]
    },
    {
      "cell_type": "code",
      "execution_count": null,
      "id": "7ycDs2kmOae8",
      "metadata": {
        "id": "7ycDs2kmOae8"
      },
      "outputs": [],
      "source": [
        "doc = nlp_rus(text)\n",
        "token_ = []\n",
        "pos_ = []\n",
        "dep_ = []\n",
        "head_ = []\n",
        "head_pos = []\n",
        "children_ = []\n",
        "children_number = []\n",
        "for token in doc:\n",
        "    token_.append(token.text)\n",
        "    pos_.append(token.pos_)\n",
        "    dep_.append(token.dep_)\n",
        "    head_.append(token.head.text)\n",
        "    head_pos.append(token.head.pos_)\n",
        "\n",
        "    children = [child for child in token.children]\n",
        "    children = [child for child in children if str(child)[0].isalpha()]\n",
        "    children_.append([child for child in children])\n",
        "    children_number.append(len([child for child in children]))\n",
        "\n",
        "pd.DataFrame({\n",
        "    \"token\": token_,\n",
        "    \"pos\": pos_,\n",
        "    \"dep\": dep_,\n",
        "    \"head\": head_,\n",
        "    \"head_pos\": head_pos,\n",
        "    \"children\": children_,\n",
        "    \"children_number\": children_number\n",
        "})"
      ]
    },
    {
      "cell_type": "markdown",
      "id": "0d94d183",
      "metadata": {
        "id": "0d94d183"
      },
      "source": [
        "**Задание 6.** В приложенном к заданию файле выявите все коллокации при помощи трёх любых методов из тех, что мы обсуждали (возьмите из nltk метрики PMI, t-score, log-likelihood, стандартное отклонение или tf-idf)."
      ]
    },
    {
      "cell_type": "code",
      "execution_count": null,
      "id": "eaf58f15",
      "metadata": {
        "id": "eaf58f15"
      },
      "outputs": [],
      "source": [
        "with open('PDOprax1.txt', 'r', encoding = \"utf-8\") as f:\n",
        "    corpus = f.read()"
      ]
    },
    {
      "cell_type": "code",
      "execution_count": null,
      "id": "qC5hVIrjSsoQ",
      "metadata": {
        "id": "qC5hVIrjSsoQ"
      },
      "outputs": [],
      "source": [
        "!python -m spacy download ru_core_news_sm"
      ]
    },
    {
      "cell_type": "code",
      "execution_count": null,
      "id": "hstjESrrSaOX",
      "metadata": {
        "id": "hstjESrrSaOX",
        "outputId": "db250740-e9cc-4b35-fada-5c7c565bd95f"
      },
      "outputs": [
        {
          "name": "stdout",
          "output_type": "stream",
          "text": [
            "Collecting razdel\n",
            "  Using cached razdel-0.5.0-py3-none-any.whl (21 kB)\n",
            "Installing collected packages: razdel\n",
            "Successfully installed razdel-0.5.0\n"
          ]
        },
        {
          "name": "stderr",
          "output_type": "stream",
          "text": [
            "[nltk_data] Downloading package stopwords to\n",
            "[nltk_data]     C:\\Users\\1\\AppData\\Roaming\\nltk_data...\n",
            "[nltk_data]   Package stopwords is already up-to-date!\n"
          ]
        },
        {
          "data": {
            "text/plain": [
              "True"
            ]
          },
          "execution_count": 62,
          "metadata": {},
          "output_type": "execute_result"
        }
      ],
      "source": [
        "import itertools\n",
        "!pip install razdel\n",
        "from razdel import sentenize\n",
        "from razdel import tokenize as razdel_tokenize\n",
        "from collections import Counter, defaultdict\n",
        "import numpy as np\n",
        "import re\n",
        "from string import punctuation\n",
        "from nltk.corpus import stopwords\n",
        "import spacy\n",
        "import nltk\n",
        "nltk.download('stopwords')"
      ]
    },
    {
      "cell_type": "code",
      "execution_count": null,
      "id": "uq7KavJWSKGO",
      "metadata": {
        "id": "uq7KavJWSKGO"
      },
      "outputs": [],
      "source": [
        "stops = set(stopwords.words('russian') + [\"это\", \"весь\"])\n",
        "nlp = spacy.load(\"ru_core_news_sm\")\n",
        "\n",
        "def normalize(text):\n",
        "    doc = nlp(text)\n",
        "    list_of_lemmas = ' '.join([tok.lemma_ for tok in doc])\n",
        "    tokens = re.findall('[а-яёa-z0-9]+', list_of_lemmas.lower())\n",
        "    normalized_text = [word for word in tokens if len(word) > 2 and word not in stops]\n",
        "\n",
        "    return normalized_text\n",
        "\n",
        "def preprocess(text):\n",
        "    sents = sentenize(text)\n",
        "    return [normalize(sent.text) for sent in sents]\n",
        "\n",
        "def ngrammer(tokens, stops, n=2):\n",
        "    ngrams = []\n",
        "    tokens = [token for token in tokens if token not in stops]\n",
        "    for i in range(0,len(tokens)-n+1):\n",
        "        ngrams.append(tuple(tokens[i:i+n]))\n",
        "    return ngrams"
      ]
    },
    {
      "cell_type": "code",
      "execution_count": null,
      "id": "4ko7DPEkTu4O",
      "metadata": {
        "id": "4ko7DPEkTu4O"
      },
      "outputs": [],
      "source": [
        "corpus = preprocess(corpus)"
      ]
    },
    {
      "cell_type": "code",
      "execution_count": null,
      "id": "miGRXdrsTsnP",
      "metadata": {
        "id": "miGRXdrsTsnP",
        "outputId": "d6ff567d-78de-4389-be3a-d72b9d5a08c4"
      },
      "outputs": [
        {
          "data": {
            "text/plain": [
              "['справедливо', 'говорить', 'существование', 'российский', 'опенсорса']"
            ]
          },
          "execution_count": 72,
          "metadata": {},
          "output_type": "execute_result"
        }
      ],
      "source": [
        "corpus[0]"
      ]
    },
    {
      "cell_type": "code",
      "execution_count": null,
      "id": "5BFsGBDsWN2d",
      "metadata": {
        "id": "5BFsGBDsWN2d",
        "outputId": "3d743264-e736-42f6-9a09-f7035b4e82af"
      },
      "outputs": [
        {
          "data": {
            "text/plain": [
              "[(('чёрный', 'дыра'), 16),\n",
              " (('продолжительность', 'жизнь'), 11),\n",
              " (('год', 'нагаока'), 7),\n",
              " (('медиана', 'выживаемость'), 5),\n",
              " (('2018', 'год'), 5),\n",
              " (('postgres', 'pro'), 4),\n",
              " (('открытый', 'исходный'), 4),\n",
              " (('исходный', 'код'), 4),\n",
              " (('породистый', 'собака'), 4),\n",
              " (('современный', 'наука'), 4),\n",
              " (('вещество', 'вокруг'), 4),\n",
              " (('вокруг', 'чёрный'), 4),\n",
              " (('несколько', 'год'), 3),\n",
              " (('различный', 'научный'), 3),\n",
              " (('разный', 'порода'), 3)]"
            ]
          },
          "execution_count": 74,
          "metadata": {},
          "output_type": "execute_result"
        }
      ],
      "source": [
        "word_counter = Counter()\n",
        "\n",
        "for sent in corpus:\n",
        "    word_counter.update(ngrammer(sent, n=2, stops=stops))\n",
        "word_counter.most_common(15)"
      ]
    },
    {
      "cell_type": "markdown",
      "id": "lyP2DyrzWqXr",
      "metadata": {
        "id": "lyP2DyrzWqXr"
      },
      "source": [
        "**PMI**"
      ]
    },
    {
      "cell_type": "code",
      "execution_count": null,
      "id": "iAtt6t_rWVqE",
      "metadata": {
        "id": "iAtt6t_rWVqE"
      },
      "outputs": [],
      "source": [
        "def scorer_simple(word_count_a, word_count_b, bigram_count, *args):\n",
        "    try:\n",
        "        score = bigram_count / ((word_count_a+word_count_b))\n",
        "\n",
        "    except ZeroDivisionError:\n",
        "        return 0\n",
        "\n",
        "    return score\n",
        "\n",
        "def collect_stats(corpus, stops):\n",
        "    unigrams = Counter()\n",
        "    bigrams = Counter()\n",
        "\n",
        "    for sent in corpus:\n",
        "        unigrams.update(sent)\n",
        "        bigrams.update(ngrammer(sent, stops, 2))\n",
        "    return unigrams, bigrams\n",
        "\n",
        "def score_bigrams(unigrams, bigrams, scorer, threshold=-100000, min_count=1):\n",
        "    bigram2score = Counter()\n",
        "    len_vocab = len(unigrams)\n",
        "    for bigram in bigrams:\n",
        "        score = scorer(unigrams[bigram[0]], unigrams[bigram[1]],\n",
        "                       bigrams[bigram], len_vocab, min_count)\n",
        "\n",
        "        if score > threshold:\n",
        "            bigram2score[bigram] = score\n",
        "\n",
        "    return bigram2score"
      ]
    },
    {
      "cell_type": "code",
      "execution_count": null,
      "id": "NfVXKqs3WkxH",
      "metadata": {
        "id": "NfVXKqs3WkxH"
      },
      "outputs": [],
      "source": [
        "unigrams, bigrams = collect_stats(corpus, stops)"
      ]
    },
    {
      "cell_type": "code",
      "execution_count": null,
      "id": "qOzlfvOAWoCK",
      "metadata": {
        "collapsed": true,
        "id": "qOzlfvOAWoCK",
        "outputId": "eb608ad4-3a17-4b22-f64e-ee9760c50b5f"
      },
      "outputs": [
        {
          "name": "stdout",
          "output_type": "stream",
          "text": [
            "Counter({'год': 54, 'собака': 27, 'нагаока': 20, 'порода': 17, 'мочь': 16, 'чёрный': 16, 'дыра': 16, 'свой': 15, 'которые': 13, 'жизнь': 13, 'кольцо': 13, 'время': 12, 'ещё': 11, 'научный': 11, 'продолжительность': 11, 'японский': 11, 'модуль': 11, 'проект': 10, 'postgres': 10, 'ядро': 10, 'наука': 10, 'атом': 10, 'важный': 9, 'компания': 9, 'также': 9, 'изображение': 9, 'результат': 9, 'размер': 9, 'учёный': 9, 'статья': 9, 'eht': 9, 'открытый': 8, 'разработчик': 8, 'жить': 8, 'получить': 8, 'средний': 8, 'физика': 8, 'наблюдение': 8, 'код': 7, 'сообщество': 7, 'стать': 7, 'первый': 7, 'тысяча': 7, 'человек': 7, 'однако': 7, 'снимок': 7, 'процент': 7, 'разный': 7, 'долгий': 7, 'исследование': 7, 'данные': 7, 'медиана': 7, 'япония': 7, 'луна': 7, 'современный': 7, 'вокруг': 7, 'вещество': 7, 'конец': 6, 'россия': 6, 'история': 6, 'несколько': 6, 'число': 6, 'поэтому': 6, 'различный': 6, 'крупный': 6, 'arenadata': 6, 'скрещенных': 6, 'опубликовать': 6, 'форма': 6, 'европа': 6, 'масса': 6, 'новый': 6, 'резерфорд': 6, '2018': 6, 'больший': 5, 'именно': 5, 'хотеть': 5, 'вклад': 5, 'например': 5, 'наиболее': 5, 'который': 5, 'продукт': 5, 'сделать': 5, 'данным': 5, 'анализ': 5, 'данных': 5, 'риск': 5, 'британский': 5, 'зависеть': 5, 'мелкий': 5, 'морда': 5, 'ранний': 5, 'вид': 5, 'выживаемость': 5, 'породистый': 5, 'работать': 5, 'физический': 5, 'структура': 5, 'центр': 5, 'телескоп': 5, 'м87': 5, '2017': 5, 'яркость': 5, 'российский': 4, 'некоторый': 4, 'страна': 4, 'субд': 4, 'pro': 4, 'исходный': 4, 'благодаря': 4, 'работа': 4, 'путь': 4, 'команда': 4, 'вносить': 4, 'место': 4, 'система': 4, 'около': 4, 'группа': 4, 'высота': 4, 'университет': 4, 'голова': 4, 'оказаться': 4, 'находиться': 4, 'которое': 4, 'slim': 4, 'должный': 4, 'метр': 4, 'реальный': 4, 'lev': 4, 'диаметр': 4, 'век': 4, 'европейский': 4, 'физик': 4, 'написать': 4, 'танакадатэ': 4, 'частица': 4, 'электрон': 4, 'землетрясение': 4, 'волна': 4, 'яркий': 4, 'джет': 4, 'получиться': 4, 'существовать': 3, 'менее': 3, 'поддержка': 3, 'опенсорс': 3, 'другие': 3, 'помогать': 3, 'других': 3, 'мир': 3, 'принять': 3, 'позволить': 3, 'язык': 3, 'создание': 3, 'начало': 3, 'большой': 3, 'изменение': 3, 'занимать': 3, 'корпорация': 3, 'курс': 3, 'библиотека': 3, 'сегодня': 3, 'изучать': 3, 'образ': 3, 'предполагать': 3, 'модель': 3, 'великобритания': 3, 'сравнить': 3, 'чистокровный': 3, 'низкий': 3, 'смерть': 3, 'беспородный': 3, 'брахицефал': 3, 'подверженный': 3, 'влиять': 3, 'подобный': 3, 'которых': 3, 'период': 3, 'половина': 3, 'составить': 3, 'показать': 3, 'отличаться': 3, 'сильно': 3, 'мастиф': 3, 'сравнение': 3, 'эпоха': 3, 'назад': 3, 'растение': 3, 'далёкий': 3, 'поверхность': 3, 'батарея': 3, 'луноход': 3, 'орбита': 3, 'оснастить': 3, 'сторона': 3, 'целый': 3, 'смочь': 3, 'прогресс': 3, 'опираться': 3, 'идея': 3, 'знать': 3, 'природа': 3, 'познакомиться': 3, 'отец': 3, 'увидеть': 3, 'токийский': 3, 'руководство': 3, 'вращаться': 3, 'положительно': 3, 'общий': 3, 'коллаборация': 3, 'расстояние': 3, 'микросекунда': 3, 'параметр': 3, 'качество': 3, 'излучение': 3, 'теория': 3, 'обработать': 3, 'существование': 2, 'опенсорса': 2, 'единый': 2, 'противоречить': 2, 'отметить': 2, 'разработка': 2, 'появиться': 2, 'рассказать': 2, 'социально': 2, 'проблема': 2, 'развивать': 2, 'материал': 2, 'многие': 2, 'пора': 2, 'интерес': 2, 'одна': 2, 'олег': 2, 'бартунова': 2, 'событие': 2, 'сотня': 2, 'выдерживать': 2, 'нагрузка': 2, 'вместе': 2, 'основать': 2, 'активный': 2, 'среди': 2, 'собственный': 2, 'форк': 2, 'туда': 2, 'скорость': 2, 'сама': 2, 'протяжение': 2, 'второй': 2, 'мировой': 2, 'контрибьюторов': 2, 'помимо': 2, 'решение': 2, 'проводить': 2, 'учебный': 2, 'студент': 2, 'программа': 2, 'которая': 2, 'давать': 2, 'внести': 2, 'основа': 2, 'greenplum': 2, 'ведущий': 2, 'платформа': 2, 'предлагать': 2, 'развитие': 2, 'многих': 2, 'конечный': 2, 'цель': 2, 'внутри': 2, 'нередко': 2, 'заинтересованный': 2, 'поиск': 2, 'обычно': 2, 'часть': 2, 'пока': 2, 'другая': 2, 'изучение': 2, 'вестись': 2, 'пропасть': 2, 'фотография': 2, 'взаимодействие': 2, 'исследователь': 2, 'собрат': 2, 'пол': 2, 'выясниться': 2, 'автор': 2, 'выявить': 2, 'scientific': 2, 'reports': 2, 'домашний': 2, 'различаться': 2, 'кроме': 2, 'вроде': 2, 'бульдог': 2, 'заболевание': 2, 'тело': 2, 'согласно': 2, 'хотя': 2, 'животное': 2, 'коллега': 2, 'джон': 2, 'собрать': 2, 'ветеринарный': 2, 'одной': 2, 'скрещенные': 2, 'входить': 2, 'самка': 2, 'немного': 2, 'самец': 2, 'высоко': 2, 'значение': 2, 'медиан': 2, 'напротив': 2, 'кавказский': 2, 'овчарка': 2, 'канарский': 2, 'дог': 2, 'корсо': 2, 'терьер': 2, 'включать': 2, 'составлять': 2, 'вытянуть': 2, 'окружать': 2, 'секрет': 2, 'возникновение': 2, 'привести': 2, 'наш': 2, 'китайский': 2, 'неолит': 2, 'внимание': 2, 'зизифуса': 2, 'сообщаться': 2, 'ziziphus': 2, 'происходить': 2, 'территория': 2, 'китай': 2, 'судить': 2, 'точный': 2, 'нижний': 2, 'примерно': 2, 'культура': 2, 'западный': 2, 'высадиться': 2, 'солнечный': 2, 'вырабатывать': 2, 'электроэнергия': 2, 'перекувыркнуться': 2, 'высадка': 2, 'сбросить': 2, 'запустить': 2, 'сентябрь': 2, '2023': 2, 'создать': 2, 'посадка': 2, 'погрешность': 2, 'окололунный': 2, 'камера': 2, 'небольшой': 2, 'видимый': 2, 'связать': 2, 'топливо': 2, 'начать': 2, 'километр': 2, 'движение': 2, 'дуга': 2, 'пятый': 2, 'которой': 2, 'разбиться': 2, 'книга': 2, 'рассказывать': 2, 'неевропейский': 2, 'роль': 2, 'сыграть': 2, 'положить': 2, 'атомный': 2, 'реставрация': 2, 'мэйдзи': 2, 'химия': 2, 'изменить': 2, 'материя': 2, 'хантаро': 2, 'миссия': 2, 'первых': 2, 'вторых': 2, 'пример': 2, 'нагаоки': 2, 'известный': 2, 'нам': 2, '1896': 2, 'германия': 2, 'успешный': 2, 'публиковать': 2, 'доказать': 2, 'знание': 2, 'рубеж': 2, 'никакой': 2, 'продолжать': 2, 'письмо': 2, 'совершить': 2, 'прорыв': 2, 'представить': 2, 'описать': 2, 'действительный': 2, 'спор': 2, 'фундаментальный': 2, 'математический': 2, 'массивный': 2, 'заряженная': 2, 'особенно': 2, 'приобрести': 2, 'частность': 2, 'открыть': 2, 'многом': 2, 'гора': 2, 'измерить': 2, '1905': 2, 'электромагнитный': 2, 'утверждать': 2, 'гипотеза': 2, 'прохождение': 2, 'сейсмический': 2, 'дисперсия': 2, 'свет': 2, 'открытие': 2, 'строение': 2, 'нами': 2, '1911': 2, 'похожий': 2, 'ваш': 2, 'ссылка': 2, 'которую': 2, 'картинка': 2, 'градус': 2, 'против': 2, 'часовой': 2, 'стрелка': 2, 'земля': 2, 'нужный': 2, 'солнце': 2, 'газ': 2, 'вращение': 2, 'относительность': 2, 'подтвердиться': 2, 'подтвердить': 2, '1000': 2, 'распределение': 2, 'справедливо': 1, 'говорить': 1, 'мнение': 1, 'выделение': 1, 'локальный': 1, 'сегмент': 1, 'самому': 1, 'определение': 1, 'инициатива': 1, 'получать': 1, 'шесть': 1, 'примечательный': 1, 'международный': 1, 'концентрироваться': 1, 'упоминать': 1, 'отечественный': 1, 'уход': 1, 'зарубежный': 1, 'вендор': 1, 'недавний': 1, 'усилиться': 1, 'расти': 1, 'спрос': 1, 'выдающийся': 1, 'сфера': 1, '1997': 1, 'патч': 1, 'обеспечить': 1, 'восьмибитный': 1, 'кодировка': 1, 'символ': 1, 'использовать': 1, 'данными': 1, 'любой': 1, 'шаг': 1, 'нулевой': 1, 'новостной': 1, 'портал': 1, 'рамблер': 1, 'посещать': 1, 'пользователь': 1, 'день': 1, 'свести': 1, 'фёдор': 1, 'сигаева': 1, 'иван': 1, 'панченко': 1, '2014': 1, 'сформироваться': 1, 'коммитили': 1, 'потребность': 1, 'добавить': 1, 'требуемых': 1, 'функция': 1, 'правило': 1, 'никуда': 1, 'опередить': 1, 'зачастую': 1, 'трудиться': 1, 'энтузиаст': 1, 'профессионал': 1, 'форком': 1, 'конкретный': 1, 'значительно': 1, 'быстрый': 1, 'форка': 1, 'успевать': 1, 'синхронизироваться': 1, 'учитывать': 1, 'дополнение': 1, 'список': 1, 'заказчик': 1, 'сбербанк': 1, 'газпром': 1, 'нефть': 1, 'основный': 1, 'участвовать': 1, 'возможность': 1, 'выкладывать': 1, 'доступ': 1, 'обучать': 1, 'целое': 1, 'похожему': 1, 'двигаться': 1, 'взять': 1, 'mpp': 1, 'разрабатывать': 1, 'коммерческий': 1, 'подряд': 1, 'аналитик': 1, 'топ': 1, 'сбор': 1, 'хранение': 1, 'линейка': 1, 'программный': 1, 'интегрировать': 1, 'enterprise': 1, 'data': 1, 'platform': 1, 'edp': 1, 'база': 1, 'организовать': 1, 'митапы': 1, 'хакатоны': 1, 'сотрудничать': 1, 'вуз': 1, 'коммерциализация': 1, 'являться': 1, 'отнести': 1, 'scikit': 1, 'learn': 1, 'значимый': 1, 'фреймворки': 1, 'разработать': 1, 'сказать': 1, 'slovo': 1, 'решать': 1, 'социальный': 1, 'последний': 1, 'создаваться': 1, 'сила': 1, 'каждый': 1, 'пропадать': 1, '100': 1, 'метод': 1, 'выглядеть': 1, 'следующий': 1, 'поисковый': 1, 'прочёсывать': 1, 'локация': 1, 'пешком': 1, 'вручную': 1, 'просматривать': 1, 'местность': 1, 'беспилотник': 1, 'потенциально': 1, 'эффективный': 1, 'прямой': 1, 'съёмка': 1, 'крайне': 1, 'мало': 1, 'меньше': 1, 'спустя': 1, 'искать': 1, 'становиться': 1, 'трудный': 1, 'повышаться': 1, 'ошибиться': 1, 'заметить': 1, 'процесс': 1, 'автоматизировать': 1, 'анализировать': 1, 'помощь': 1, 'компьютерный': 1, 'зрение': 1, 'выделять': 1, 'фигура': 1, 'задача': 1, 'заниматься': 1, 'lacmus': 1, 'проанализировать': 1, 'цефалический': 1, 'индекс': 1, 'удлинённый': 1, 'сталкиваться': 1, 'высокий': 1, '400': 1, 'генетически': 1, 'canis': 1, 'lupus': 1, 'familiris': 1, 'внешне': 1, 'поведенчески': 1, 'показатель': 1, 'здоровье': 1, 'морфология': 1, 'плоский': 1, 'мордами': 1, 'мопс': 1, 'сильный': 1, 'свойственный': 1, 'млекопитающее': 1, 'парадоксально': 1, 'представителя': 1, 'часто': 1, 'сравнивать': 1, 'характерный': 1, 'кирстен': 1, 'макмиллан': 1, 'kirsten': 1, 'mcmillan': 1, 'благотворительный': 1, 'организация': 1, 'dogs': 1, 'trust': 1, 'ливерпульский': 1, 'имя': 1, 'мурса': 1, '585': 1, 'проживать': 1, 'включая': 1, '285': 1, 'умерших': 1, 'момент': 1, 'реестр': 1, 'университетский': 1, 'архив': 1, 'страхование': 1, 'разделить': 1, 'чистопородный': 1, 'родитель': 1, 'принадлежать': 1, 'метисы': 1, 'оценивать': 1, 'переживать': 1, 'детальный': 1, 'остальных': 1, 'среднее': 1, 'маленький': 1, 'кан': 1, 'сенбернар': 1, 'бульдоги': 1, 'ланкаширский': 1, 'хилер': 1, 'тибетский': 1, 'спаниель': 1, 'сиба': 1, 'ину': 1, 'папийон': 1, 'лейкленд': 1, 'схипперке': 1, 'бордер': 1, 'левретка': 1, 'карликовый': 1, 'такса': 1, 'филогенетический': 1, 'схожий': 1, 'филогенетически': 1, 'близкий': 1, 'локализовать': 1, 'предел': 1, 'клад': 1, 'третий': 1, 'неаполитанский': 1, 'кане': 1, 'ожидаться': 1, 'справедливый': 1, 'мезоцефальных': 1, 'длина': 1, 'долихоцефальный': 1, 'брахицефальный': 1, 'приплюснутой': 1, 'учитываться': 1, 'одновременно': 1, 'самыми': 1, 'долгоживущий': 1, 'репрезентативный': 1, 'проживание': 1, 'среда': 1, 'генофонд': 1, 'популяция': 1, 'распространять': 1, 'стоить': 1, 'осторожность': 1, 'разведение': 1, 'сопровождаться': 1, 'утрата': 1, 'генетический': 1, 'разнообразие': 1, 'приводить': 1, 'инбредной': 1, 'депрессия': 1, 'неприятный': 1, 'последствие': 1, 'искусственный': 1, 'отбор': 1, 'неожиданный': 1, 'черта': 1, 'незапланированный': 1, 'селекция': 1, 'почитать': 1, 'исследовать': 1, 'растительный': 1, 'остаток': 1, 'обнаружить': 1, 'памятниках': 1, 'долина': 1, 'река': 1, 'сосредоточить': 1, 'семя': 1, 'прийти': 1, 'вывод': 1, 'поздний': 1, '6200': 1, 'местный': 1, 'житель': 1, 'окультурить': 1, 'плод': 1, 'которого': 1, 'вкус': 1, 'называть': 1, 'финиками': 1, 'журнал': 1, 'настоящий': 1, 'зизифус': 1, 'jujuba': 1, 'экономически': 1, 'ценный': 1, 'плодовый': 1, 'окультуренное': 1, 'дикорастущий': 1, 'acidojujuba': 1, 'распространить': 1, 'палеоботаник': 1, 'предковый': 1, 'произрастали': 1, 'миоцен': 1, 'сей': 1, 'ответ': 1, 'доместицировали': 1, 'предполагаться': 1, 'произойти': 1, 'бассейн': 1, 'хуанхэ': 1, 'древнейшее': 1, 'письменный': 1, 'упоминание': 1, 'окультуренного': 1, 'датироваться': 1, 'видимому': 1, 'попасть': 1, 'соседний': 1, 'корея': 1, 'шёлковый': 1, 'центральный': 1, 'азия': 1, 'посадочный': 1, 'сайт': 1, 'jaxa': 1, 'smart': 1, 'lander': 1, 'for': 1, 'investigating': 1, 'moon': 1, 'космос': 1, 'аэрокосмический': 1, 'агентство': 1, 'протестировать': 1, 'технология': 1, 'высокоточный': 1, 'сто': 1, 'испытать': 1, 'навигационный': 1, 'зонд': 1, 'кагуя': 1, 'режим': 1, 'обеспечение': 1, 'мягкий': 1, 'пять': 1, 'разрушаемыми': 1, 'алюминиевый': 1, 'решетчатый': 1, 'опор': 1, 'сухой': 1, '200': 1, 'килограмм': 1, 'полезный': 1, 'мультиспектральный': 1, 'ретрорефлектор': 1, 'нестандартный': 1, 'прибор': 1, 'прыгать': 1, 'механизм': 1, 'обладать': 1, 'сферический': 1, 'зона': 1, 'выбрать': 1, 'край': 1, 'кратер': 1, 'сиори': 1, '300': 1, 'широта': 1, 'достигнуть': 1, 'длительный': 1, 'перелёт': 1, 'экономия': 1, 'затем': 1, 'круговой': 1, 'снижать': 1, 'январь': 1, '2024': 1, 'активировать': 1, 'двигатель': 1, 'семь': 1, 'вертикальный': 1, 'снижение': 1, 'финальный': 1, 'этап': 1, 'спуск': 1, 'отклониться': 1, 'вертикали': 1, 'прилунение': 1, 'прийтись': 1, 'опора': 1, 'московский': 1, 'коснуться': 1, 'удаться': 1, 'посадить': 1, 'аппарат': 1, 'дальнейший': 1, 'несмотря': 1, 'сесть': 1, 'означать': 1, 'определяться': 1, 'разряд': 1, 'аккумуляторный': 1, 'успеть': 1, 'оба': 1, 'передавать': 1, 'ранее': 1, 'лунный': 1, 'hakuto': 1, 'ispace': 1, 'попытаться': 1, 'нехватка': 1, 'считать': 1, 'возникнуть': 1, 'xvi': 1, 'историк': 1, 'джеймс': 1, 'поскетт': 1, 'уверенный': 1, 'научно': 1, 'технический': 1, 'обмен': 1, 'незападная': 1, 'открытия': 1, 'издательство': 1, 'альпина': 1, 'паблишер': 1, 'перевести': 1, 'русский': 1, 'ирина': 1, 'евстигнеев': 1, 'империализм': 1, 'рабство': 1, 'война': 1, 'деколонизация': 1, 'ознакомиться': 1, 'фрагмент': 1, 'посвятить': 1, 'японец': 1, 'пойти': 1, 'понимание': 1, 'самой': 1, 'которыми': 1, 'глава': 1, 'сын': 1, 'самурай': 1, 'родиться': 1, '1865': 1, 'представление': 1, 'детство': 1, 'поддержать': 1, '1871': 1, 'поручение': 1, 'император': 1, 'отправиться': 1, 'состав': 1, 'ивакуры': 1, 'преследовать': 1, 'двойной': 1, 'установить': 1, 'дипломатический': 1, 'отношение': 1, 'другими': 1, 'информация': 1, 'промышленность': 1, 'руководствоваться': 1, 'модернизационный': 1, 'реформа': 1, 'глубоко': 1, 'впечатлить': 1, 'привезти': 1, 'ребёнок': 1, 'купить': 1, 'англия': 1, 'совет': 1, '1882': 1, 'поступить': 1, 'факультет': 1, 'далее': 1, 'последовать': 1, '1893': 1, 'учиться': 1, 'австрия': 1, 'многими': 1, 'наставник': 1, 'осуществить': 1, 'интернациональный': 1, 'английский': 1, 'французский': 1, 'немецкий': 1, 'желать': 1, 'довольствоваться': 1, 'лишь': 1, 'заимствование': 1, 'достижение': 1, 'способный': 1, 'лидер': 1, 'следовать': 1, 'чужой': 1, 'стоп': 1, 'посвящать': 1, 'ввозу': 1, 'писать': 1, 'частный': 1, 'общение': 1, 'откровенный': 1, 'выражать': 1, 'смелый': 1, 'националистический': 1, 'позиция': 1, 'подкреплять': 1, 'желание': 1, 'причина': 1, 'европеец': 1, 'главенствовать': 1, 'всем': 1, 'друг': 1, 'айкицу': 1, 'вернуться': 1, 'домой': 1, 'немедленно': 1, 'должность': 1, 'профессор': 1, 'главный': 1, 'декабрь': 1, '1903': 1, 'математико': 1, 'общество': 1, 'доклад': 1, 'котором': 1, 'устройство': 1, 'химический': 1, 'ломать': 1, 'xix': 1, 'оживлённый': 1, 'дать': 1, 'рождение': 1, 'сложный': 1, 'расчёт': 1, 'состоять': 1, 'отрицательно': 1, 'зарядить': 1, 'заряженной': 1, 'сатурн': 1, 'планета': 1, 'кольцам': 1, 'сатурнианская': 1, 'назвать': 1, 'физически': 1, 'стабильный': 1, 'вдохновить': 1, 'присутствовать': 1, 'всемирный': 1, 'конгресс': 1, 'париж': 1, '1900': 1, 'джозеф': 1, 'томсон': 1, 'эксперимент': 1, 'катодный': 1, 'луч': 1, 'мышление': 1, 'сформировать': 1, 'незадолго': 1, 'отъезд': 1, 'присоединиться': 1, 'комитет': 1, 'расследование': 1, 'полгода': 1, 'путешествовать': 1, 'совершать': 1, 'дальний': 1, 'пеший': 1, 'переход': 1, 'карабкаться': 1, 'геомагнитный': 1, 'воздействие': 1, 'указать': 1, 'соавтор': 1, 'заключительный': 1, 'отчёт': 1, 'счёт': 1, '1891': 1, 'повлиять': 1, 'последующий': 1, 'размышление': 1, 'одну': 1, 'удивительный': 1, 'неудивительный': 1, 'обратиться': 1, 'сейсмология': 1, 'горе': 1, 'горный': 1, 'хребту': 1, 'рассеиваться': 1, '1906': 1, 'прямо': 1, 'объединить': 1, 'опыт': 1, 'одно': 1, 'очередной': 1, 'наглядно': 1, 'демонстрировать': 1, 'синтетический': 1, 'характер': 1, 'соединение': 1, 'дисциплина': 1, 'приписывать': 1, 'эрнест': 1, 'показательный': 1, 'вычеркнуть': 1, 'новаторский': 1, 'описание': 1, 'серия': 1, 'тема': 1, 'прекрасно': 1, 'осведомить': 1, 'делать': 1, 'встречаться': 1, 'обсудить': 1, '1910': 1, 'пригласить': 1, 'лаборатория': 1, 'манчестерский': 1, 'экспериментальный': 1, 'подтверждение': 1, 'февраль': 1, 'сообщить': 1, 'предстоящий': 1, 'публикация': 1, 'обнаружите': 1, 'мною': 1, 'предложить': 1, 'вами': 1, 'само': 1, 'разумеющееся': 1, 'включить': 1, 'оригинальный': 1, '1904': 1, 'резерфорда': 1, 'вновь': 1, 'раскрывать': 1, 'скрытый': 1, 'горизонт': 1, 'event': 1, 'horizon': 1, 'telescope': 1, 'сверхмассивный': 1, 'тень': 1, 'самое': 1, 'отличие': 1, 'светлый': 1, 'пятно': 1, 'сместиться': 1, 'густой': 1, 'почему': 1, 'радиотелескоп': 1, 'наблюдать': 1, 'объект': 1, 'разбираться': 1, 'звать': 1, 'михаил': 1, 'лисаков': 1, '2020': 1, 'вообще': 1, 'основной': 1, 'узкий': 1, 'пучок': 1, 'разгонять': 1, '999': 1, 'направить': 1, 'видный': 1, 'огромный': 1, 'служить': 1, 'маяк': 1, 'построение': 1, 'координата': 1, 'телефон': 1, 'определять': 1, 'местоположение': 1, 'геолокацию': 1, 'филигранный': 1, 'понять': 1, 'релятивистский': 1, 'разобраться': 1, 'запускать': 1, 'галактика': 1, 'миллиард': 1, 'динамика': 1, 'звезда': 1, 'аккрецирующего': 1, 'сохраняться': 1, 'записать': 1, 'учебник': 1, 'аккреция': 1, 'суперкомпьютер': 1, 'смоделировать': 1, 'падать': 1, 'идеальный': 1, 'большинство': 1, 'непохожими': 1, 'значить': 1, 'спин': 1, 'магнитный': 1, 'поле': 1, 'неправильный': 1, 'напоминать': 1, 'определить': 1, 'диапазон': 1, 'объясняться': 1, 'допплеровский': 1, 'усиление': 1, 'быстро': 1, 'замагничено': 1, 'опровергнуть': 1, 'гравитация': 1, 'точно': 1, 'кротовый': 1, 'нора': 1, 'голый': 1, 'сингулярность': 1, 'проверка': 1, 'обязательно': 1, 'перепроверять': 1, 'недавно': 1, 'высокотемпературный': 1, 'сверхпроводник': 1, 'проверить': 1, 'расстроиться': 1, 'случай': 1, 'аналогичный': 1, 'прошлый': 1, 'никто': 1, 'третьих': 1, 'хотеться': 1, 'ответить': 1, 'критика': 1, 'астроном': 1, 'макото': 1, 'миёси': 1, 'зато': 1, 'протяжённость': 1, '10000': 1, 'регистрировать': 1, 'найти': 1, 'ошибка': 1, 'алгоритмах': 1, 'шах': 1, 'мат': 1, 'четвёртый': 1, 'чувствительность': 1, 'увеличиться': 1, 'широкий': 1, 'полоса': 1, 'приём': 1, 'сигнал': 1, 'подключиться': 1, 'гренландия': 1, 'добавление': 1, 'одного': 1, 'увеличивать': 1, 'количество': 1, 'правда': 1, 'погода': 1, 'подвести': 1, 'согласованное': 1, 'алгоритм': 1, 'восемь': 1, 'уверенно': 1, 'восстановить': 1, 'кольцевой': 1, 'одинаковый': 1, 'напомнить': 1, 'интерферометр': 1, 'измерять': 1, 'амплитуда': 1, 'фаза': 1, 'пространственный': 1, 'частота': 1, 'получение': 1, 'постараться': 1, 'астрономический': 1, 'математик': 1, 'ожидать': 1, 'характеристика': 1, 'остаться': 1, 'неизменный': 1, 'неоднородная': 1, 'согласоваться': 1, 'выйти': 1, 'ото': 1, 'значимо': 1, 'поглощать': 1, 'очень': 1, 'медленно': 1, 'практически': 1, 'постоянно': 1, 'промежуток': 1, 'предыдущий': 1, 'измерение': 1, 'учёт': 1, 'неоднородный': 1, 'остановить': 1, 'существенно': 1, 'замедлить': 1, 'поменяться': 1, 'самая': 1, 'переместиться': 1, 'видно': 1, 'складываться': 1, 'тонкий': 1, 'фотонный': 1, 'размыть': 1, 'гравитационный': 1, 'линзированного': 1, 'однородный': 1, 'отражать': 1, 'меняться': 1, 'напрямую': 1, 'указание': 1, 'перемещение': 1})\n"
          ]
        }
      ],
      "source": [
        "print(unigrams)"
      ]
    },
    {
      "cell_type": "code",
      "execution_count": null,
      "id": "c11612a6",
      "metadata": {
        "collapsed": true,
        "id": "c11612a6",
        "outputId": "0fa58844-b451-4fd5-b24f-cf4d867827d0"
      },
      "outputs": [
        {
          "name": "stdout",
          "output_type": "stream",
          "text": [
            "Counter({('чёрный', 'дыра'): 16, ('продолжительность', 'жизнь'): 11, ('год', 'нагаока'): 7, ('медиана', 'выживаемость'): 5, ('2018', 'год'): 5, ('postgres', 'pro'): 4, ('открытый', 'исходный'): 4, ('исходный', 'код'): 4, ('породистый', 'собака'): 4, ('современный', 'наука'): 4, ('вещество', 'вокруг'): 4, ('вокруг', 'чёрный'): 4, ('несколько', 'год'): 3, ('различный', 'научный'): 3, ('разный', 'порода'): 3, ('мелкий', 'собака'): 3, ('риск', 'ранний'): 3, ('ранний', 'смерть'): 3, ('жить', 'долгий'): 3, ('форма', 'голова'): 3, ('собака', 'порода'): 3, ('год', 'назад'): 3, ('история', 'современный'): 3, ('японский', 'учёный'): 3, ('европейский', 'наука'): 3, ('2017', 'год'): 3, ('диаметр', 'кольцо'): 3, ('конец', 'конец'): 2, ('открытый', 'код'): 2, ('развивать', 'сообщество'): 2, ('олег', 'бартунова'): 2, ('сообщество', 'человек'): 2, ('ядро', 'postgres'): 2, ('опенсорс', 'проект'): 2, ('изменение', 'ядро'): 2, ('вносить', 'изменение'): 2, ('вносить', 'свой'): 2, ('место', 'мировой'): 2, ('сообщество', 'разработчик'): 2, ('компания', 'проводить'): 2, ('учебный', 'курс'): 2, ('вклад', 'развитие'): 2, ('чистокровный', 'собака'): 2, ('собака', 'разный'): 2, ('зависеть', 'порода'): 2, ('порода', 'пол'): 2, ('пол', 'размер'): 2, ('долгий', 'жить'): 2, ('scientific', 'reports'): 2, ('жизнь', 'собака'): 2, ('размер', 'тело'): 2, ('исследование', 'жить'): 2, ('долгий', 'крупный'): 2, ('наиболее', 'подверженный'): 2, ('подверженный', 'риск'): 2, ('жить', 'немного'): 2, ('немного', 'долгий'): 2, ('составить', 'год'): 2, ('анализ', 'показать'): 2, ('кавказский', 'овчарка'): 2, ('выживаемость', 'год'): 2, ('канарский', 'дог'): 2, ('средний', 'продолжительность'): 2, ('вытянуть', 'морда'): 2, ('морда', 'год'): 2, ('размер', 'форма'): 2, ('эпоха', 'неолит'): 2, ('территория', 'китай'): 2, ('поверхность', 'луна'): 2, ('солнечный', 'батарея'): 2, ('батарея', 'мочь'): 2, ('мочь', 'вырабатывать'): 2, ('вырабатывать', 'электроэнергия'): 2, ('мочь', 'перекувыркнуться'): 2, ('луноход', 'которые'): 2, ('2023', 'год'): 2, ('окололунный', 'орбита'): 2, ('lev', 'оснастить'): 2, ('луна', 'разбиться'): 2, ('неевропейский', 'учёный'): 2, ('атомный', 'физика'): 2, ('реставрация', 'мэйдзи'): 2, ('современный', 'физика'): 2, ('физика', 'химия'): 2, ('природа', 'материя'): 2, ('хантаро', 'нагаока'): 2, ('токийский', 'университет'): 2, ('1896', 'год'): 2, ('научный', 'прогресс'): 2, ('вращаться', 'вокруг'): 2, ('массивный', 'положительно'): 2, ('положительно', 'заряженная'): 2, ('заряженная', 'частица'): 2, ('частица', 'центр'): 2, ('британский', 'физик'): 2, ('нагаока', 'опубликовать'): 2, ('электромагнитный', 'волна'): 2, ('центр', 'атом'): 2, ('сейсмический', 'волна'): 2, ('строение', 'атом'): 2, ('структура', 'атом'): 2, ('1911', 'год'): 2, ('градус', 'против'): 2, ('против', 'часовой'): 2, ('часовой', 'стрелка'): 2, ('кольцо', 'мочь'): 2, ('масса', 'солнце'): 2, ('вращение', 'вещество'): 2, ('общий', 'теория'): 2, ('теория', 'относительность'): 2, ('данных', 'eht'): 2, ('eht', '2017'): 2, ('распределение', 'яркость'): 2, ('справедливо', 'говорить'): 1, ('говорить', 'существование'): 1, ('существование', 'российский'): 1, ('российский', 'опенсорса'): 1, ('единый', 'мнение'): 1, ('мнение', 'существовать'): 1, ('существовать', 'конец'): 1, ('конец', 'выделение'): 1, ('выделение', 'локальный'): 1, ('локальный', 'сегмент'): 1, ('сегмент', 'противоречить'): 1, ('противоречить', 'самому'): 1, ('самому', 'определение'): 1, ('определение', 'открытый'): 1, ('менее', 'отметить'): 1, ('отметить', 'инициатива'): 1, ('инициатива', 'разработка'): 1, ('разработка', 'которые'): 1, ('которые', 'появиться'): 1, ('появиться', 'россия'): 1, ('россия', 'получать'): 1, ('получать', 'больший'): 1, ('больший', 'поддержка'): 1, ('поддержка', 'именно'): 1, ('именно', 'российский'): 1, ('российский', 'разработчик'): 1, ('хотеть', 'рассказать'): 1, ('рассказать', 'шесть'): 1, ('шесть', 'проект'): 1, ('проект', 'некоторый'): 1, ('некоторый', 'примечательный'): 1, ('примечательный', 'вклад'): 1, ('вклад', 'международный'): 1, ('международный', 'опенсорс'): 1, ('опенсорс', 'другие'): 1, ('другие', 'концентрироваться'): 1, ('концентрироваться', 'социально'): 1, ('социально', 'важный'): 1, ('важный', 'проблема'): 1, ('проблема', 'помогать'): 1, ('помогать', 'развивать'): 1, ('материал', 'история'): 1, ('история', 'опенсорса'): 1, ('опенсорса', 'россия'): 1, ('россия', 'упоминать'): 1, ('упоминать', 'некоторый'): 1, ('некоторый', 'отечественный'): 1, ('отечественный', 'проект'): 1, ('проект', 'открытый'): 1, ('многие', 'появиться'): 1, ('появиться', 'ещё'): 1, ('ещё', 'уход'): 1, ('уход', 'зарубежный'): 1, ('зарубежный', 'вендор'): 1, ('вендор', 'недавний'): 1, ('недавний', 'пора'): 1, ('пора', 'интерес'): 1, ('интерес', 'усилиться'): 1, ('например', 'россия'): 1, ('россия', 'других'): 1, ('других', 'страна'): 1, ('страна', 'мир'): 1, ('мир', 'расти'): 1, ('расти', 'спрос'): 1, ('спрос', 'разработка'): 1, ('разработка', 'поддержка'): 1, ('поддержка', 'субд'): 1, ('одна', 'наиболее'): 1, ('наиболее', 'выдающийся'): 1, ('выдающийся', 'компания'): 1, ('компания', 'сфера'): 1, ('сфера', 'postgres'): 1, ('1997', 'год'): 1, ('год', 'патч'): 1, ('патч', 'олег'): 1, ('бартунова', 'который'): 1, ('который', 'обеспечить'): 1, ('обеспечить', 'поддержка'): 1, ('поддержка', 'восьмибитный'): 1, ('восьмибитный', 'кодировка'): 1, ('кодировка', 'символ'): 1, ('символ', 'принять'): 1, ('принять', 'субд'): 1, ('субд', 'открытый'): 1, ('код', 'postgres'): 1, ('событие', 'позволить'): 1, ('позволить', 'использовать'): 1, ('использовать', 'данными'): 1, ('данными', 'любой'): 1, ('любой', 'язык'): 1, ('язык', 'также'): 1, ('также', 'стать'): 1, ('стать', 'первый'): 1, ('первый', 'шаг'): 1, ('шаг', 'создание'): 1, ('создание', 'российский'): 1, ('российский', 'сообщество'): 1, ('сообщество', 'postgres'): 1, ('начало', 'нулевой'): 1, ('нулевой', 'новостной'): 1, ('новостной', 'портал'): 1, ('портал', 'рамблер'): 1, ('рамблер', 'посещать'): 1, ('посещать', 'сотня'): 1, ('сотня', 'тысяча'): 1, ('тысяча', 'пользователь'): 1, ('пользователь', 'день'): 1, ('день', 'выдерживать'): 1, ('выдерживать', 'нагрузка'): 1, ('нагрузка', 'именно'): 1, ('именно', 'благодаря'): 1, ('благодаря', 'postgres'): 1, ('работа', 'проект'): 1, ('проект', 'свести'): 1, ('свести', 'вместе'): 1, ('вместе', 'разработчик'): 1, ('разработчик', 'олег'): 1, ('бартунова', 'фёдор'): 1, ('фёдор', 'сигаева'): 1, ('сигаева', 'иван'): 1, ('иван', 'панченко'): 1, ('2014', 'год'): 1, ('год', 'основать'): 1, ('основать', 'компания'): 1, ('компания', 'postgres'): 1, ('время', 'россия'): 1, ('россия', 'сформироваться'): 1, ('сформироваться', 'активный'): 1, ('активный', 'сообщество'): 1, ('человек', 'которые'): 1, ('которые', 'коммитили'): 1, ('коммитили', 'ядро'): 1, ('среди', 'российский'): 1, ('российский', 'компания'): 1, ('компания', 'существовать'): 1, ('существовать', 'потребность'): 1, ('потребность', 'собственный'): 1, ('собственный', 'продукт'): 1, ('продукт', 'субд'): 1, ('однако', 'сделать'): 1, ('сделать', 'форк'): 1, ('форк', 'ядро'): 1, ('ядро', 'проект'): 1, ('проект', 'добавить'): 1, ('добавить', 'туда'): 1, ('туда', 'несколько'): 1, ('несколько', 'требуемых'): 1, ('требуемых', 'функция'): 1, ('функция', 'правило'): 1, ('правило', 'путь'): 1, ('путь', 'никуда'): 1, ('никуда', 'ядро'): 1, ('ядро', 'опередить'): 1, ('опередить', 'форк'): 1, ('ядро', 'опенсорс'): 1, ('проект', 'зачастую'): 1, ('зачастую', 'трудиться'): 1, ('трудиться', 'большой'): 1, ('большой', 'число'): 1, ('число', 'энтузиаст'): 1, ('энтузиаст', 'профессионал'): 1, ('профессионал', 'время'): 1, ('время', 'форком'): 1, ('форком', 'команда'): 1, ('команда', 'разработчик'): 1, ('разработчик', 'конкретный'): 1, ('конкретный', 'проект'): 1, ('поэтому', 'скорость'): 1, ('скорость', 'изменение'): 1, ('ядро', 'значительно'): 1, ('значительно', 'быстрый'): 1, ('быстрый', 'форка'): 1, ('форка', 'команда'): 1, ('команда', 'мочь'): 1, ('мочь', 'успевать'): 1, ('успевать', 'синхронизироваться'): 1, ('синхронизироваться', 'ядро'): 1, ('ядро', 'сама'): 1, ('сама', 'вносить'): 1, ('команда', 'postgres'): 1, ('pro', 'учитывать'): 1, ('учитывать', 'протяжение'): 1, ('протяжение', 'существование'): 1, ('существование', 'вносить'): 1, ('свой', 'дополнение'): 1, ('дополнение', 'postgres'): 1, ('postgres', 'занимать'): 1, ('занимать', 'второй'): 1, ('второй', 'место'): 1, ('мировой', 'список'): 1, ('список', 'контрибьюторов'): 1, ('помимо', 'создание'): 1, ('создание', 'решение'): 1, ('решение', 'различный'): 1, ('различный', 'заказчик'): 1, ('заказчик', 'число'): 1, ('число', 'крупный'): 1, ('крупный', 'корпорация'): 1, ('корпорация', 'сбербанк'): 1, ('сбербанк', 'газпром'): 1, ('газпром', 'нефть'): 1, ('нефть', 'вклад'): 1, ('вклад', 'основный'): 1, ('основный', 'ядро'): 1, ('pro', 'развивать'): 1, ('проводить', 'учебный'): 1, ('курс', 'студент'): 1, ('студент', 'участвовать'): 1, ('участвовать', 'программа'): 1, ('программа', 'код'): 1, ('код', 'которая'): 1, ('которая', 'давать'): 1, ('давать', 'студент'): 1, ('студент', 'возможность'): 1, ('возможность', 'внести'): 1, ('внести', 'вклад'): 1, ('вклад', 'крупный'): 1, ('крупный', 'открытый'): 1, ('открытый', 'библиотека'): 1, ('библиотека', 'также'): 1, ('также', 'выкладывать'): 1, ('выкладывать', 'открытый'): 1, ('открытый', 'доступ'): 1, ('доступ', 'обучать'): 1, ('обучать', 'курс'): 1, ('курс', 'postgres'): 1, ('postgres', 'основа'): 1, ('основа', 'работа'): 1, ('работа', 'субд'): 1, ('субд', 'целое'): 1, ('похожему', 'путь'): 1, ('путь', 'двигаться'): 1, ('двигаться', 'arenadata'): 1, ('компания', 'взять'): 1, ('взять', 'основа'): 1, ('основа', 'mpp'): 1, ('mpp', 'система'): 1, ('система', 'открытый'): 1, ('код', 'greenplum'): 1, ('greenplum', 'разрабатывать'): 1, ('разрабатывать', 'коммерческий'): 1, ('коммерческий', 'продукт'): 1, ('продукт', 'arenadata'): 1, ('arenadata', 'вносить'): 1, ('ядро', 'других'): 1, ('других', 'важный'): 1, ('важный', 'проект'): 1, ('год', 'подряд'): 1, ('подряд', 'arenadata'): 1, ('arenadata', 'данным'): 1, ('данным', 'аналитик'): 1, ('аналитик', 'компания'): 1, ('компания', 'занимать'): 1, ('занимать', 'первый'): 1, ('первый', 'место'): 1, ('мировой', 'топ'): 1, ('топ', 'контрибьюторов'): 1, ('контрибьюторов', 'ядро'): 1, ('ядро', 'greenplum'): 1, ('greenplum', 'среди'): 1, ('среди', 'сообщество'): 1, ('сегодня', 'arenadata'): 1, ('arenadata', 'ведущий'): 1, ('ведущий', 'разработчик'): 1, ('разработчик', 'платформа'): 1, ('платформа', 'сбор'): 1, ('сбор', 'хранение'): 1, ('хранение', 'анализ'): 1, ('анализ', 'данных'): 1, ('данных', 'россия'): 1, ('предлагать', 'линейка'): 1, ('линейка', 'программный'): 1, ('программный', 'продукт'): 1, ('продукт', 'открытый'): 1, ('код', 'интегрировать'): 1, ('интегрировать', 'единый'): 1, ('единый', 'платформа'): 1, ('платформа', 'arenadata'): 1, ('arenadata', 'enterprise'): 1, ('enterprise', 'data'): 1, ('data', 'platform'): 1, ('platform', 'edp'): 1, ('arenadata', 'важный'): 1, ('важный', 'вносить'): 1, ('свой', 'вклад'): 1, ('развитие', 'продукт'): 1, ('продукт', 'база'): 1, ('база', 'открытый'): 1, ('код', 'помогать'): 1, ('помогать', 'изучать'): 1, ('поэтому', 'компания'): 1, ('проводить', 'собственный'): 1, ('собственный', 'учебный'): 1, ('курс', 'организовать'): 1, ('организовать', 'митапы'): 1, ('митапы', 'хакатоны'): 1, ('хакатоны', 'сотрудничать'): 1, ('сотрудничать', 'вуз'): 1, ('многих', 'опенсорс'): 1, ('проект', 'коммерциализация'): 1, ('коммерциализация', 'являться'): 1, ('являться', 'конечный'): 1, ('конечный', 'цель'): 1, ('число', 'отнести'): 1, ('отнести', 'различный'): 1, ('научный', 'библиотека'): 1, ('библиотека', 'например'): 1, ('например', 'scikit'): 1, ('scikit', 'learn'): 1, ('learn', 'социально'): 1, ('социально', 'значимый'): 1, ('значимый', 'фреймворки'): 1, ('фреймворки', 'разработать'): 1, ('разработать', 'внутри'): 1, ('внутри', 'больший'): 1, ('больший', 'корпорация'): 1, ('корпорация', 'сказать'): 1, ('сказать', 'slovo'): 1, ('slovo', 'также'): 1, ('также', 'проект'): 1, ('проект', 'которые'): 1, ('которые', 'помогать'): 1, ('помогать', 'решать'): 1, ('решать', 'важный'): 1, ('важный', 'социальный'): 1, ('социальный', 'проблема'): 1, ('последний', 'нередко'): 1, ('нередко', 'создаваться'): 1, ('создаваться', 'сила'): 1, ('сила', 'заинтересованный'): 1, ('заинтересованный', 'разработчик'): 1, ('разработчик', 'сообщество'): 1, ('россия', 'каждый'): 1, ('каждый', 'год'): 1, ('год', 'пропадать'): 1, ('пропадать', 'около'): 1, ('около', '100'): 1, ('100', 'тысяча'): 1, ('тысяча', 'человек'): 1, ('метод', 'поиск'): 1, ('поиск', 'обычно'): 1, ('обычно', 'выглядеть'): 1, ('выглядеть', 'следующий'): 1, ('следующий', 'образ'): 1, ('образ', 'одна'): 1, ('одна', 'часть'): 1, ('часть', 'поисковый'): 1, ('поисковый', 'группа'): 1, ('группа', 'прочёсывать'): 1, ('прочёсывать', 'предполагать'): 1, ('предполагать', 'локация'): 1, ('локация', 'пешком'): 1, ('пешком', 'пока'): 1, ('пока', 'другая'): 1, ('другая', 'вручную'): 1, ('вручную', 'просматривать'): 1, ('просматривать', 'снимок'): 1, ('снимок', 'местность'): 1, ('местность', 'сделать'): 1, ('сделать', 'беспилотник'): 1, ('изучение', 'снимок'): 1, ('снимок', 'потенциально'): 1, ('потенциально', 'эффективный'): 1, ('эффективный', 'прямой'): 1, ('прямой', 'поиск'): 1, ('поиск', 'съёмка'): 1, ('съёмка', 'вестись'): 1, ('вестись', 'большой'): 1, ('большой', 'высота'): 1, ('высота', 'пропасть'): 1, ('пропасть', 'человек'): 1, ('человек', 'фотография'): 1, ('фотография', 'занимать'): 1, ('занимать', 'крайне'): 1, ('крайне', 'мало'): 1, ('мало', 'место'): 1, ('место', 'меньше'): 1, ('меньше', 'процент'): 1, ('снимок', 'мочь'): 1, ('мочь', 'несколько'): 1, ('несколько', 'тысяча'): 1, ('тысяча', 'спустя'): 1, ('спустя', 'несколько'): 1, ('несколько', 'сотня'): 1, ('сотня', 'фотография'): 1, ('фотография', 'искать'): 1, ('искать', 'человек'): 1, ('человек', 'изображение'): 1, ('изображение', 'становиться'): 1, ('становиться', 'трудный'): 1, ('трудный', 'повышаться'): 1, ('повышаться', 'риск'): 1, ('риск', 'ошибиться'): 1, ('ошибиться', 'заметить'): 1, ('заметить', 'пропасть'): 1, ('однако', 'процесс'): 1, ('процесс', 'автоматизировать'): 1, ('автоматизировать', 'анализировать'): 1, ('анализировать', 'снимок'): 1, ('снимок', 'помощь'): 1, ('помощь', 'модель'): 1, ('модель', 'компьютерный'): 1, ('компьютерный', 'зрение'): 1, ('зрение', 'выделять'): 1, ('выделять', 'предполагать'): 1, ('предполагать', 'фигура'): 1, ('фигура', 'человек'): 1, ('решение', 'задача'): 1, ('задача', 'заниматься'): 1, ('заниматься', 'проект'): 1, ('проект', 'lacmus'): 1, ('lacmus', 'который'): 1, ('который', 'стать'): 1, ('стать', 'результат'): 1, ('результат', 'взаимодействие'): 1, ('взаимодействие', 'разработчик'): 1, ('разработчик', 'заинтересованный'): 1, ('заинтересованный', 'сообщество'): 1, ('исследователь', 'великобритания'): 1, ('великобритания', 'сравнить'): 1, ('сравнить', 'продолжительность'): 1, ('жизнь', 'британский'): 1, ('британский', 'чистокровный'): 1, ('порода', 'скрещенных'): 1, ('скрещенных', 'собрат'): 1, ('собрат', 'проанализировать'): 1, ('проанализировать', 'продолжительность'): 1, ('жизнь', 'зависеть'): 1, ('размер', 'цефалический'): 1, ('цефалический', 'индекс'): 1, ('выясниться', 'долгий'): 1, ('жить', 'мелкий'): 1, ('собака', 'удлинённый'): 1, ('удлинённый', 'морда'): 1, ('также', 'автор'): 1, ('автор', 'выявить'): 1, ('выявить', 'группа'): 1, ('группа', 'порода'): 1, ('порода', 'которые'): 1, ('которые', 'сталкиваться'): 1, ('сталкиваться', 'высокий'): 1, ('высокий', 'низкий'): 1, ('низкий', 'риск'): 1, ('результат', 'опубликовать'): 1, ('опубликовать', 'scientific'): 1, ('сегодня', 'существовать'): 1, ('существовать', 'около'): 1, ('около', '400'): 1, ('400', 'генетически'): 1, ('генетически', 'различный'): 1, ('различный', 'порода'): 1, ('порода', 'домашний'): 1, ('домашний', 'собака'): 1, ('собака', 'canis'): 1, ('canis', 'lupus'): 1, ('lupus', 'familiris'): 1, ('familiris', 'которые'): 1, ('которые', 'различаться'): 1, ('различаться', 'внешне'): 1, ('внешне', 'поведенчески'): 1, ('кроме', 'показатель'): 1, ('показатель', 'здоровье'): 1, ('здоровье', 'продолжительность'): 1, ('порода', 'беспородный'): 1, ('беспородный', 'собрат'): 1, ('собрат', 'также'): 1, ('также', 'различный'): 1, ('различный', 'мочь'): 1, ('мочь', 'зависеть'): 1, ('зависеть', 'число'): 1, ('число', 'морфология'): 1, ('например', 'брахицефал'): 1, ('брахицефал', 'собака'): 1, ('собака', 'плоский'): 1, ('плоский', 'мордами'): 1, ('мордами', 'вроде'): 1, ('вроде', 'бульдог'): 1, ('бульдог', 'мопс'): 1, ('мопс', 'сильный'): 1, ('сильный', 'подверженный'): 1, ('подверженный', 'некоторый'): 1, ('некоторый', 'заболевание'): 1, ('также', 'продолжительность'): 1, ('жизнь', 'мочь'): 1, ('мочь', 'влиять'): 1, ('влиять', 'размер'): 1, ('тело', 'мелкий'): 1, ('собака', 'согласно'): 1, ('согласно', 'исследование'): 1, ('крупный', 'подобный'): 1, ('подобный', 'свойственный'): 1, ('свойственный', 'многих'): 1, ('многих', 'вид'): 1, ('вид', 'млекопитающее'): 1, ('млекопитающее', 'хотя'): 1, ('хотя', 'парадоксально'): 1, ('парадоксально', 'мелкий'): 1, ('мелкий', 'представителя'): 1, ('представителя', 'вид'): 1, ('вид', 'часто'): 1, ('часто', 'жить'): 1, ('долгий', 'сравнивать'): 1, ('сравнивать', 'вид'): 1, ('вид', 'больший'): 1, ('больший', 'продолжительность'): 1, ('жизнь', 'характерный'): 1, ('характерный', 'крупный'): 1, ('крупный', 'животное'): 1, ('кирстен', 'макмиллан'): 1, ('макмиллан', 'kirsten'): 1, ('kirsten', 'mcmillan'): 1, ('mcmillan', 'коллега'): 1, ('коллега', 'британский'): 1, ('британский', 'благотворительный'): 1, ('благотворительный', 'организация'): 1, ('организация', 'dogs'): 1, ('dogs', 'trust'): 1, ('trust', 'ливерпульский'): 1, ('ливерпульский', 'университет'): 1, ('университет', 'имя'): 1, ('имя', 'джон'): 1, ('джон', 'мурса'): 1, ('мурса', 'собрать'): 1, ('собрать', 'данные'): 1, ('данные', '585'): 1, ('585', 'тысяча'): 1, ('тысяча', 'собака'): 1, ('собака', 'проживать'): 1, ('проживать', 'великобритания'): 1, ('великобритания', 'включая'): 1, ('включая', '285'): 1, ('285', 'тысяча'): 1, ('тысяча', 'умерших'): 1, ('умерших', 'момент'): 1, ('момент', 'исследование'): 1, ('данные', 'получить'): 1, ('получить', 'реестр'): 1, ('реестр', 'порода'): 1, ('порода', 'ветеринарный'): 1, ('ветеринарный', 'корпорация'): 1, ('корпорация', 'университетский'): 1, ('университетский', 'ветеринарный'): 1, ('ветеринарный', 'архив'): 1, ('архив', 'компания'): 1, ('компания', 'страхование'): 1, ('страхование', 'домашний'): 1, ('домашний', 'животное'): 1, ('собака', 'разделить'): 1, ('разделить', 'группа'): 1, ('группа', 'чистопородный'): 1, ('чистопородный', 'собака'): 1, ('собака', 'родитель'): 1, ('родитель', 'которых'): 1, ('которых', 'принадлежать'): 1, ('принадлежать', 'одной'): 1, ('одной', 'порода'): 1, ('порода', 'скрещенные'): 1, ('скрещенные', 'собака'): 1, ('собака', 'туда'): 1, ('туда', 'мочь'): 1, ('мочь', 'входить'): 1, ('входить', 'метисы'): 1, ('метисы', 'беспородный'): 1, ('исследователь', 'оценивать'): 1, ('оценивать', 'продолжительность'): 1, ('собака', 'зависеть'): 1, ('тело', 'форма'): 1, ('голова', 'выявить'): 1, ('выявить', 'собака'): 1, ('собака', 'наиболее'): 1, ('самка', 'чистокровный'): 1, ('чистокровный', 'скрещенные'): 1, ('скрещенные', 'жить'): 1, ('долгий', 'самец'): 1, ('средний', 'медиана'): 1, ('выживаемость', 'период'): 1, ('период', 'время'): 1, ('время', 'который'): 1, ('который', 'переживать'): 1, ('переживать', 'половина'): 1, ('половина', 'собака'): 1, ('собака', 'породистый'): 1, ('породистый', 'скрещенных'): 1, ('скрещенных', 'собака'): 1, ('собака', 'составить'): 1, ('собака', 'высоко'): 1, ('высоко', 'год'): 1, ('год', 'скрещенных'): 1, ('скрещенных', 'год'): 1, ('детальный', 'анализ'): 1, ('показать', 'медиана'): 1, ('медиана', 'продолжительность'): 1, ('жизнь', 'половина'): 1, ('половина', 'чистокровный'): 1, ('собака', 'процент'): 1, ('процент', 'высоко'): 1, ('высоко', 'скрещенных'): 1, ('скрещенных', 'процент'): 1, ('процент', 'породистый'): 1, ('собака', 'значение'): 1, ('значение', 'медиан'): 1, ('медиан', 'напротив'): 1, ('напротив', 'низкий'): 1, ('низкий', 'остальных'): 1, ('остальных', 'процент'): 1, ('процент', 'отличаться'): 1, ('отличаться', 'медиан'): 1, ('медиан', 'скрещенных'): 1, ('среднее', 'породистый'): 1, ('собака', 'исследование'): 1, ('долгий', 'скрещенных'): 1, ('результат', 'противоречить'): 1, ('противоречить', 'данным'): 1, ('данным', 'породистый'): 1, ('собака', 'жить'): 1, ('жить', 'маленький'): 1, ('маленький', 'беспородный'): 1, ('жизнь', 'порода'): 1, ('порода', 'сильно'): 1, ('сильно', 'отличаться'): 1, ('смерть', 'оказаться'): 1, ('оказаться', 'кавказский'): 1, ('овчарка', 'медиана'): 1, ('год', 'канарский'): 1, ('дог', 'год'): 1, ('год', 'кан'): 1, ('кан', 'корсо'): 1, ('корсо', 'год'): 1, ('год', 'мастиф'): 1, ('мастиф', 'год'): 1, ('год', 'сенбернар'): 1, ('сенбернар', 'год'): 1, ('год', 'бульдоги'): 1, ('бульдоги', 'год'): 1, ('жить', 'собака'): 1, ('порода', 'ланкаширский'): 1, ('ланкаширский', 'хилер'): 1, ('хилер', 'тибетский'): 1, ('тибетский', 'спаниель'): 1, ('спаниель', 'сиба'): 1, ('сиба', 'ину'): 1, ('ину', 'папийон'): 1, ('папийон', 'лейкленд'): 1, ('лейкленд', 'терьер'): 1, ('терьер', 'схипперке'): 1, ('схипперке', 'бордер'): 1, ('бордер', 'терьер'): 1, ('терьер', 'левретка'): 1, ('левретка', 'карликовый'): 1, ('карликовый', 'такса'): 1, ('такса', 'порода'): 1, ('порода', 'медиана'): 1, ('выживаемость', 'составить'): 1, ('филогенетический', 'анализ'): 1, ('показать', 'средний'): 1, ('жизнь', 'схожий'): 1, ('схожий', 'филогенетически'): 1, ('филогенетически', 'близкий'): 1, ('близкий', 'порода'): 1, ('порода', 'собака'): 1, ('порода', 'наиболее'): 1, ('наиболее', 'низкий'): 1, ('низкий', 'средний'): 1, ('жизнь', 'локализовать'): 1, ('локализовать', 'предел'): 1, ('предел', 'клад'): 1, ('клад', 'включать'): 1, ('включать', 'кавказский'): 1, ('овчарка', 'другая'): 1, ('другая', 'мастиф'): 1, ('мастиф', 'бульдог'): 1, ('бульдог', 'третий'): 1, ('третий', 'неаполитанский'): 1, ('неаполитанский', 'мастиф'): 1, ('мастиф', 'кане'): 1, ('кане', 'корсо'): 1, ('корсо', 'канарский'): 1, ('ожидаться', 'собака'): 1, ('порода', 'мелкий'): 1, ('мелкий', 'средний'): 1, ('средний', 'размер'): 1, ('размер', 'жить'): 1, ('крупный', 'собака'): 1, ('собака', 'справедливый'): 1, ('справедливый', 'самец'): 1, ('самец', 'самка'): 1, ('влиять', 'форма'): 1, ('голова', 'медиана'): 1, ('выживаемость', 'мезоцефальных'): 1, ('мезоцефальных', 'порода'): 1, ('порода', 'морда'): 1, ('морда', 'средний'): 1, ('средний', 'длина'): 1, ('длина', 'составлять'): 1, ('составлять', 'год'): 1, ('год', 'долихоцефальный'): 1, ('долихоцефальный', 'вытянуть'): 1, ('год', 'брахицефальный'): 1, ('брахицефальный', 'приплюснутой'): 1, ('приплюснутой', 'морда'): 1, ('голова', 'учитываться'): 1, ('учитываться', 'одновременно'): 1, ('одновременно', 'самыми'): 1, ('самыми', 'долгоживущий'): 1, ('долгоживущий', 'оказаться'): 1, ('оказаться', 'мелкий'): 1, ('собака', 'вытянуть'): 1, ('морда', 'медиана'): 1, ('год', 'сравнение'): 1, ('сравнение', 'медиана'): 1, ('медиана', 'год'): 1, ('год', 'средний'): 1, ('средний', 'брахицефал'): 1, ('брахицефал', 'год'): 1, ('год', 'крупный'): 1, ('крупный', 'брахицефал'): 1, ('автор', 'отметить'): 1, ('отметить', 'получить'): 1, ('получить', 'результат'): 1, ('результат', 'репрезентативный'): 1, ('репрезентативный', 'собака'): 1, ('собака', 'великобритания'): 1, ('великобритания', 'продолжительность'): 1, ('жизнь', 'влиять'): 1, ('влиять', 'место'): 1, ('место', 'проживание'): 1, ('проживание', 'окружать'): 1, ('окружать', 'среда'): 1, ('кроме', 'генофонд'): 1, ('генофонд', 'разный'): 1, ('разный', 'популяция'): 1, ('популяция', 'собака'): 1, ('порода', 'разный'): 1, ('разный', 'страна'): 1, ('страна', 'мочь'): 1, ('мочь', 'различаться'): 1, ('поэтому', 'распространять'): 1, ('распространять', 'результат'): 1, ('результат', 'собака'): 1, ('собака', 'стоить'): 1, ('стоить', 'осторожность'): 1, ('секрет', 'создание'): 1, ('создание', 'разный'): 1, ('порода', 'разведение'): 1, ('разведение', 'сопровождаться'): 1, ('сопровождаться', 'утрата'): 1, ('утрата', 'генетический'): 1, ('генетический', 'разнообразие'): 1, ('разнообразие', 'нередко'): 1, ('нередко', 'приводить'): 1, ('приводить', 'возникновение'): 1, ('возникновение', 'инбредной'): 1, ('инбредной', 'депрессия'): 1, ('помимо', 'неприятный'): 1, ('неприятный', 'последствие'): 1, ('последствие', 'вроде'): 1, ('вроде', 'больший'): 1, ('больший', 'риск'): 1, ('риск', 'заболевание'): 1, ('заболевание', 'искусственный'): 1, ('искусственный', 'отбор'): 1, ('отбор', 'мочь'): 1, ('мочь', 'привести'): 1, ('привести', 'возникновение'): 1, ('возникновение', 'других'): 1, ('других', 'неожиданный'): 1, ('неожиданный', 'черта'): 1, ('незапланированный', 'результат'): 1, ('результат', 'селекция'): 1, ('селекция', 'почитать'): 1, ('почитать', 'наш'): 1, ('наш', 'материал'): 1, ('китайский', 'учёный'): 1, ('учёный', 'исследовать'): 1, ('исследовать', 'растительный'): 1, ('растительный', 'остаток'): 1, ('остаток', 'обнаружить'): 1, ('обнаружить', 'памятниках'): 1, ('памятниках', 'эпоха'): 1, ('неолит', 'которые'): 1, ('которые', 'находиться'): 1, ('находиться', 'долина'): 1, ('долина', 'река'): 1, ('сосредоточить', 'свой'): 1, ('свой', 'внимание'): 1, ('внимание', 'размер'): 1, ('форма', 'семя'): 1, ('семя', 'зизифуса'): 1, ('зизифуса', 'прийти'): 1, ('прийти', 'вывод'): 1, ('вывод', 'поздний'): 1, ('поздний', '6200'): 1, ('6200', 'год'): 1, ('назад', 'местный'): 1, ('местный', 'житель'): 1, ('житель', 'окультурить'): 1, ('окультурить', 'растение'): 1, ('растение', 'плод'): 1, ('плод', 'которого'): 1, ('которого', 'вид'): 1, ('вид', 'вкус'): 1, ('вкус', 'также'): 1, ('также', 'называть'): 1, ('называть', 'китайский'): 1, ('китайский', 'финиками'): 1, ('сообщаться', 'статья'): 1, ('статья', 'опубликовать'): 1, ('опубликовать', 'журнал'): 1, ('журнал', 'scientific'): 1, ('настоящий', 'зизифус'): 1, ('зизифус', 'ziziphus'): 1, ('ziziphus', 'jujuba'): 1, ('jujuba', 'экономически'): 1, ('экономически', 'ценный'): 1, ('ценный', 'плодовый'): 1, ('плодовый', 'окультуренное'): 1, ('окультуренное', 'растение'): 1, ('растение', 'которое'): 1, ('которое', 'происходить'): 1, ('происходить', 'дикорастущий'): 1, ('дикорастущий', 'вид'): 1, ('вид', 'ziziphus'): 1, ('ziziphus', 'acidojujuba'): 1, ('acidojujuba', 'распространить'): 1, ('распространить', 'территория'): 1, ('китай', 'судить'): 1, ('судить', 'данным'): 1, ('данным', 'палеоботаник'): 1, ('палеоботаник', 'предковый'): 1, ('предковый', 'форма'): 1, ('форма', 'произрастали'): 1, ('произрастали', 'ещё'): 1, ('ещё', 'эпоха'): 1, ('эпоха', 'миоцен'): 1, ('сей', 'пора'): 1, ('пора', 'точный'): 1, ('точный', 'ответ'): 1, ('ответ', 'человек'): 1, ('человек', 'доместицировали'): 1, ('доместицировали', 'растение'): 1, ('однако', 'предполагаться'): 1, ('предполагаться', 'произойти'): 1, ('произойти', 'эпоха'): 1, ('неолит', 'бассейн'): 1, ('бассейн', 'средний'): 1, ('средний', 'нижний'): 1, ('нижний', 'хуанхэ'): 1, ('древнейшее', 'письменный'): 1, ('письменный', 'упоминание'): 1, ('упоминание', 'окультуренного'): 1, ('окультуренного', 'зизифуса'): 1, ('зизифуса', 'датироваться'): 1, ('датироваться', 'примерно'): 1, ('примерно', 'тысяча'): 1, ('тысяча', 'год'): 1, ('видимому', 'территория'): 1, ('китай', 'культура'): 1, ('культура', 'попасть'): 1, ('попасть', 'соседний'): 1, ('соседний', 'корея'): 1, ('корея', 'япония'): 1, ('япония', 'также'): 1, ('также', 'шёлковый'): 1, ('шёлковый', 'путь'): 1, ('путь', 'центральный'): 1, ('центральный', 'западный'): 1, ('западный', 'азия'): 1, ('азия', 'далёкий'): 1, ('далёкий', 'европа'): 1, ('японский', 'посадочный'): 1, ('посадочный', 'модуль'): 1, ('модуль', 'slim'): 1, ('slim', 'высадиться'): 1, ('высадиться', 'поверхность'): 1, ('луна', 'однако'): 1, ('однако', 'солнечный'): 1, ('электроэнергия', 'модуль'): 1, ('модуль', 'мочь'): 1, ('менее', 'высадка'): 1, ('высадка', 'модуль'): 1, ('модуль', 'сбросить'): 1, ('сбросить', 'луноход'): 1, ('которые', 'активный'): 1, ('активный', 'сообщаться'): 1, ('сообщаться', 'сайт'): 1, ('сайт', 'jaxa'): 1, ('slim', 'smart'): 1, ('smart', 'lander'): 1, ('lander', 'for'): 1, ('for', 'investigating'): 1, ('investigating', 'moon'): 1, ('moon', 'запустить'): 1, ('запустить', 'космос'): 1, ('космос', 'сентябрь'): 1, ('сентябрь', '2023'): 1, ('модуль', 'создать'): 1, ('создать', 'японский'): 1, ('японский', 'аэрокосмический'): 1, ('аэрокосмический', 'агентство'): 1, ('агентство', 'должный'): 1, ('должный', 'протестировать'): 1, ('протестировать', 'технология'): 1, ('технология', 'высокоточный'): 1, ('высокоточный', 'посадка'): 1, ('посадка', 'луна'): 1, ('луна', 'погрешность'): 1, ('погрешность', 'сто'): 1, ('сто', 'метр'): 1, ('метр', 'также'): 1, ('также', 'испытать'): 1, ('испытать', 'навигационный'): 1, ('навигационный', 'система'): 1, ('система', 'основать'): 1, ('основать', 'анализ'): 1, ('анализ', 'снимок'): 1, ('снимок', 'сравнение'): 1, ('сравнение', 'снимок'): 1, ('снимок', 'сделать'): 1, ('сделать', 'окололунный'): 1, ('орбита', 'зонд'): 1, ('зонд', 'кагуя'): 1, ('кагуя', 'режим'): 1, ('режим', 'реальный'): 1, ('реальный', 'время'): 1, ('обеспечение', 'мягкий'): 1, ('мягкий', 'посадка'): 1, ('посадка', 'модуль'): 1, ('модуль', 'оснастить'): 1, ('оснастить', 'пять'): 1, ('пять', 'разрушаемыми'): 1, ('разрушаемыми', 'алюминиевый'): 1, ('алюминиевый', 'решетчатый'): 1, ('решетчатый', 'опор'): 1, ('размер', 'slim'): 1, ('slim', 'составлять'): 1, ('составлять', 'метр'): 1, ('метр', 'сухой'): 1, ('сухой', 'масса'): 1, ('масса', '200'): 1, ('200', 'килограмм'): 1, ('полезный', 'нагрузка'): 1, ('нагрузка', 'включать'): 1, ('включать', 'камера'): 1, ('камера', 'число'): 1, ('число', 'мультиспектральный'): 1, ('мультиспектральный', 'ретрорефлектор'): 1, ('ретрорефлектор', 'небольшой'): 1, ('небольшой', 'нестандартный'): 1, ('нестандартный', 'луноход'): 1, ('луноход', 'lev'): 1, ('lev', 'lev'): 1, ('оснастить', 'камера'): 1, ('камера', 'научный'): 1, ('научный', 'прибор'): 1, ('оснастить', 'прыгать'): 1, ('прыгать', 'механизм'): 1, ('механизм', 'lev'): 1, ('lev', 'обладать'): 1, ('обладать', 'сферический'): 1, ('сферический', 'форма'): 1, ('зона', 'высадка'): 1, ('высадка', 'выбрать'): 1, ('выбрать', 'край'): 1, ('край', 'кратер'): 1, ('кратер', 'сиори'): 1, ('сиори', 'диаметр'): 1, ('диаметр', 'около'): 1, ('около', '300'): 1, ('300', 'метр'): 1, ('метр', 'который'): 1, ('который', 'находиться'): 1, ('находиться', 'средний'): 1, ('средний', 'широта'): 1, ('широта', 'видимый'): 1, ('видимый', 'сторона'): 1, ('сторона', 'луна'): 1, ('модуль', 'достигнуть'): 1, ('достигнуть', 'окололунный'): 1, ('орбита', 'конец'): 1, ('конец', '2023'): 1, ('год', 'длительный'): 1, ('длительный', 'перелёт'): 1, ('перелёт', 'связать'): 1, ('связать', 'экономия'): 1, ('экономия', 'топливо'): 1, ('затем', 'сделать'): 1, ('сделать', 'орбита'): 1, ('орбита', 'круговой'): 1, ('круговой', 'начать'): 1, ('начать', 'снижать'): 1, ('снижать', 'высота'): 1, ('составить', 'километр'): 1, ('километр', 'январь'): 1, ('январь', '2024'): 1, ('2024', 'год'): 1, ('год', 'модуль'): 1, ('модуль', 'активировать'): 1, ('активировать', 'двигатель'): 1, ('двигатель', 'начать'): 1, ('начать', 'движение'): 1, ('движение', 'дуга'): 1, ('дуга', 'которое'): 1, ('которое', 'высота'): 1, ('высота', 'семь'): 1, ('семь', 'километр'): 1, ('километр', 'стать'): 1, ('стать', 'вертикальный'): 1, ('вертикальный', 'снижение'): 1, ('финальный', 'этап'): 1, ('этап', 'спуск'): 1, ('спуск', 'модуль'): 1, ('модуль', 'отклониться'): 1, ('отклониться', 'вертикали'): 1, ('вертикали', 'прилунение'): 1, ('прилунение', 'прийтись'): 1, ('прийтись', 'опора'): 1, ('опора', 'московский'): 1, ('московский', 'время'): 1, ('время', 'коснуться'): 1, ('коснуться', 'поверхность'): 1, ('образ', 'япония'): 1, ('япония', 'стать'): 1, ('стать', 'пятый'): 1, ('пятый', 'страна'): 1, ('страна', 'которой'): 1, ('которой', 'удаться'): 1, ('удаться', 'посадить'): 1, ('посадить', 'свой'): 1, ('свой', 'аппарат'): 1, ('аппарат', 'луна'): 1, ('луна', 'целый'): 1, ('однако', 'дальнейший'): 1, ('дальнейший', 'выясниться'): 1, ('выясниться', 'несмотря'): 1, ('несмотря', 'модуль'): 1, ('модуль', 'смочь'): 1, ('смочь', 'сесть'): 1, ('сесть', 'луна'): 1, ('разбиться', 'мочь'): 1, ('перекувыркнуться', 'солнечный'): 1, ('означать', 'время'): 1, ('время', 'жизнь'): 1, ('жизнь', 'модуль'): 1, ('модуль', 'определяться'): 1, ('определяться', 'время'): 1, ('время', 'разряд'): 1, ('разряд', 'аккумуляторный'): 1, ('аккумуляторный', 'батарея'): 1, ('slim', 'успеть'): 1, ('успеть', 'сбросить'): 1, ('сбросить', 'высота'): 1, ('высота', 'метр'): 1, ('метр', 'оба'): 1, ('оба', 'луноход'): 1, ('которые', 'работать'): 1, ('работать', 'передавать'): 1, ('передавать', 'данные'): 1, ('ранее', 'лунный'): 1, ('лунный', 'модуль'): 1, ('модуль', 'hakuto'): 1, ('hakuto', 'японский'): 1, ('японский', 'компания'): 1, ('компания', 'ispace'): 1, ('ispace', 'попытаться'): 1, ('попытаться', 'высадиться'): 1, ('высадиться', 'луна'): 1, ('разбиться', 'нехватка'): 1, ('нехватка', 'топливо'): 1, ('принять', 'считать'): 1, ('считать', 'современный'): 1, ('наука', 'возникнуть'): 1, ('возникнуть', 'европа'): 1, ('европа', 'примерно'): 1, ('примерно', 'xvi'): 1, ('xvi', 'век'): 1, ('однако', 'историк'): 1, ('историк', 'джеймс'): 1, ('джеймс', 'поскетт'): 1, ('поскетт', 'уверенный'): 1, ('уверенный', 'научно'): 1, ('научно', 'технический'): 1, ('технический', 'прогресс'): 1, ('прогресс', 'опираться'): 1, ('опираться', 'обмен'): 1, ('обмен', 'идея'): 1, ('идея', 'учёный'): 1, ('учёный', 'мир'): 1, ('книга', 'незападная'): 1, ('незападная', 'история'): 1, ('история', 'наука'): 1, ('наука', 'открытия'): 1, ('открытия', 'которых'): 1, ('которых', 'знать'): 1, ('знать', 'издательство'): 1, ('издательство', 'альпина'): 1, ('альпина', 'паблишер'): 1, ('паблишер', 'перевести'): 1, ('перевести', 'русский'): 1, ('русский', 'язык'): 1, ('язык', 'ирина'): 1, ('ирина', 'евстигнеев'): 1, ('евстигнеев', 'рассказывать'): 1, ('рассказывать', 'важный'): 1, ('важный', 'исследование'): 1, ('исследование', 'неевропейский'): 1, ('учёный', 'роль'): 1, ('роль', 'история'): 1, ('наука', 'сыграть'): 1, ('сыграть', 'империализм'): 1, ('империализм', 'рабство'): 1, ('рабство', 'война'): 1, ('война', 'деколонизация'): 1, ('предлагать', 'ознакомиться'): 1, ('ознакомиться', 'фрагмент'): 1, ('фрагмент', 'посвятить'): 1, ('посвятить', 'японец'): 1, ('японец', 'который'): 1, ('который', 'положить'): 1, ('положить', 'начало'): 1, ('начало', 'атомный'): 1, ('период', 'реставрация'): 1, ('мэйдзи', 'многие'): 1, ('многие', 'японский'): 1, ('учёный', 'внести'): 1, ('внести', 'важный'): 1, ('важный', 'вклад'): 1, ('развитие', 'современный'): 1, ('пойти', 'ещё'): 1, ('ещё', 'далёкий'): 1, ('далёкий', 'изменить'): 1, ('изменить', 'наш'): 1, ('наш', 'понимание'): 1, ('понимание', 'самой'): 1, ('самой', 'природа'): 1, ('нагаока', 'другие'): 1, ('другие', 'японский'): 1, ('учёный', 'которыми'): 1, ('которыми', 'познакомиться'): 1, ('познакомиться', 'глава'): 1, ('глава', 'сын'): 1, ('сын', 'самурай'): 1, ('родиться', '1865'): 1, ('1865', 'год'): 1, ('год', 'получить'): 1, ('получить', 'представление'): 1, ('представление', 'европейский'): 1, ('наука', 'ещё'): 1, ('ещё', 'детство'): 1, ('отец', 'поддержать'): 1, ('поддержать', 'реставрация'): 1, ('мэйдзи', '1871'): 1, ('1871', 'год'): 1, ('год', 'поручение'): 1, ('поручение', 'император'): 1, ('император', 'отправиться'): 1, ('отправиться', 'европа'): 1, ('европа', 'состав'): 1, ('состав', 'миссия'): 1, ('миссия', 'ивакуры'): 1, ('миссия', 'преследовать'): 1, ('преследовать', 'двойной'): 1, ('двойной', 'цель'): 1, ('первых', 'установить'): 1, ('установить', 'дипломатический'): 1, ('дипломатический', 'отношение'): 1, ('отношение', 'другими'): 1, ('другими', 'страна'): 1, ('страна', 'вторых'): 1, ('вторых', 'собрать'): 1, ('собрать', 'информация'): 1, ('информация', 'европейский'): 1, ('наука', 'промышленность'): 1, ('промышленность', 'руководствоваться'): 1, ('руководствоваться', 'западный'): 1, ('западный', 'пример'): 1, ('пример', 'запустить'): 1, ('запустить', 'программа'): 1, ('программа', 'модернизационный'): 1, ('модернизационный', 'реформа'): 1, ('реформа', 'япония'): 1, ('отец', 'нагаоки'): 1, ('нагаоки', 'глубоко'): 1, ('глубоко', 'впечатлить'): 1, ('впечатлить', 'увидеть'): 1, ('увидеть', 'привезти'): 1, ('привезти', 'ребёнок'): 1, ('ребёнок', 'целый'): 1, ('целый', 'библиотека'): 1, ('библиотека', 'научный'): 1, ('научный', 'книга'): 1, ('книга', 'которые'): 1, ('которые', 'купить'): 1, ('купить', 'англия'): 1, ('именно', 'совет'): 1, ('совет', 'отец'): 1, ('отец', '1882'): 1, ('1882', 'год'): 1, ('нагаока', 'поступить'): 1, ('поступить', 'физический'): 1, ('физический', 'факультет'): 1, ('факультет', 'токийский'): 1, ('далее', 'нагаока'): 1, ('нагаока', 'последовать'): 1, ('последовать', 'известный'): 1, ('известный', 'нам'): 1, ('нам', 'путь'): 1, ('1893', '1896'): 1, ('год', 'учиться'): 1, ('учиться', 'германия'): 1, ('германия', 'австрия'): 1, ('австрия', 'познакомиться'): 1, ('познакомиться', 'многими'): 1, ('многими', 'ведущий'): 1, ('ведущий', 'физик'): 1, ('физик', 'европа'): 1, ('руководство', 'европейский'): 1, ('европейский', 'наставник'): 1, ('наставник', 'осуществить'): 1, ('осуществить', 'свой'): 1, ('свой', 'первый'): 1, ('первый', 'успешный'): 1, ('успешный', 'исследование'): 1, ('принять', 'интернациональный'): 1, ('интернациональный', 'мир'): 1, ('мир', 'физика'): 1, ('физика', 'время'): 1, ('время', 'нагаока'): 1, ('нагаока', 'публиковать'): 1, ('публиковать', 'свой'): 1, ('свой', 'научный'): 1, ('научный', 'статья'): 1, ('статья', 'английский'): 1, ('английский', 'французский'): 1, ('французский', 'немецкий'): 1, ('немецкий', 'японский'): 1, ('японский', 'язык'): 1, ('однако', 'желать'): 1, ('желать', 'довольствоваться'): 1, ('довольствоваться', 'лишь'): 1, ('лишь', 'заимствование'): 1, ('заимствование', 'достижение'): 1, ('достижение', 'европейский'): 1, ('нагаока', 'хотеть'): 1, ('хотеть', 'доказать'): 1, ('доказать', 'япония'): 1, ('япония', 'способный'): 1, ('способный', 'стать'): 1, ('стать', 'лидер'): 1, ('лидер', 'научный'): 1, ('прогресс', 'ранний'): 1, ('ранний', 'период'): 1, ('период', 'новый'): 1, ('новый', 'время'): 1, ('хотеть', 'следовать'): 1, ('следовать', 'чужой'): 1, ('чужой', 'стоп'): 1, ('стоп', 'посвящать'): 1, ('посвящать', 'свой'): 1, ('свой', 'жизнь'): 1, ('жизнь', 'ввозу'): 1, ('ввозу', 'научный'): 1, ('научный', 'знание'): 1, ('знание', 'рубеж'): 1, ('рубеж', 'писать'): 1, ('частный', 'общение'): 1, ('общение', 'нагаока'): 1, ('нагаока', 'ещё'): 1, ('ещё', 'откровенный'): 1, ('откровенный', 'выражать'): 1, ('выражать', 'свой'): 1, ('свой', 'смелый'): 1, ('смелый', 'националистический'): 1, ('националистический', 'позиция'): 1, ('позиция', 'которая'): 1, ('которая', 'подкреплять'): 1, ('подкреплять', 'желание'): 1, ('желание', 'изучать'): 1, ('изучать', 'физика'): 1, ('никакой', 'причина'): 1, ('причина', 'европеец'): 1, ('европеец', 'продолжать'): 1, ('продолжать', 'главенствовать'): 1, ('главенствовать', 'всем'): 1, ('всем', 'написать'): 1, ('написать', 'письмо'): 1, ('письмо', 'свой'): 1, ('свой', 'друг'): 1, ('друг', 'физик'): 1, ('физик', 'айкицу'): 1, ('айкицу', 'танакадатэ'): 1, ('нагаока', 'вернуться'): 1, ('вернуться', 'домой'): 1, ('домой', 'немедленно'): 1, ('немедленно', 'получить'): 1, ('получить', 'должность'): 1, ('должность', 'профессор'): 1, ('профессор', 'токийский'): 1, ('именно', 'япония'): 1, ('япония', 'совершить'): 1, ('совершить', 'свой'): 1, ('свой', 'главный'): 1, ('главный', 'научный'): 1, ('научный', 'прорыв'): 1, ('декабрь', '1903'): 1, ('1903', 'год'): 1, ('нагаока', 'представить'): 1, ('представить', 'внимание'): 1, ('внимание', 'токийский'): 1, ('токийский', 'математико'): 1, ('математико', 'физический'): 1, ('физический', 'общество'): 1, ('общество', 'доклад'): 1, ('доклад', 'котором'): 1, ('котором', 'описать'): 1, ('описать', 'действительный'): 1, ('действительный', 'устройство'): 1, ('устройство', 'химический'): 1, ('химический', 'атом'): 1, ('протяжение', 'век'): 1, ('век', 'учёный'): 1, ('учёный', 'ломать'): 1, ('ломать', 'голова'): 1, ('голова', 'природа'): 1, ('xix', 'век'): 1, ('век', 'вестись'): 1, ('вестись', 'ещё'): 1, ('ещё', 'оживлённый'): 1, ('оживлённый', 'спор'): 1, ('спор', 'фундаментальный'): 1, ('фундаментальный', 'структура'): 1, ('нагаока', 'положить'): 1, ('положить', 'конец'): 1, ('конец', 'спор'): 1, ('спор', 'дать'): 1, ('дать', 'рождение'): 1, ('рождение', 'новый'): 1, ('новый', 'наука'): 1, ('наука', 'атомный'): 1, ('опираться', 'сложный'): 1, ('сложный', 'математический'): 1, ('математический', 'расчёт'): 1, ('расчёт', 'доказать'): 1, ('доказать', 'атом'): 1, ('атом', 'должный'): 1, ('должный', 'состоять'): 1, ('состоять', 'группа'): 1, ('группа', 'отрицательно'): 1, ('отрицательно', 'зарядить'): 1, ('зарядить', 'частица'): 1, ('частица', 'электрон'): 1, ('электрон', 'которые'): 1, ('которые', 'вращаться'): 1, ('вокруг', 'массивный'): 1, ('положительно', 'заряженной'): 1, ('заряженной', 'частица'): 1, ('нагаока', 'сравнить'): 1, ('сравнить', 'модель'): 1, ('модель', 'сатурн'): 1, ('сатурн', 'положительно'): 1, ('центр', 'подобный'): 1, ('подобный', 'планета'): 1, ('планета', 'вращаться'): 1, ('вокруг', 'электрон'): 1, ('электрон', 'кольцам'): 1, ('особенно', 'важный'): 1, ('важный', 'нагаока'): 1, ('нагаока', 'смочь'): 1, ('смочь', 'показать'): 1, ('показать', 'сатурнианская'): 1, ('сатурнианская', 'система'): 1, ('система', 'назвать'): 1, ('назвать', 'физически'): 1, ('физически', 'стабильный'): 1, ('вдохновить', 'японский'): 1, ('учёный', 'фундаментальный'): 1, ('фундаментальный', 'прорыв'): 1, ('одной', 'сторона'): 1, ('сторона', 'важный'): 1, ('важный', 'роль'): 1, ('роль', 'сыграть'): 1, ('сыграть', 'знание'): 1, ('знание', 'которые'): 1, ('которые', 'приобрести'): 1, ('приобрести', 'европа'): 1, ('частность', 'присутствовать'): 1, ('присутствовать', 'первый'): 1, ('первый', 'всемирный'): 1, ('всемирный', 'физический'): 1, ('физический', 'конгресс'): 1, ('конгресс', 'париж'): 1, ('париж', '1900'): 1, ('1900', 'год'): 1, ('год', 'познакомиться'): 1, ('познакомиться', 'британский'): 1, ('физик', 'джозеф'): 1, ('джозеф', 'джон'): 1, ('джон', 'томсон'): 1, ('томсон', 'открыть'): 1, ('открыть', 'электрон'): 1, ('электрон', 'благодаря'): 1, ('благодаря', 'эксперимент'): 1, ('эксперимент', 'изучение'): 1, ('изучение', 'катодный'): 1, ('катодный', 'луч'): 1, ('сторона', 'мышление'): 1, ('мышление', 'многом'): 1, ('многом', 'сформировать'): 1, ('сформировать', 'японский'): 1, ('японский', 'наука'): 1, ('незадолго', 'отъезд'): 1, ('отъезд', 'германия'): 1, ('германия', 'присоединиться'): 1, ('присоединиться', 'комитет'): 1, ('комитет', 'расследование'): 1, ('расследование', 'землетрясение'): 1, ('землетрясение', 'руководство'): 1, ('руководство', 'танакадатэ'): 1, ('полгода', 'нагаока'): 1, ('нагаока', 'путешествовать'): 1, ('путешествовать', 'япония'): 1, ('япония', 'вместе'): 1, ('вместе', 'танакадатэ'): 1, ('танакадатэ', 'совершать'): 1, ('совершать', 'дальний'): 1, ('дальний', 'пеший'): 1, ('пеший', 'переход'): 1, ('переход', 'карабкаться'): 1, ('карабкаться', 'гора'): 1, ('гора', 'измерить'): 1, ('измерить', 'точный'): 1, ('точный', 'геомагнитный'): 1, ('геомагнитный', 'воздействие'): 1, ('воздействие', 'землетрясение'): 1, ('нагаока', 'указать'): 1, ('указать', 'соавтор'): 1, ('соавтор', 'заключительный'): 1, ('заключительный', 'отчёт'): 1, ('отчёт', 'танакадатэ'): 1, ('конечный', 'счёт'): 1, ('счёт', 'именно'): 1, ('именно', 'исследование'): 1, ('исследование', 'землетрясение'): 1, ('землетрясение', '1891'): 1, ('1891', 'год'): 1, ('год', 'повлиять'): 1, ('повлиять', 'последующий'): 1, ('последующий', 'размышление'): 1, ('размышление', 'нагаоки'): 1, ('нагаоки', 'физический'): 1, ('физический', 'природа'): 1, ('природа', 'атом'): 1, ('начало', '1905'): 1, ('1905', 'год'): 1, ('опубликовать', 'ещё'): 1, ('ещё', 'одну'): 1, ('одну', 'статья'): 1, ('статья', 'которой'): 1, ('которой', 'описать'): 1, ('описать', 'происходить'): 1, ('происходить', 'взаимодействие'): 1, ('взаимодействие', 'электромагнитный'): 1, ('волна', 'ядро'): 1, ('ядро', 'атом'): 1, ('удивительный', 'напротив'): 1, ('напротив', 'неудивительный'): 1, ('неудивительный', 'сравнение'): 1, ('сравнение', 'обратиться'): 1, ('обратиться', 'сейсмология'): 1, ('нагаока', 'утверждать'): 1, ('утверждать', 'массивный'): 1, ('атом', 'подобный'): 1, ('подобный', 'горе'): 1, ('горе', 'горный'): 1, ('горный', 'хребту'): 1, ('согласно', 'гипотеза'): 1, ('гипотеза', 'прохождение'): 1, ('прохождение', 'центр'): 1, ('атом', 'электромагнитный'): 1, ('волна', 'рассеиваться'): 1, ('рассеиваться', 'многом'): 1, ('многом', 'сейсмический'): 1, ('волна', 'прохождение'): 1, ('прохождение', 'гора'): 1, ('гора', 'время'): 1, ('время', 'землетрясение'): 1, ('1905', '1906'): 1, ('1906', 'год'): 1, ('опубликовать', 'статья'): 1, ('статья', 'которых'): 1, ('которых', 'прямо'): 1, ('прямо', 'сравнить'): 1, ('сравнить', 'дисперсия'): 1, ('дисперсия', 'сейсмический'): 1, ('волна', 'дисперсия'): 1, ('дисперсия', 'свет'): 1, ('образ', 'объединить'): 1, ('объединить', 'идея'): 1, ('идея', 'физика'): 1, ('химия', 'опираться'): 1, ('опираться', 'опыт'): 1, ('опыт', 'приобрести'): 1, ('приобрести', 'япония'): 1, ('япония', 'европа'): 1, ('европа', 'рубеж'): 1, ('рубеж', 'век'): 1, ('век', 'хантаро'): 1, ('нагаока', 'совершить'): 1, ('совершить', 'одно'): 1, ('одно', 'важный'): 1, ('важный', 'открытие'): 1, ('открытие', 'современный'): 1, ('очередной', 'наглядно'): 1, ('наглядно', 'демонстрировать'): 1, ('демонстрировать', 'нам'): 1, ('нам', 'синтетический'): 1, ('синтетический', 'характер'): 1, ('характер', 'научный'): 1, ('прогресс', 'продукт'): 1, ('продукт', 'соединение'): 1, ('соединение', 'различный'): 1, ('научный', 'культура'): 1, ('культура', 'различный'): 1, ('научный', 'дисциплина'): 1, ('сегодня', 'открытие'): 1, ('открытие', 'строение'): 1, ('атом', 'обычно'): 1, ('обычно', 'приписывать'): 1, ('приписывать', 'британский'): 1, ('физик', 'эрнест'): 1, ('эрнест', 'резерфорд'): 1, ('нами', 'наиболее'): 1, ('наиболее', 'показательный'): 1, ('показательный', 'пример'): 1, ('пример', 'неевропейский'): 1, ('учёный', 'вычеркнуть'): 1, ('вычеркнуть', 'история'): 1, ('новаторский', 'статья'): 1, ('статья', 'резерфорд'): 1, ('резерфорд', 'описание'): 1, ('описание', 'структура'): 1, ('атом', 'опубликовать'): 1, ('опубликовать', '1911'): 1, ('год', 'несколько'): 1, ('нагаока', 'написать'): 1, ('написать', 'серия'): 1, ('серия', 'стать'): 1, ('стать', 'тема'): 1, ('резерфорд', 'прекрасно'): 1, ('прекрасно', 'осведомить'): 1, ('осведомить', 'исследование'): 1, ('исследование', 'делать'): 1, ('делать', 'секрет'): 1, ('встречаться', 'японский'): 1, ('японский', 'коллега'): 1, ('коллега', 'обсудить'): 1, ('обсудить', 'идея'): 1, ('сентябрь', '1910'): 1, ('1910', 'год'): 1, ('год', 'резерфорд'): 1, ('резерфорд', 'пригласить'): 1, ('пригласить', 'свой'): 1, ('свой', 'лаборатория'): 1, ('лаборатория', 'манчестерский'): 1, ('манчестерский', 'университет'): 1, ('университет', 'рассказать'): 1, ('рассказать', 'экспериментальный'): 1, ('экспериментальный', 'работа'): 1, ('работа', 'подтверждение'): 1, ('подтверждение', 'структура'): 1, ('февраль', '1911'): 1, ('нагаока', 'получить'): 1, ('получить', 'письмо'): 1, ('письмо', 'резерфорд'): 1, ('резерфорд', 'сообщить'): 1, ('сообщить', 'предстоящий'): 1, ('предстоящий', 'публикация'): 1, ('публикация', 'свой'): 1, ('свой', 'статья'): 1, ('обнаружите', 'предполагать'): 1, ('предполагать', 'мною'): 1, ('мною', 'строение'): 1, ('атом', 'похожий'): 1, ('похожий', 'предложить'): 1, ('предложить', 'вами'): 1, ('вами', 'ваш'): 1, ('ваш', 'статья'): 1, ('статья', 'несколько'): 1, ('назад', 'написать'): 1, ('написать', 'резерфорд'): 1, ('резерфорд', 'само'): 1, ('само', 'разумеющееся'): 1, ('разумеющееся', 'включить'): 1, ('включить', 'свой'): 1, ('свой', 'работа'): 1, ('работа', 'ссылка'): 1, ('ссылка', 'оригинальный'): 1, ('оригинальный', 'статья'): 1, ('статья', '1904'): 1, ('1904', 'год'): 1, ('год', 'которую'): 1, ('которую', 'написать'): 1, ('написать', 'опубликовать'): 1, ('опубликовать', 'нагаока'): 1, ('ссылка', 'статья'): 1, ('статья', 'резерфорда'): 1, ('резерфорда', 'вновь'): 1, ('вновь', 'раскрывать'): 1, ('раскрывать', 'нами'): 1, ('нами', 'скрытый'): 1, ('скрытый', 'история'): 1, ('история', 'британский'): 1, ('британский', 'японский'): 1, ('японский', 'общий'): 1, ('коллаборация', 'телескоп'): 1, ('телескоп', 'горизонт'): 1, ('горизонт', 'событие'): 1, ('событие', 'event'): 1, ('event', 'horizon'): 1, ('horizon', 'telescope'): 1, ('telescope', 'eht'): 1, ('eht', 'представить'): 1, ('представить', 'новый'): 1, ('новый', 'изображение'): 1, ('изображение', 'сверхмассивный'): 1, ('сверхмассивный', 'чёрный'): 1, ('дыра', 'м87'): 1, ('м87', 'получить'): 1, ('получить', 'данным'): 1, ('данным', 'наблюдение'): 1, ('наблюдение', '2018'): 1, ('картинка', 'яркий'): 1, ('яркий', 'кольцо'): 1, ('кольцо', 'тень'): 1, ('тень', 'чёрный'): 1, ('дыра', 'центр'): 1, ('самое', 'большой'): 1, ('большой', 'отличие'): 1, ('отличие', 'изображение'): 1, ('изображение', '2017'): 1, ('год', 'светлый'): 1, ('светлый', 'пятно'): 1, ('пятно', 'сместиться'): 1, ('сместиться', 'градус'): 1, ('почему', 'радиотелескоп'): 1, ('радиотелескоп', 'продолжать'): 1, ('продолжать', 'наблюдать'): 1, ('наблюдать', 'объект'): 1, ('ещё', 'хотеть'): 1, ('хотеть', 'увидеть'): 1, ('давать', 'разбираться'): 1, ('звать', 'михаил'): 1, ('михаил', 'лисаков'): 1, ('лисаков', 'изучать'): 1, ('изучать', 'чёрный'): 1, ('2020', 'год'): 1, ('год', 'входить'): 1, ('входить', 'коллаборация'): 1, ('коллаборация', 'eht'): 1, ('вообще', 'основной'): 1, ('основной', 'интерес'): 1, ('интерес', 'джет'): 1, ('джет', 'узкий'): 1, ('узкий', 'пучок'): 1, ('пучок', 'электрон'): 1, ('электрон', 'разгонять'): 1, ('разгонять', 'чёрный'): 1, ('дыра', '999'): 1, ('999', 'скорость'): 1, ('скорость', 'свет'): 1, ('свет', 'рассказывать'): 1, ('особенно', 'яркий'): 1, ('яркий', 'джет'): 1, ('джет', 'направить'): 1, ('направить', 'видный'): 1, ('видный', 'огромный'): 1, ('огромный', 'расстояние'): 1, ('расстояние', 'служить'): 1, ('служить', 'маяк'): 1, ('маяк', 'построение'): 1, ('построение', 'система'): 1, ('система', 'координата'): 1, ('ваш', 'телефон'): 1, ('телефон', 'определять'): 1, ('определять', 'свой'): 1, ('свой', 'местоположение'): 1, ('местоположение', 'поверхность'): 1, ('поверхность', 'земля'): 1, ('например', 'хотеть'): 1, ('хотеть', 'сделать'): 1, ('сделать', 'геолокацию'): 1, ('геолокацию', 'ещё'): 1, ('ещё', 'филигранный'): 1, ('филигранный', 'нужный'): 1, ('нужный', 'понять'): 1, ('понять', 'физика'): 1, ('физика', 'релятивистский'): 1, ('релятивистский', 'джет'): 1, ('разобраться', 'чёрный'): 1, ('дыра', 'запускать'): 1, ('первый', 'снимок'): 1, ('снимок', 'чёрный'): 1, ('дыра', 'галактика'): 1, ('галактика', 'м87'): 1, ('м87', 'позволить'): 1, ('позволить', 'измерить'): 1, ('измерить', 'видимый'): 1, ('видимый', 'диаметр'): 1, ('кольцо', 'микросекунда'): 1, ('микросекунда', 'дуга'): 1, ('мочь', 'создать'): 1, ('создать', 'чёрный'): 1, ('дыра', 'масса'): 1, ('масса', 'миллиард'): 1, ('миллиард', 'масса'): 1, ('солнце', 'масса'): 1, ('масса', 'находиться'): 1, ('находиться', 'судить'): 1, ('судить', 'динамика'): 1, ('динамика', 'звезда'): 1, ('звезда', 'газ'): 1, ('значение', 'зависеть'): 1, ('зависеть', 'математический'): 1, ('математический', 'модель'): 1, ('модель', 'чёрный'): 1, ('дыра', 'аккрецирующего'): 1, ('аккрецирующего', 'вещество'): 1, ('вещество', 'поэтому'): 1, ('поэтому', 'должный'): 1, ('должный', 'сохраняться'): 1, ('сохраняться', 'наблюдение'): 1, ('наблюдение', 'наблюдение'): 1, ('наблюдение', 'записать'): 1, ('записать', 'учебник'): 1, ('знать', 'должный'): 1, ('должный', 'работать'): 1, ('работать', 'аккреция'): 1, ('суперкомпьютер', 'смоделировать'): 1, ('смоделировать', 'тысяча'): 1, ('тысяча', 'чёрный'): 1, ('дыра', 'разный'): 1, ('разный', 'параметр'): 1, ('параметр', 'вещество'): 1, ('вещество', 'которое'): 1, ('которое', 'падать'): 1, ('получиться', 'идеальный'): 1, ('идеальный', 'изображение'): 1, ('изображение', 'м87'): 1, ('м87', 'которые'): 1, ('которые', 'привести'): 1, ('привести', 'качество'): 1, ('качество', 'реальный'): 1, ('большинство', 'оказаться'): 1, ('оказаться', 'непохожими'): 1, ('непохожими', 'действительный'): 1, ('действительный', 'значить'): 1, ('значить', 'спин'): 1, ('спин', 'магнитный'): 1, ('магнитный', 'поле'): 1, ('поле', 'другие'): 1, ('другие', 'параметр'): 1, ('параметр', 'неправильный'): 1, ('изображение', 'которые'): 1, ('которые', 'напоминать'): 1, ('напоминать', 'реальный'): 1, ('реальный', 'определить'): 1, ('определить', 'диапазон'): 1, ('диапазон', 'физический'): 1, ('физический', 'параметр'): 1, ('параметр', 'чёрный'): 1, ('дыра', 'окружать'): 1, ('окружать', 'вещество'): 1, ('оказаться', 'яркий'): 1, ('яркий', 'нижний'): 1, ('нижний', 'половина'): 1, ('половина', 'кольцо'): 1, ('кольцо', 'объясняться'): 1, ('объясняться', 'допплеровский'): 1, ('допплеровский', 'усиление'): 1, ('усиление', 'излучение'): 1, ('излучение', 'вращение'): 1, ('дыра', 'сама'): 1, ('сама', 'быстро'): 1, ('быстро', 'вращаться'): 1, ('вращаться', 'вещество'): 1, ('вокруг', 'сильно'): 1, ('сильно', 'замагничено'): 1, ('первый', 'наблюдение'): 1, ('наблюдение', 'чёрный'): 1, ('дыра', 'позволить'): 1, ('позволить', 'опровергнуть'): 1, ('опровергнуть', 'некоторый'): 1, ('некоторый', 'теория'): 1, ('теория', 'гравитация'): 1, ('например', 'центр'): 1, ('центр', 'м87'): 1, ('м87', 'точно'): 1, ('точно', 'находиться'): 1, ('находиться', 'кротовый'): 1, ('кротовый', 'нора'): 1, ('нора', 'голый'): 1, ('голый', 'сингулярность'): 1, ('относительность', 'пока'): 1, ('пока', 'выдерживать'): 1, ('выдерживать', 'проверка'): 1, ('первых', 'научный'): 1, ('научный', 'результат'): 1, ('результат', 'обязательно'): 1, ('обязательно', 'нужный'): 1, ('нужный', 'перепроверять'): 1, ('недавно', 'учёный'): 1, ('учёный', 'открыть'): 1, ('открыть', 'высокотемпературный'): 1, ('высокотемпературный', 'сверхпроводник'): 1, ('проверить', 'подтвердиться'): 1, ('подтвердиться', 'расстроиться'): 1, ('расстроиться', 'работать'): 1, ('работать', 'далёкий'): 1, ('случай', 'eht'): 1, ('eht', 'получиться'): 1, ('получиться', 'аналогичный'): 1, ('аналогичный', 'телескоп'): 1, ('свой', 'результат'): 1, ('результат', 'eht'): 1, ('eht', 'мочь'): 1, ('мочь', 'подтвердить'): 1, ('вторых', 'данные'): 1, ('телескоп', 'работать'): 1, ('работать', '2018'): 1, ('2018', 'внутри'): 1, ('внутри', 'коллаборация'): 1, ('коллаборация', 'ещё'): 1, ('ещё', 'изображение'): 1, ('изображение', 'прошлый'): 1, ('прошлый', 'год'): 1, ('год', 'никто'): 1, ('никто', 'знать'): 1, ('знать', 'успешный'): 1, ('успешный', 'наблюдение'): 1, ('данные', 'обработать'): 1, ('обработать', 'публиковать'): 1, ('третьих', 'хотеться'): 1, ('хотеться', 'ответить'): 1, ('ответить', 'новый'): 1, ('новый', 'результат'): 1, ('результат', 'критика'): 1, ('критика', 'японский'): 1, ('японский', 'астроном'): 1, ('астроном', 'руководство'): 1, ('руководство', 'макото'): 1, ('макото', 'миёси'): 1, ('команда', 'утверждать'): 1, ('утверждать', 'данных'): 1, ('год', 'никакой'): 1, ('никакой', 'кольцо'): 1, ('кольцо', 'зато'): 1, ('зато', 'джет'): 1, ('джет', 'протяжённость'): 1, ('протяжённость', '1000'): 1, ('1000', '10000'): 1, ('10000', 'микросекунда'): 1, ('2017', 'мочь'): 1, ('мочь', 'регистрировать'): 1, ('регистрировать', 'больший'): 1, ('больший', 'структура'): 1, ('найти', 'ошибка'): 1, ('ошибка', 'алгоритмах'): 1, ('конец', 'получить'): 1, ('получить', 'кольцо'): 1, ('кольцо', 'новый'): 1, ('новый', 'данным'): 1, ('шах', 'мат'): 1, ('четвёртый', '2018'): 1, ('год', 'чувствительность'): 1, ('чувствительность', 'eht'): 1, ('eht', 'увеличиться'): 1, ('увеличиться', 'благодаря'): 1, ('благодаря', 'широкий'): 1, ('широкий', 'полоса'): 1, ('полоса', 'приём'): 1, ('приём', 'сигнал'): 1, ('наблюдение', 'подключиться'): 1, ('подключиться', 'телескоп'): 1, ('телескоп', 'гренландия'): 1, ('небольшой', 'число'): 1, ('число', 'телескоп'): 1, ('телескоп', 'добавление'): 1, ('добавление', 'одного'): 1, ('одного', 'увеличивать'): 1, ('увеличивать', 'количество'): 1, ('количество', 'данных'): 1, ('данных', 'целый'): 1, ('целый', 'процент'): 1, ('правда', 'погода'): 1, ('погода', 'подвести'): 1, ('подвести', 'поэтому'): 1, ('поэтому', '2018'): 1, ('год', 'качество'): 1, ('качество', 'данных'): 1, ('данных', 'получиться'): 1, ('получиться', 'похожий'): 1, ('похожий', '2017'): 1, ('пятый', '2017'): 1, ('год', 'согласованное'): 1, ('согласованное', 'изображение'): 1, ('изображение', 'получить'): 1, ('получить', 'разный'): 1, ('разный', 'алгоритм'): 1, ('данные', '2018'): 1, ('год', 'обработать'): 1, ('обработать', 'восемь'): 1, ('восемь', 'уверенно'): 1, ('уверенно', 'восстановить'): 1, ('восстановить', 'кольцевой'): 1, ('кольцевой', 'структура'): 1, ('структура', 'одинаковый'): 1, ('одинаковый', 'размер'): 1, ('размер', 'распределение'): 1, ('напомнить', 'интерферометр'): 1, ('интерферометр', 'измерять'): 1, ('измерять', 'амплитуда'): 1, ('амплитуда', 'фаза'): 1, ('фаза', 'пространственный'): 1, ('пространственный', 'частота'): 1, ('частота', 'получение'): 1, ('получение', 'изображение'): 1, ('изображение', 'ещё'): 1, ('ещё', 'сильно'): 1, ('сильно', 'постараться'): 1, ('современный', 'астрономический'): 1, ('астрономический', 'данные'): 1, ('данные', 'процент'): 1, ('процент', 'наблюдение'): 1, ('наблюдение', 'процент'): 1, ('процент', 'математик'): 1, ('ожидать', 'характеристика'): 1, ('характеристика', 'изображение'): 1, ('изображение', 'остаться'): 1, ('остаться', 'неизменный'): 1, ('неизменный', 'диаметр'): 1, ('кольцо', 'неоднородная'): 1, ('неоднородная', 'яркость'): 1, ('согласоваться', 'общий'): 1, ('относительность', 'подтвердить'): 1, ('подтвердить', 'качество'): 1, ('качество', 'наблюдение'): 1, ('наблюдение', 'анализ'): 1, ('ото', 'работать'): 1, ('работать', 'диаметр'): 1, ('кольцо', 'зависеть'): 1, ('зависеть', 'расстояние'): 1, ('расстояние', 'земля'): 1, ('земля', 'масса'): 1, ('масса', 'чёрный'): 1, ('дыра', 'которую'): 1, ('которую', 'год'): 1, ('год', 'значимо'): 1, ('значимо', 'изменить'): 1, ('м87', 'поглощать'): 1, ('поглощать', 'газ'): 1, ('газ', 'очень'): 1, ('очень', 'медленно'): 1, ('медленно', 'около'): 1, ('около', '1000'): 1, ('1000', 'масса'): 1, ('солнце', 'год'): 1, ('год', 'стать'): 1, ('стать', 'известный'): 1, ('известный', 'благодаря'): 1, ('благодаря', 'eht'): 1, ('расстояние', 'практически'): 1, ('практически', 'постоянно'): 1, ('постоянно', 'промежуток'): 1, ('промежуток', 'время'): 1, ('гипотеза', 'подтвердиться'): 1, ('подтвердиться', 'размер'): 1, ('размер', 'кольцо'): 1, ('кольцо', '2018'): 1, ('год', 'микросекунда'): 1, ('микросекунда', 'отличаться'): 1, ('отличаться', 'предыдущий'): 1, ('предыдущий', 'измерение'): 1, ('измерение', 'учёт'): 1, ('учёт', 'погрешность'): 1, ('яркость', 'новый'): 1, ('новый', 'кольцо'): 1, ('кольцо', 'неоднородный'): 1, ('неоднородный', 'связать'): 1, ('связать', 'вращение'): 1, ('дыра', 'остановить'): 1, ('остановить', 'существенно'): 1, ('существенно', 'замедлить'): 1, ('замедлить', 'получиться'): 1, ('мочь', 'поменяться'): 1, ('частность', 'самая'): 1, ('самая', 'яркий'): 1, ('яркий', 'часть'): 1, ('часть', 'кольцо'): 1, ('кольцо', 'год'): 1, ('год', 'переместиться'): 1, ('переместиться', 'градус'): 1, ('излучение', 'вокруг'): 1, ('дыра', 'которое'): 1, ('которое', 'видно'): 1, ('видно', 'картинка'): 1, ('картинка', 'складываться'): 1, ('складываться', 'тонкий'): 1, ('тонкий', 'фотонный'): 1, ('фотонный', 'кольцо'): 1, ('кольцо', 'размыть'): 1, ('размыть', 'гравитационный'): 1, ('гравитационный', 'линзированного'): 1, ('линзированного', 'излучение'): 1, ('первый', 'менее'): 1, ('менее', 'однородный'): 1, ('однородный', 'яркость'): 1, ('яркость', 'второй'): 1, ('второй', 'отражать'): 1, ('отражать', 'реальный'): 1, ('реальный', 'движение'): 1, ('движение', 'вещество'): 1, ('дыра', 'поэтому'): 1, ('поэтому', 'распределение'): 1, ('яркость', 'кольцо'): 1, ('мочь', 'меняться'): 1, ('меняться', 'время'): 1, ('смочь', 'увидеть'): 1, ('увидеть', 'напрямую'): 1, ('напрямую', 'хотя'): 1, ('хотя', 'указание'): 1, ('указание', 'перемещение'): 1, ('перемещение', 'ранний'): 1, ('ранний', 'данных'): 1})\n"
          ]
        }
      ],
      "source": [
        "print(bigrams)"
      ]
    },
    {
      "cell_type": "code",
      "execution_count": null,
      "id": "TJ5FzerEYDen",
      "metadata": {
        "id": "TJ5FzerEYDen"
      },
      "outputs": [],
      "source": [
        "def scorer(word_count_a, word_count_b, bigram_count, len_vocab, min_count):\n",
        "    try:\n",
        "        score = ((bigram_count - min_count) / ((word_count_a + word_count_b)))\n",
        "    except ZeroDivisionError:\n",
        "        return 0\n",
        "\n",
        "    return score"
      ]
    },
    {
      "cell_type": "code",
      "execution_count": null,
      "id": "a18e0e3e",
      "metadata": {
        "id": "a18e0e3e"
      },
      "outputs": [],
      "source": []
    },
    {
      "cell_type": "code",
      "execution_count": null,
      "id": "lVj9SQeUYPZG",
      "metadata": {
        "id": "lVj9SQeUYPZG",
        "scrolled": true,
        "outputId": "56490917-c6b5-49b1-9dab-61b5c3cd2448"
      },
      "outputs": [
        {
          "data": {
            "text/plain": [
              "[(('чёрный', 'дыра'), 0.46875),\n",
              " (('продолжительность', 'жизнь'), 0.4166666666666667),\n",
              " (('медиана', 'выживаемость'), 0.3333333333333333),\n",
              " (('исходный', 'код'), 0.2727272727272727),\n",
              " (('олег', 'бартунова'), 0.25),\n",
              " (('открытый', 'исходный'), 0.25),\n",
              " (('ранний', 'смерть'), 0.25),\n",
              " (('scientific', 'reports'), 0.25),\n",
              " (('кавказский', 'овчарка'), 0.25),\n",
              " (('канарский', 'дог'), 0.25),\n",
              " (('территория', 'китай'), 0.25),\n",
              " (('вырабатывать', 'электроэнергия'), 0.25),\n",
              " (('реставрация', 'мэйдзи'), 0.25),\n",
              " (('градус', 'против'), 0.25),\n",
              " (('против', 'часовой'), 0.25)]"
            ]
          },
          "execution_count": 99,
          "metadata": {},
          "output_type": "execute_result"
        }
      ],
      "source": [
        "bigram2score = score_bigrams(unigrams, bigrams, scorer, min_count=1)\n",
        "bigram2score.most_common(15)"
      ]
    },
    {
      "cell_type": "markdown",
      "id": "Y2wCtzM9a9T3",
      "metadata": {
        "id": "Y2wCtzM9a9T3"
      },
      "source": [
        "**Стандартное отклонение**"
      ]
    },
    {
      "cell_type": "code",
      "execution_count": null,
      "id": "IQKwe4ifbBAA",
      "metadata": {
        "id": "IQKwe4ifbBAA"
      },
      "outputs": [],
      "source": [
        "from collections import defaultdict\n",
        "def get_window_stats(texts, window=8):\n",
        "\n",
        "    bigrams = defaultdict(list)\n",
        "    for text in texts:\n",
        "        for i in range(len(text)-window):\n",
        "            words = list(enumerate(text[i:i+window]))\n",
        "            target = words[0][1]\n",
        "            for j, word in words[1:]:\n",
        "                bigrams[(target, word)].append(j)\n",
        "\n",
        "    bigrams_stds = Counter()\n",
        "    for bigram in bigrams:\n",
        "        if len(bigrams[bigram]) > 3:\n",
        "            bigrams_stds[bigram] = np.std(bigrams[bigram])\n",
        "\n",
        "    return bigrams_stds"
      ]
    },
    {
      "cell_type": "code",
      "execution_count": null,
      "id": "7M4VWY_GbFxx",
      "metadata": {
        "id": "7M4VWY_GbFxx",
        "outputId": "cef05c3b-359f-4848-fd41-38edd226b90a"
      },
      "outputs": [
        {
          "data": {
            "text/plain": [
              "Counter({('продолжительность', 'жизнь'): 0.0,\n",
              "         ('продолжительность', 'собака'): 1.8330302779823362,\n",
              "         ('жизнь', 'собака'): 1.8330302779823362,\n",
              "         ('собака', 'порода'): 1.3437096247164249,\n",
              "         ('медиана', 'выживаемость'): 0.0,\n",
              "         ('медиана', 'год'): 1.5,\n",
              "         ('выживаемость', 'год'): 2.498979383505129,\n",
              "         ('год', 'год'): 1.4947825928876748,\n",
              "         ('год', 'нагаока'): 0.0,\n",
              "         ('чёрный', 'дыра'): 0.0})"
            ]
          },
          "execution_count": 123,
          "metadata": {},
          "output_type": "execute_result"
        }
      ],
      "source": [
        "get_window_stats(corpus)"
      ]
    },
    {
      "cell_type": "markdown",
      "id": "5w_4PjjTYZ1y",
      "metadata": {
        "id": "5w_4PjjTYZ1y"
      },
      "source": [
        "**NLTK-Collocations**"
      ]
    },
    {
      "cell_type": "code",
      "execution_count": null,
      "id": "EsUBWj_dRuHD",
      "metadata": {
        "id": "EsUBWj_dRuHD"
      },
      "outputs": [],
      "source": [
        "bigram_measures = nltk.collocations.BigramAssocMeasures()\n",
        "trigram_measures = nltk.collocations.TrigramAssocMeasures()"
      ]
    },
    {
      "cell_type": "code",
      "execution_count": null,
      "id": "oL-MY5A_R2pq",
      "metadata": {
        "id": "oL-MY5A_R2pq"
      },
      "outputs": [],
      "source": [
        "finder2 = nltk.collocations.BigramCollocationFinder.from_documents(corpus)\n",
        "finder3 = nltk.collocations.TrigramCollocationFinder.from_documents(corpus)"
      ]
    },
    {
      "cell_type": "code",
      "execution_count": null,
      "id": "-fGbMkE_SCJW",
      "metadata": {
        "id": "-fGbMkE_SCJW",
        "outputId": "7b4ad0e0-f62a-4fa6-a362-45441f00f0b2"
      },
      "outputs": [
        {
          "data": {
            "text/plain": [
              "[('чёрный', 'дыра'),\n",
              " ('продолжительность', 'жизнь'),\n",
              " ('медиана', 'выживаемость'),\n",
              " ('исходный', 'код'),\n",
              " ('открытый', 'исходный'),\n",
              " ('postgres', 'pro'),\n",
              " ('вещество', 'вокруг'),\n",
              " ('ранний', 'смерть'),\n",
              " ('современный', 'наука'),\n",
              " ('форма', 'голова'),\n",
              " ('2018', 'год'),\n",
              " ('риск', 'ранний'),\n",
              " ('scientific', 'reports'),\n",
              " ('вырабатывать', 'электроэнергия'),\n",
              " ('градус', 'против'),\n",
              " ('кавказский', 'овчарка'),\n",
              " ('канарский', 'дог'),\n",
              " ('олег', 'бартунова'),\n",
              " ('против', 'часовой'),\n",
              " ('реставрация', 'мэйдзи')]"
            ]
          },
          "execution_count": 130,
          "metadata": {},
          "output_type": "execute_result"
        }
      ],
      "source": [
        "finder2.nbest(bigram_measures.likelihood_ratio, 20)"
      ]
    },
    {
      "cell_type": "code",
      "execution_count": null,
      "id": "NN5zfBCkT0fY",
      "metadata": {
        "id": "NN5zfBCkT0fY"
      },
      "outputs": [],
      "source": [
        "finder3.nbest(trigram_measures.likelihood_ratio, 20)"
      ]
    },
    {
      "cell_type": "code",
      "execution_count": null,
      "id": "gnBOLk5dUow3",
      "metadata": {
        "id": "gnBOLk5dUow3"
      },
      "outputs": [],
      "source": [
        "scores = finder2.score_ngrams(bigram_measures.raw_freq)\n",
        "scores"
      ]
    },
    {
      "cell_type": "code",
      "execution_count": null,
      "id": "MilgNL--Ut-F",
      "metadata": {
        "id": "MilgNL--Ut-F"
      },
      "outputs": [],
      "source": [
        "sorted_scores = sorted(scores, key=lambda score: score[1], reverse=False)\n",
        "sorted_scores"
      ]
    },
    {
      "cell_type": "markdown",
      "id": "nqabUDv3cDLN",
      "metadata": {
        "id": "nqabUDv3cDLN"
      },
      "source": [
        "**TF-IDF**"
      ]
    },
    {
      "cell_type": "code",
      "execution_count": null,
      "id": "GBTTqfK1bpGw",
      "metadata": {
        "id": "GBTTqfK1bpGw"
      },
      "outputs": [],
      "source": [
        "from sklearn.feature_extraction.text import TfidfVectorizer"
      ]
    },
    {
      "cell_type": "code",
      "execution_count": null,
      "id": "uIQwtqLxbpN3",
      "metadata": {
        "id": "uIQwtqLxbpN3"
      },
      "outputs": [],
      "source": [
        "texts = [' '.join(sent) for sent in corpus]"
      ]
    },
    {
      "cell_type": "code",
      "execution_count": null,
      "id": "XKZDDkJPbtMq",
      "metadata": {
        "id": "XKZDDkJPbtMq"
      },
      "outputs": [],
      "source": [
        "tfidf = TfidfVectorizer(min_df=5, max_df=0.2, max_features=1000,\n",
        "                       ngram_range=(2,2))"
      ]
    },
    {
      "cell_type": "code",
      "execution_count": null,
      "id": "KFAhKnUPbxOM",
      "metadata": {
        "id": "KFAhKnUPbxOM"
      },
      "outputs": [],
      "source": [
        "tfidf.fit(texts)"
      ]
    },
    {
      "cell_type": "code",
      "execution_count": null,
      "id": "dy2F7LFlbzVR",
      "metadata": {
        "id": "dy2F7LFlbzVR"
      },
      "outputs": [],
      "source": [
        "tfidf.vocabulary_"
      ]
    },
    {
      "cell_type": "code",
      "execution_count": null,
      "id": "JsSWsPUIhrnO",
      "metadata": {
        "id": "JsSWsPUIhrnO"
      },
      "outputs": [],
      "source": [
        "word2idf = []\n",
        "\n",
        "for word, i in tfidf.vocabulary_.items():\n",
        "    word2idf.append((tfidf.idf_[i], word))"
      ]
    },
    {
      "cell_type": "code",
      "execution_count": null,
      "id": "ae156906",
      "metadata": {
        "scrolled": true,
        "id": "ae156906"
      },
      "outputs": [],
      "source": [
        "tfidf.idf_"
      ]
    },
    {
      "cell_type": "code",
      "execution_count": null,
      "id": "jEcMDfhihu1r",
      "metadata": {
        "id": "jEcMDfhihu1r"
      },
      "outputs": [],
      "source": [
        "sorted(word2idf, reverse=True)[:10]"
      ]
    },
    {
      "cell_type": "markdown",
      "id": "be126d54",
      "metadata": {
        "id": "be126d54"
      },
      "source": [
        "**Задание 7.** Разметьте именованные сущности (с помощью spacy или других библиотек, про которые вы знаете) в приложенном к заданию файле. Какое количество разных типов именованных сущностей вы смогли выявить? Выведите результат с помощью таблички из библиотеки pandas."
      ]
    },
    {
      "cell_type": "code",
      "execution_count": null,
      "id": "50Sl4PpwdMfF",
      "metadata": {
        "id": "50Sl4PpwdMfF"
      },
      "outputs": [],
      "source": [
        "with open('PDOprax1.txt', 'r', encoding = \"utf-8\") as f:\n",
        "    text = f.read()"
      ]
    },
    {
      "cell_type": "code",
      "execution_count": null,
      "id": "jhK28Q7NddqY",
      "metadata": {
        "id": "jhK28Q7NddqY"
      },
      "outputs": [],
      "source": [
        "import spacy\n",
        "nlp = spacy.load(\"ru_core_news_sm\")\n",
        "import pandas as pd"
      ]
    },
    {
      "cell_type": "code",
      "execution_count": null,
      "id": "ofNco2vXgjn0",
      "metadata": {
        "id": "ofNco2vXgjn0"
      },
      "outputs": [],
      "source": [
        "doc = nlp(text)"
      ]
    },
    {
      "cell_type": "code",
      "execution_count": null,
      "id": "mojsGp68dE4_",
      "metadata": {
        "id": "mojsGp68dE4_"
      },
      "outputs": [],
      "source": [
        "for ent in doc.ents:\n",
        "    print(ent.text, ent.label_)"
      ]
    },
    {
      "cell_type": "code",
      "execution_count": null,
      "id": "aB4WKkjwdfoJ",
      "metadata": {
        "id": "aB4WKkjwdfoJ"
      },
      "outputs": [],
      "source": [
        "all_entities = []\n",
        "entities = set()\n",
        "for ent in doc.ents:\n",
        "    entities.add(ent.label_)\n",
        "    all_entities.append(ent.label_)\n",
        "\n",
        "entities = sorted(entities)"
      ]
    },
    {
      "cell_type": "code",
      "execution_count": null,
      "id": "6b91f7c9",
      "metadata": {
        "colab": {
          "base_uri": "https://localhost:8080/",
          "height": 175
        },
        "id": "6b91f7c9",
        "outputId": "d35917b3-2df2-4fae-81e7-e2fb99881ae0"
      },
      "outputs": [
        {
          "output_type": "error",
          "ename": "NameError",
          "evalue": "name 'Counter' is not defined",
          "traceback": [
            "\u001b[0;31m---------------------------------------------------------------------------\u001b[0m",
            "\u001b[0;31mNameError\u001b[0m                                 Traceback (most recent call last)",
            "\u001b[0;32m<ipython-input-39-cffe8b7afedb>\u001b[0m in \u001b[0;36m<cell line: 1>\u001b[0;34m()\u001b[0m\n\u001b[0;32m----> 1\u001b[0;31m \u001b[0mCounter\u001b[0m\u001b[0;34m(\u001b[0m\u001b[0mall_entities\u001b[0m\u001b[0;34m)\u001b[0m\u001b[0;34m\u001b[0m\u001b[0;34m\u001b[0m\u001b[0m\n\u001b[0m",
            "\u001b[0;31mNameError\u001b[0m: name 'Counter' is not defined"
          ]
        }
      ],
      "source": [
        "# Counter(all_entities)"
      ]
    },
    {
      "cell_type": "code",
      "execution_count": null,
      "id": "rcGwhzNed71e",
      "metadata": {
        "id": "rcGwhzNed71e"
      },
      "outputs": [],
      "source": [
        "number_ent_final = []\n",
        "for entity in entities:\n",
        "    number_ent_final.append(all_entities.count(entity))"
      ]
    },
    {
      "cell_type": "code",
      "execution_count": null,
      "id": "Q3ZY8CbtelfX",
      "metadata": {
        "id": "Q3ZY8CbtelfX",
        "colab": {
          "base_uri": "https://localhost:8080/",
          "height": 143
        },
        "outputId": "a9f224d7-fa82-45bf-dabf-d11f5412deba"
      },
      "outputs": [
        {
          "output_type": "execute_result",
          "data": {
            "text/plain": [
              "  Именованная сущность  Количество\n",
              "0                  LOC          50\n",
              "1                  ORG          47\n",
              "2                  PER          42"
            ],
            "text/html": [
              "\n",
              "  <div id=\"df-a70316d3-213d-4da8-86ef-15b1845b55b3\" class=\"colab-df-container\">\n",
              "    <div>\n",
              "<style scoped>\n",
              "    .dataframe tbody tr th:only-of-type {\n",
              "        vertical-align: middle;\n",
              "    }\n",
              "\n",
              "    .dataframe tbody tr th {\n",
              "        vertical-align: top;\n",
              "    }\n",
              "\n",
              "    .dataframe thead th {\n",
              "        text-align: right;\n",
              "    }\n",
              "</style>\n",
              "<table border=\"1\" class=\"dataframe\">\n",
              "  <thead>\n",
              "    <tr style=\"text-align: right;\">\n",
              "      <th></th>\n",
              "      <th>Именованная сущность</th>\n",
              "      <th>Количество</th>\n",
              "    </tr>\n",
              "  </thead>\n",
              "  <tbody>\n",
              "    <tr>\n",
              "      <th>0</th>\n",
              "      <td>LOC</td>\n",
              "      <td>50</td>\n",
              "    </tr>\n",
              "    <tr>\n",
              "      <th>1</th>\n",
              "      <td>ORG</td>\n",
              "      <td>47</td>\n",
              "    </tr>\n",
              "    <tr>\n",
              "      <th>2</th>\n",
              "      <td>PER</td>\n",
              "      <td>42</td>\n",
              "    </tr>\n",
              "  </tbody>\n",
              "</table>\n",
              "</div>\n",
              "    <div class=\"colab-df-buttons\">\n",
              "\n",
              "  <div class=\"colab-df-container\">\n",
              "    <button class=\"colab-df-convert\" onclick=\"convertToInteractive('df-a70316d3-213d-4da8-86ef-15b1845b55b3')\"\n",
              "            title=\"Convert this dataframe to an interactive table.\"\n",
              "            style=\"display:none;\">\n",
              "\n",
              "  <svg xmlns=\"http://www.w3.org/2000/svg\" height=\"24px\" viewBox=\"0 -960 960 960\">\n",
              "    <path d=\"M120-120v-720h720v720H120Zm60-500h600v-160H180v160Zm220 220h160v-160H400v160Zm0 220h160v-160H400v160ZM180-400h160v-160H180v160Zm440 0h160v-160H620v160ZM180-180h160v-160H180v160Zm440 0h160v-160H620v160Z\"/>\n",
              "  </svg>\n",
              "    </button>\n",
              "\n",
              "  <style>\n",
              "    .colab-df-container {\n",
              "      display:flex;\n",
              "      gap: 12px;\n",
              "    }\n",
              "\n",
              "    .colab-df-convert {\n",
              "      background-color: #E8F0FE;\n",
              "      border: none;\n",
              "      border-radius: 50%;\n",
              "      cursor: pointer;\n",
              "      display: none;\n",
              "      fill: #1967D2;\n",
              "      height: 32px;\n",
              "      padding: 0 0 0 0;\n",
              "      width: 32px;\n",
              "    }\n",
              "\n",
              "    .colab-df-convert:hover {\n",
              "      background-color: #E2EBFA;\n",
              "      box-shadow: 0px 1px 2px rgba(60, 64, 67, 0.3), 0px 1px 3px 1px rgba(60, 64, 67, 0.15);\n",
              "      fill: #174EA6;\n",
              "    }\n",
              "\n",
              "    .colab-df-buttons div {\n",
              "      margin-bottom: 4px;\n",
              "    }\n",
              "\n",
              "    [theme=dark] .colab-df-convert {\n",
              "      background-color: #3B4455;\n",
              "      fill: #D2E3FC;\n",
              "    }\n",
              "\n",
              "    [theme=dark] .colab-df-convert:hover {\n",
              "      background-color: #434B5C;\n",
              "      box-shadow: 0px 1px 3px 1px rgba(0, 0, 0, 0.15);\n",
              "      filter: drop-shadow(0px 1px 2px rgba(0, 0, 0, 0.3));\n",
              "      fill: #FFFFFF;\n",
              "    }\n",
              "  </style>\n",
              "\n",
              "    <script>\n",
              "      const buttonEl =\n",
              "        document.querySelector('#df-a70316d3-213d-4da8-86ef-15b1845b55b3 button.colab-df-convert');\n",
              "      buttonEl.style.display =\n",
              "        google.colab.kernel.accessAllowed ? 'block' : 'none';\n",
              "\n",
              "      async function convertToInteractive(key) {\n",
              "        const element = document.querySelector('#df-a70316d3-213d-4da8-86ef-15b1845b55b3');\n",
              "        const dataTable =\n",
              "          await google.colab.kernel.invokeFunction('convertToInteractive',\n",
              "                                                    [key], {});\n",
              "        if (!dataTable) return;\n",
              "\n",
              "        const docLinkHtml = 'Like what you see? Visit the ' +\n",
              "          '<a target=\"_blank\" href=https://colab.research.google.com/notebooks/data_table.ipynb>data table notebook</a>'\n",
              "          + ' to learn more about interactive tables.';\n",
              "        element.innerHTML = '';\n",
              "        dataTable['output_type'] = 'display_data';\n",
              "        await google.colab.output.renderOutput(dataTable, element);\n",
              "        const docLink = document.createElement('div');\n",
              "        docLink.innerHTML = docLinkHtml;\n",
              "        element.appendChild(docLink);\n",
              "      }\n",
              "    </script>\n",
              "  </div>\n",
              "\n",
              "\n",
              "<div id=\"df-bb8a2f9a-801a-4f6b-8ecf-ddf3656a58ef\">\n",
              "  <button class=\"colab-df-quickchart\" onclick=\"quickchart('df-bb8a2f9a-801a-4f6b-8ecf-ddf3656a58ef')\"\n",
              "            title=\"Suggest charts\"\n",
              "            style=\"display:none;\">\n",
              "\n",
              "<svg xmlns=\"http://www.w3.org/2000/svg\" height=\"24px\"viewBox=\"0 0 24 24\"\n",
              "     width=\"24px\">\n",
              "    <g>\n",
              "        <path d=\"M19 3H5c-1.1 0-2 .9-2 2v14c0 1.1.9 2 2 2h14c1.1 0 2-.9 2-2V5c0-1.1-.9-2-2-2zM9 17H7v-7h2v7zm4 0h-2V7h2v10zm4 0h-2v-4h2v4z\"/>\n",
              "    </g>\n",
              "</svg>\n",
              "  </button>\n",
              "\n",
              "<style>\n",
              "  .colab-df-quickchart {\n",
              "      --bg-color: #E8F0FE;\n",
              "      --fill-color: #1967D2;\n",
              "      --hover-bg-color: #E2EBFA;\n",
              "      --hover-fill-color: #174EA6;\n",
              "      --disabled-fill-color: #AAA;\n",
              "      --disabled-bg-color: #DDD;\n",
              "  }\n",
              "\n",
              "  [theme=dark] .colab-df-quickchart {\n",
              "      --bg-color: #3B4455;\n",
              "      --fill-color: #D2E3FC;\n",
              "      --hover-bg-color: #434B5C;\n",
              "      --hover-fill-color: #FFFFFF;\n",
              "      --disabled-bg-color: #3B4455;\n",
              "      --disabled-fill-color: #666;\n",
              "  }\n",
              "\n",
              "  .colab-df-quickchart {\n",
              "    background-color: var(--bg-color);\n",
              "    border: none;\n",
              "    border-radius: 50%;\n",
              "    cursor: pointer;\n",
              "    display: none;\n",
              "    fill: var(--fill-color);\n",
              "    height: 32px;\n",
              "    padding: 0;\n",
              "    width: 32px;\n",
              "  }\n",
              "\n",
              "  .colab-df-quickchart:hover {\n",
              "    background-color: var(--hover-bg-color);\n",
              "    box-shadow: 0 1px 2px rgba(60, 64, 67, 0.3), 0 1px 3px 1px rgba(60, 64, 67, 0.15);\n",
              "    fill: var(--button-hover-fill-color);\n",
              "  }\n",
              "\n",
              "  .colab-df-quickchart-complete:disabled,\n",
              "  .colab-df-quickchart-complete:disabled:hover {\n",
              "    background-color: var(--disabled-bg-color);\n",
              "    fill: var(--disabled-fill-color);\n",
              "    box-shadow: none;\n",
              "  }\n",
              "\n",
              "  .colab-df-spinner {\n",
              "    border: 2px solid var(--fill-color);\n",
              "    border-color: transparent;\n",
              "    border-bottom-color: var(--fill-color);\n",
              "    animation:\n",
              "      spin 1s steps(1) infinite;\n",
              "  }\n",
              "\n",
              "  @keyframes spin {\n",
              "    0% {\n",
              "      border-color: transparent;\n",
              "      border-bottom-color: var(--fill-color);\n",
              "      border-left-color: var(--fill-color);\n",
              "    }\n",
              "    20% {\n",
              "      border-color: transparent;\n",
              "      border-left-color: var(--fill-color);\n",
              "      border-top-color: var(--fill-color);\n",
              "    }\n",
              "    30% {\n",
              "      border-color: transparent;\n",
              "      border-left-color: var(--fill-color);\n",
              "      border-top-color: var(--fill-color);\n",
              "      border-right-color: var(--fill-color);\n",
              "    }\n",
              "    40% {\n",
              "      border-color: transparent;\n",
              "      border-right-color: var(--fill-color);\n",
              "      border-top-color: var(--fill-color);\n",
              "    }\n",
              "    60% {\n",
              "      border-color: transparent;\n",
              "      border-right-color: var(--fill-color);\n",
              "    }\n",
              "    80% {\n",
              "      border-color: transparent;\n",
              "      border-right-color: var(--fill-color);\n",
              "      border-bottom-color: var(--fill-color);\n",
              "    }\n",
              "    90% {\n",
              "      border-color: transparent;\n",
              "      border-bottom-color: var(--fill-color);\n",
              "    }\n",
              "  }\n",
              "</style>\n",
              "\n",
              "  <script>\n",
              "    async function quickchart(key) {\n",
              "      const quickchartButtonEl =\n",
              "        document.querySelector('#' + key + ' button');\n",
              "      quickchartButtonEl.disabled = true;  // To prevent multiple clicks.\n",
              "      quickchartButtonEl.classList.add('colab-df-spinner');\n",
              "      try {\n",
              "        const charts = await google.colab.kernel.invokeFunction(\n",
              "            'suggestCharts', [key], {});\n",
              "      } catch (error) {\n",
              "        console.error('Error during call to suggestCharts:', error);\n",
              "      }\n",
              "      quickchartButtonEl.classList.remove('colab-df-spinner');\n",
              "      quickchartButtonEl.classList.add('colab-df-quickchart-complete');\n",
              "    }\n",
              "    (() => {\n",
              "      let quickchartButtonEl =\n",
              "        document.querySelector('#df-bb8a2f9a-801a-4f6b-8ecf-ddf3656a58ef button');\n",
              "      quickchartButtonEl.style.display =\n",
              "        google.colab.kernel.accessAllowed ? 'block' : 'none';\n",
              "    })();\n",
              "  </script>\n",
              "</div>\n",
              "    </div>\n",
              "  </div>\n"
            ]
          },
          "metadata": {},
          "execution_count": 41
        }
      ],
      "source": [
        "df2 = pd.DataFrame({\n",
        "        'Именованная сущность': entities,\n",
        "        'Количество': number_ent_final\n",
        "})\n",
        "df2"
      ]
    },
    {
      "cell_type": "code",
      "execution_count": null,
      "id": "0fCmSEhvo_nv",
      "metadata": {
        "colab": {
          "base_uri": "https://localhost:8080/"
        },
        "id": "0fCmSEhvo_nv",
        "outputId": "f474888d-fb4a-4429-ba3d-955e460cb6d8"
      },
      "outputs": [
        {
          "output_type": "execute_result",
          "data": {
            "text/plain": [
              "3"
            ]
          },
          "metadata": {},
          "execution_count": 42
        }
      ],
      "source": [
        "num = len(df2)\n",
        "num"
      ]
    },
    {
      "cell_type": "code",
      "execution_count": null,
      "id": "qbD-2EEKozbq",
      "metadata": {
        "colab": {
          "base_uri": "https://localhost:8080/",
          "height": 143
        },
        "id": "qbD-2EEKozbq",
        "outputId": "95d6f8a4-8977-443c-d021-cebd32e53208"
      },
      "outputs": [
        {
          "output_type": "execute_result",
          "data": {
            "text/plain": [
              "  Именованная сущность  Количество Примеры\n",
              "0                  LOC          50        \n",
              "1                  ORG          47        \n",
              "2                  PER          42        "
            ],
            "text/html": [
              "\n",
              "  <div id=\"df-0590cb77-b147-46f1-841f-3e32ba1ca8a3\" class=\"colab-df-container\">\n",
              "    <div>\n",
              "<style scoped>\n",
              "    .dataframe tbody tr th:only-of-type {\n",
              "        vertical-align: middle;\n",
              "    }\n",
              "\n",
              "    .dataframe tbody tr th {\n",
              "        vertical-align: top;\n",
              "    }\n",
              "\n",
              "    .dataframe thead th {\n",
              "        text-align: right;\n",
              "    }\n",
              "</style>\n",
              "<table border=\"1\" class=\"dataframe\">\n",
              "  <thead>\n",
              "    <tr style=\"text-align: right;\">\n",
              "      <th></th>\n",
              "      <th>Именованная сущность</th>\n",
              "      <th>Количество</th>\n",
              "      <th>Примеры</th>\n",
              "    </tr>\n",
              "  </thead>\n",
              "  <tbody>\n",
              "    <tr>\n",
              "      <th>0</th>\n",
              "      <td>LOC</td>\n",
              "      <td>50</td>\n",
              "      <td></td>\n",
              "    </tr>\n",
              "    <tr>\n",
              "      <th>1</th>\n",
              "      <td>ORG</td>\n",
              "      <td>47</td>\n",
              "      <td></td>\n",
              "    </tr>\n",
              "    <tr>\n",
              "      <th>2</th>\n",
              "      <td>PER</td>\n",
              "      <td>42</td>\n",
              "      <td></td>\n",
              "    </tr>\n",
              "  </tbody>\n",
              "</table>\n",
              "</div>\n",
              "    <div class=\"colab-df-buttons\">\n",
              "\n",
              "  <div class=\"colab-df-container\">\n",
              "    <button class=\"colab-df-convert\" onclick=\"convertToInteractive('df-0590cb77-b147-46f1-841f-3e32ba1ca8a3')\"\n",
              "            title=\"Convert this dataframe to an interactive table.\"\n",
              "            style=\"display:none;\">\n",
              "\n",
              "  <svg xmlns=\"http://www.w3.org/2000/svg\" height=\"24px\" viewBox=\"0 -960 960 960\">\n",
              "    <path d=\"M120-120v-720h720v720H120Zm60-500h600v-160H180v160Zm220 220h160v-160H400v160Zm0 220h160v-160H400v160ZM180-400h160v-160H180v160Zm440 0h160v-160H620v160ZM180-180h160v-160H180v160Zm440 0h160v-160H620v160Z\"/>\n",
              "  </svg>\n",
              "    </button>\n",
              "\n",
              "  <style>\n",
              "    .colab-df-container {\n",
              "      display:flex;\n",
              "      gap: 12px;\n",
              "    }\n",
              "\n",
              "    .colab-df-convert {\n",
              "      background-color: #E8F0FE;\n",
              "      border: none;\n",
              "      border-radius: 50%;\n",
              "      cursor: pointer;\n",
              "      display: none;\n",
              "      fill: #1967D2;\n",
              "      height: 32px;\n",
              "      padding: 0 0 0 0;\n",
              "      width: 32px;\n",
              "    }\n",
              "\n",
              "    .colab-df-convert:hover {\n",
              "      background-color: #E2EBFA;\n",
              "      box-shadow: 0px 1px 2px rgba(60, 64, 67, 0.3), 0px 1px 3px 1px rgba(60, 64, 67, 0.15);\n",
              "      fill: #174EA6;\n",
              "    }\n",
              "\n",
              "    .colab-df-buttons div {\n",
              "      margin-bottom: 4px;\n",
              "    }\n",
              "\n",
              "    [theme=dark] .colab-df-convert {\n",
              "      background-color: #3B4455;\n",
              "      fill: #D2E3FC;\n",
              "    }\n",
              "\n",
              "    [theme=dark] .colab-df-convert:hover {\n",
              "      background-color: #434B5C;\n",
              "      box-shadow: 0px 1px 3px 1px rgba(0, 0, 0, 0.15);\n",
              "      filter: drop-shadow(0px 1px 2px rgba(0, 0, 0, 0.3));\n",
              "      fill: #FFFFFF;\n",
              "    }\n",
              "  </style>\n",
              "\n",
              "    <script>\n",
              "      const buttonEl =\n",
              "        document.querySelector('#df-0590cb77-b147-46f1-841f-3e32ba1ca8a3 button.colab-df-convert');\n",
              "      buttonEl.style.display =\n",
              "        google.colab.kernel.accessAllowed ? 'block' : 'none';\n",
              "\n",
              "      async function convertToInteractive(key) {\n",
              "        const element = document.querySelector('#df-0590cb77-b147-46f1-841f-3e32ba1ca8a3');\n",
              "        const dataTable =\n",
              "          await google.colab.kernel.invokeFunction('convertToInteractive',\n",
              "                                                    [key], {});\n",
              "        if (!dataTable) return;\n",
              "\n",
              "        const docLinkHtml = 'Like what you see? Visit the ' +\n",
              "          '<a target=\"_blank\" href=https://colab.research.google.com/notebooks/data_table.ipynb>data table notebook</a>'\n",
              "          + ' to learn more about interactive tables.';\n",
              "        element.innerHTML = '';\n",
              "        dataTable['output_type'] = 'display_data';\n",
              "        await google.colab.output.renderOutput(dataTable, element);\n",
              "        const docLink = document.createElement('div');\n",
              "        docLink.innerHTML = docLinkHtml;\n",
              "        element.appendChild(docLink);\n",
              "      }\n",
              "    </script>\n",
              "  </div>\n",
              "\n",
              "\n",
              "<div id=\"df-5707b6ce-e911-4edd-917e-fd76a4750706\">\n",
              "  <button class=\"colab-df-quickchart\" onclick=\"quickchart('df-5707b6ce-e911-4edd-917e-fd76a4750706')\"\n",
              "            title=\"Suggest charts\"\n",
              "            style=\"display:none;\">\n",
              "\n",
              "<svg xmlns=\"http://www.w3.org/2000/svg\" height=\"24px\"viewBox=\"0 0 24 24\"\n",
              "     width=\"24px\">\n",
              "    <g>\n",
              "        <path d=\"M19 3H5c-1.1 0-2 .9-2 2v14c0 1.1.9 2 2 2h14c1.1 0 2-.9 2-2V5c0-1.1-.9-2-2-2zM9 17H7v-7h2v7zm4 0h-2V7h2v10zm4 0h-2v-4h2v4z\"/>\n",
              "    </g>\n",
              "</svg>\n",
              "  </button>\n",
              "\n",
              "<style>\n",
              "  .colab-df-quickchart {\n",
              "      --bg-color: #E8F0FE;\n",
              "      --fill-color: #1967D2;\n",
              "      --hover-bg-color: #E2EBFA;\n",
              "      --hover-fill-color: #174EA6;\n",
              "      --disabled-fill-color: #AAA;\n",
              "      --disabled-bg-color: #DDD;\n",
              "  }\n",
              "\n",
              "  [theme=dark] .colab-df-quickchart {\n",
              "      --bg-color: #3B4455;\n",
              "      --fill-color: #D2E3FC;\n",
              "      --hover-bg-color: #434B5C;\n",
              "      --hover-fill-color: #FFFFFF;\n",
              "      --disabled-bg-color: #3B4455;\n",
              "      --disabled-fill-color: #666;\n",
              "  }\n",
              "\n",
              "  .colab-df-quickchart {\n",
              "    background-color: var(--bg-color);\n",
              "    border: none;\n",
              "    border-radius: 50%;\n",
              "    cursor: pointer;\n",
              "    display: none;\n",
              "    fill: var(--fill-color);\n",
              "    height: 32px;\n",
              "    padding: 0;\n",
              "    width: 32px;\n",
              "  }\n",
              "\n",
              "  .colab-df-quickchart:hover {\n",
              "    background-color: var(--hover-bg-color);\n",
              "    box-shadow: 0 1px 2px rgba(60, 64, 67, 0.3), 0 1px 3px 1px rgba(60, 64, 67, 0.15);\n",
              "    fill: var(--button-hover-fill-color);\n",
              "  }\n",
              "\n",
              "  .colab-df-quickchart-complete:disabled,\n",
              "  .colab-df-quickchart-complete:disabled:hover {\n",
              "    background-color: var(--disabled-bg-color);\n",
              "    fill: var(--disabled-fill-color);\n",
              "    box-shadow: none;\n",
              "  }\n",
              "\n",
              "  .colab-df-spinner {\n",
              "    border: 2px solid var(--fill-color);\n",
              "    border-color: transparent;\n",
              "    border-bottom-color: var(--fill-color);\n",
              "    animation:\n",
              "      spin 1s steps(1) infinite;\n",
              "  }\n",
              "\n",
              "  @keyframes spin {\n",
              "    0% {\n",
              "      border-color: transparent;\n",
              "      border-bottom-color: var(--fill-color);\n",
              "      border-left-color: var(--fill-color);\n",
              "    }\n",
              "    20% {\n",
              "      border-color: transparent;\n",
              "      border-left-color: var(--fill-color);\n",
              "      border-top-color: var(--fill-color);\n",
              "    }\n",
              "    30% {\n",
              "      border-color: transparent;\n",
              "      border-left-color: var(--fill-color);\n",
              "      border-top-color: var(--fill-color);\n",
              "      border-right-color: var(--fill-color);\n",
              "    }\n",
              "    40% {\n",
              "      border-color: transparent;\n",
              "      border-right-color: var(--fill-color);\n",
              "      border-top-color: var(--fill-color);\n",
              "    }\n",
              "    60% {\n",
              "      border-color: transparent;\n",
              "      border-right-color: var(--fill-color);\n",
              "    }\n",
              "    80% {\n",
              "      border-color: transparent;\n",
              "      border-right-color: var(--fill-color);\n",
              "      border-bottom-color: var(--fill-color);\n",
              "    }\n",
              "    90% {\n",
              "      border-color: transparent;\n",
              "      border-bottom-color: var(--fill-color);\n",
              "    }\n",
              "  }\n",
              "</style>\n",
              "\n",
              "  <script>\n",
              "    async function quickchart(key) {\n",
              "      const quickchartButtonEl =\n",
              "        document.querySelector('#' + key + ' button');\n",
              "      quickchartButtonEl.disabled = true;  // To prevent multiple clicks.\n",
              "      quickchartButtonEl.classList.add('colab-df-spinner');\n",
              "      try {\n",
              "        const charts = await google.colab.kernel.invokeFunction(\n",
              "            'suggestCharts', [key], {});\n",
              "      } catch (error) {\n",
              "        console.error('Error during call to suggestCharts:', error);\n",
              "      }\n",
              "      quickchartButtonEl.classList.remove('colab-df-spinner');\n",
              "      quickchartButtonEl.classList.add('colab-df-quickchart-complete');\n",
              "    }\n",
              "    (() => {\n",
              "      let quickchartButtonEl =\n",
              "        document.querySelector('#df-5707b6ce-e911-4edd-917e-fd76a4750706 button');\n",
              "      quickchartButtonEl.style.display =\n",
              "        google.colab.kernel.accessAllowed ? 'block' : 'none';\n",
              "    })();\n",
              "  </script>\n",
              "</div>\n",
              "    </div>\n",
              "  </div>\n"
            ]
          },
          "metadata": {},
          "execution_count": 43
        }
      ],
      "source": [
        "df2 = df2.assign(Примеры = \" \" * num)\n",
        "df2"
      ]
    },
    {
      "cell_type": "code",
      "execution_count": null,
      "id": "mq7QjsPApyyV",
      "metadata": {
        "id": "mq7QjsPApyyV"
      },
      "outputs": [],
      "source": [
        "m = []\n",
        "n = 0\n",
        "for entity in entities:\n",
        "    for ent in doc.ents:\n",
        "        if ent.label_ == entity:\n",
        "            m.append(ent.text)\n",
        "    df2.at[n, 'Примеры'] = m\n",
        "    m = []\n",
        "    n += 1"
      ]
    },
    {
      "cell_type": "markdown",
      "id": "RVkYhxxUsSzO",
      "metadata": {
        "id": "RVkYhxxUsSzO"
      },
      "source": [
        "**Ответ**"
      ]
    },
    {
      "cell_type": "code",
      "execution_count": null,
      "id": "3npNeNbrmtHe",
      "metadata": {
        "colab": {
          "base_uri": "https://localhost:8080/",
          "height": 143
        },
        "id": "3npNeNbrmtHe",
        "outputId": "bbb79189-857d-4f0e-c583-560aa1805f53"
      },
      "outputs": [
        {
          "output_type": "execute_result",
          "data": {
            "text/plain": [
              "  Именованная сущность  Количество  \\\n",
              "0                  LOC          50   \n",
              "1                  ORG          47   \n",
              "2                  PER          42   \n",
              "\n",
              "                                             Примеры  \n",
              "0  [России, России, России, России, России, Росси...  \n",
              "1  [СУБД, СУБД, Postgres, Рамблер, Postgres Pro, ...  \n",
              "2  [Олега Бартунова, Олега Бартунова, Федора Сига...  "
            ],
            "text/html": [
              "\n",
              "  <div id=\"df-1593b36d-6797-4294-a646-e278686122e0\" class=\"colab-df-container\">\n",
              "    <div>\n",
              "<style scoped>\n",
              "    .dataframe tbody tr th:only-of-type {\n",
              "        vertical-align: middle;\n",
              "    }\n",
              "\n",
              "    .dataframe tbody tr th {\n",
              "        vertical-align: top;\n",
              "    }\n",
              "\n",
              "    .dataframe thead th {\n",
              "        text-align: right;\n",
              "    }\n",
              "</style>\n",
              "<table border=\"1\" class=\"dataframe\">\n",
              "  <thead>\n",
              "    <tr style=\"text-align: right;\">\n",
              "      <th></th>\n",
              "      <th>Именованная сущность</th>\n",
              "      <th>Количество</th>\n",
              "      <th>Примеры</th>\n",
              "    </tr>\n",
              "  </thead>\n",
              "  <tbody>\n",
              "    <tr>\n",
              "      <th>0</th>\n",
              "      <td>LOC</td>\n",
              "      <td>50</td>\n",
              "      <td>[России, России, России, России, России, Росси...</td>\n",
              "    </tr>\n",
              "    <tr>\n",
              "      <th>1</th>\n",
              "      <td>ORG</td>\n",
              "      <td>47</td>\n",
              "      <td>[СУБД, СУБД, Postgres, Рамблер, Postgres Pro, ...</td>\n",
              "    </tr>\n",
              "    <tr>\n",
              "      <th>2</th>\n",
              "      <td>PER</td>\n",
              "      <td>42</td>\n",
              "      <td>[Олега Бартунова, Олега Бартунова, Федора Сига...</td>\n",
              "    </tr>\n",
              "  </tbody>\n",
              "</table>\n",
              "</div>\n",
              "    <div class=\"colab-df-buttons\">\n",
              "\n",
              "  <div class=\"colab-df-container\">\n",
              "    <button class=\"colab-df-convert\" onclick=\"convertToInteractive('df-1593b36d-6797-4294-a646-e278686122e0')\"\n",
              "            title=\"Convert this dataframe to an interactive table.\"\n",
              "            style=\"display:none;\">\n",
              "\n",
              "  <svg xmlns=\"http://www.w3.org/2000/svg\" height=\"24px\" viewBox=\"0 -960 960 960\">\n",
              "    <path d=\"M120-120v-720h720v720H120Zm60-500h600v-160H180v160Zm220 220h160v-160H400v160Zm0 220h160v-160H400v160ZM180-400h160v-160H180v160Zm440 0h160v-160H620v160ZM180-180h160v-160H180v160Zm440 0h160v-160H620v160Z\"/>\n",
              "  </svg>\n",
              "    </button>\n",
              "\n",
              "  <style>\n",
              "    .colab-df-container {\n",
              "      display:flex;\n",
              "      gap: 12px;\n",
              "    }\n",
              "\n",
              "    .colab-df-convert {\n",
              "      background-color: #E8F0FE;\n",
              "      border: none;\n",
              "      border-radius: 50%;\n",
              "      cursor: pointer;\n",
              "      display: none;\n",
              "      fill: #1967D2;\n",
              "      height: 32px;\n",
              "      padding: 0 0 0 0;\n",
              "      width: 32px;\n",
              "    }\n",
              "\n",
              "    .colab-df-convert:hover {\n",
              "      background-color: #E2EBFA;\n",
              "      box-shadow: 0px 1px 2px rgba(60, 64, 67, 0.3), 0px 1px 3px 1px rgba(60, 64, 67, 0.15);\n",
              "      fill: #174EA6;\n",
              "    }\n",
              "\n",
              "    .colab-df-buttons div {\n",
              "      margin-bottom: 4px;\n",
              "    }\n",
              "\n",
              "    [theme=dark] .colab-df-convert {\n",
              "      background-color: #3B4455;\n",
              "      fill: #D2E3FC;\n",
              "    }\n",
              "\n",
              "    [theme=dark] .colab-df-convert:hover {\n",
              "      background-color: #434B5C;\n",
              "      box-shadow: 0px 1px 3px 1px rgba(0, 0, 0, 0.15);\n",
              "      filter: drop-shadow(0px 1px 2px rgba(0, 0, 0, 0.3));\n",
              "      fill: #FFFFFF;\n",
              "    }\n",
              "  </style>\n",
              "\n",
              "    <script>\n",
              "      const buttonEl =\n",
              "        document.querySelector('#df-1593b36d-6797-4294-a646-e278686122e0 button.colab-df-convert');\n",
              "      buttonEl.style.display =\n",
              "        google.colab.kernel.accessAllowed ? 'block' : 'none';\n",
              "\n",
              "      async function convertToInteractive(key) {\n",
              "        const element = document.querySelector('#df-1593b36d-6797-4294-a646-e278686122e0');\n",
              "        const dataTable =\n",
              "          await google.colab.kernel.invokeFunction('convertToInteractive',\n",
              "                                                    [key], {});\n",
              "        if (!dataTable) return;\n",
              "\n",
              "        const docLinkHtml = 'Like what you see? Visit the ' +\n",
              "          '<a target=\"_blank\" href=https://colab.research.google.com/notebooks/data_table.ipynb>data table notebook</a>'\n",
              "          + ' to learn more about interactive tables.';\n",
              "        element.innerHTML = '';\n",
              "        dataTable['output_type'] = 'display_data';\n",
              "        await google.colab.output.renderOutput(dataTable, element);\n",
              "        const docLink = document.createElement('div');\n",
              "        docLink.innerHTML = docLinkHtml;\n",
              "        element.appendChild(docLink);\n",
              "      }\n",
              "    </script>\n",
              "  </div>\n",
              "\n",
              "\n",
              "<div id=\"df-fb9e87dd-a9a5-486f-b7b6-5a30b3c41a6d\">\n",
              "  <button class=\"colab-df-quickchart\" onclick=\"quickchart('df-fb9e87dd-a9a5-486f-b7b6-5a30b3c41a6d')\"\n",
              "            title=\"Suggest charts\"\n",
              "            style=\"display:none;\">\n",
              "\n",
              "<svg xmlns=\"http://www.w3.org/2000/svg\" height=\"24px\"viewBox=\"0 0 24 24\"\n",
              "     width=\"24px\">\n",
              "    <g>\n",
              "        <path d=\"M19 3H5c-1.1 0-2 .9-2 2v14c0 1.1.9 2 2 2h14c1.1 0 2-.9 2-2V5c0-1.1-.9-2-2-2zM9 17H7v-7h2v7zm4 0h-2V7h2v10zm4 0h-2v-4h2v4z\"/>\n",
              "    </g>\n",
              "</svg>\n",
              "  </button>\n",
              "\n",
              "<style>\n",
              "  .colab-df-quickchart {\n",
              "      --bg-color: #E8F0FE;\n",
              "      --fill-color: #1967D2;\n",
              "      --hover-bg-color: #E2EBFA;\n",
              "      --hover-fill-color: #174EA6;\n",
              "      --disabled-fill-color: #AAA;\n",
              "      --disabled-bg-color: #DDD;\n",
              "  }\n",
              "\n",
              "  [theme=dark] .colab-df-quickchart {\n",
              "      --bg-color: #3B4455;\n",
              "      --fill-color: #D2E3FC;\n",
              "      --hover-bg-color: #434B5C;\n",
              "      --hover-fill-color: #FFFFFF;\n",
              "      --disabled-bg-color: #3B4455;\n",
              "      --disabled-fill-color: #666;\n",
              "  }\n",
              "\n",
              "  .colab-df-quickchart {\n",
              "    background-color: var(--bg-color);\n",
              "    border: none;\n",
              "    border-radius: 50%;\n",
              "    cursor: pointer;\n",
              "    display: none;\n",
              "    fill: var(--fill-color);\n",
              "    height: 32px;\n",
              "    padding: 0;\n",
              "    width: 32px;\n",
              "  }\n",
              "\n",
              "  .colab-df-quickchart:hover {\n",
              "    background-color: var(--hover-bg-color);\n",
              "    box-shadow: 0 1px 2px rgba(60, 64, 67, 0.3), 0 1px 3px 1px rgba(60, 64, 67, 0.15);\n",
              "    fill: var(--button-hover-fill-color);\n",
              "  }\n",
              "\n",
              "  .colab-df-quickchart-complete:disabled,\n",
              "  .colab-df-quickchart-complete:disabled:hover {\n",
              "    background-color: var(--disabled-bg-color);\n",
              "    fill: var(--disabled-fill-color);\n",
              "    box-shadow: none;\n",
              "  }\n",
              "\n",
              "  .colab-df-spinner {\n",
              "    border: 2px solid var(--fill-color);\n",
              "    border-color: transparent;\n",
              "    border-bottom-color: var(--fill-color);\n",
              "    animation:\n",
              "      spin 1s steps(1) infinite;\n",
              "  }\n",
              "\n",
              "  @keyframes spin {\n",
              "    0% {\n",
              "      border-color: transparent;\n",
              "      border-bottom-color: var(--fill-color);\n",
              "      border-left-color: var(--fill-color);\n",
              "    }\n",
              "    20% {\n",
              "      border-color: transparent;\n",
              "      border-left-color: var(--fill-color);\n",
              "      border-top-color: var(--fill-color);\n",
              "    }\n",
              "    30% {\n",
              "      border-color: transparent;\n",
              "      border-left-color: var(--fill-color);\n",
              "      border-top-color: var(--fill-color);\n",
              "      border-right-color: var(--fill-color);\n",
              "    }\n",
              "    40% {\n",
              "      border-color: transparent;\n",
              "      border-right-color: var(--fill-color);\n",
              "      border-top-color: var(--fill-color);\n",
              "    }\n",
              "    60% {\n",
              "      border-color: transparent;\n",
              "      border-right-color: var(--fill-color);\n",
              "    }\n",
              "    80% {\n",
              "      border-color: transparent;\n",
              "      border-right-color: var(--fill-color);\n",
              "      border-bottom-color: var(--fill-color);\n",
              "    }\n",
              "    90% {\n",
              "      border-color: transparent;\n",
              "      border-bottom-color: var(--fill-color);\n",
              "    }\n",
              "  }\n",
              "</style>\n",
              "\n",
              "  <script>\n",
              "    async function quickchart(key) {\n",
              "      const quickchartButtonEl =\n",
              "        document.querySelector('#' + key + ' button');\n",
              "      quickchartButtonEl.disabled = true;  // To prevent multiple clicks.\n",
              "      quickchartButtonEl.classList.add('colab-df-spinner');\n",
              "      try {\n",
              "        const charts = await google.colab.kernel.invokeFunction(\n",
              "            'suggestCharts', [key], {});\n",
              "      } catch (error) {\n",
              "        console.error('Error during call to suggestCharts:', error);\n",
              "      }\n",
              "      quickchartButtonEl.classList.remove('colab-df-spinner');\n",
              "      quickchartButtonEl.classList.add('colab-df-quickchart-complete');\n",
              "    }\n",
              "    (() => {\n",
              "      let quickchartButtonEl =\n",
              "        document.querySelector('#df-fb9e87dd-a9a5-486f-b7b6-5a30b3c41a6d button');\n",
              "      quickchartButtonEl.style.display =\n",
              "        google.colab.kernel.accessAllowed ? 'block' : 'none';\n",
              "    })();\n",
              "  </script>\n",
              "</div>\n",
              "    </div>\n",
              "  </div>\n"
            ]
          },
          "metadata": {},
          "execution_count": 45
        }
      ],
      "source": [
        "df2"
      ]
    }
  ],
  "metadata": {
    "colab": {
      "provenance": []
    },
    "kernelspec": {
      "display_name": "Python 3 (ipykernel)",
      "language": "python",
      "name": "python3"
    },
    "language_info": {
      "codemirror_mode": {
        "name": "ipython",
        "version": 3
      },
      "file_extension": ".py",
      "mimetype": "text/x-python",
      "name": "python",
      "nbconvert_exporter": "python",
      "pygments_lexer": "ipython3",
      "version": "3.11.4"
    }
  },
  "nbformat": 4,
  "nbformat_minor": 5
}