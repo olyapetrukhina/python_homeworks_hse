{
  "nbformat": 4,
  "nbformat_minor": 0,
  "metadata": {
    "colab": {
      "provenance": []
    },
    "kernelspec": {
      "name": "python3",
      "display_name": "Python 3"
    },
    "language_info": {
      "name": "python"
    }
  },
  "cells": [
    {
      "cell_type": "markdown",
      "source": [
        "# Домашнее задание: декораторы"
      ],
      "metadata": {
        "id": "QY4qPJPpgyIS"
      }
    },
    {
      "cell_type": "markdown",
      "source": [
        "## Импорт библиотек, установка констант"
      ],
      "metadata": {
        "id": "Chacc6YchldZ"
      }
    },
    {
      "cell_type": "code",
      "source": [
        "import requests\n",
        "import time\n",
        "import re\n",
        "from functools import wraps\n",
        "\n",
        "from random import randint"
      ],
      "metadata": {
        "id": "w8iKrWvwhrFd"
      },
      "execution_count": null,
      "outputs": []
    },
    {
      "cell_type": "code",
      "source": [
        "BOOK_PATH = 'https://www.gutenberg.org/files/2638/2638-0.txt'"
      ],
      "metadata": {
        "id": "-LRkS0fSi8Np"
      },
      "execution_count": null,
      "outputs": []
    },
    {
      "cell_type": "markdown",
      "source": [
        "## Задание 1"
      ],
      "metadata": {
        "id": "kARfL8ifg4MH"
      }
    },
    {
      "cell_type": "code",
      "source": [
        "def benchmark(func):\n",
        "    \"\"\"\n",
        "    Декоратор, выводящий время, которое заняло выполнение декорируемой функции\n",
        "    \"\"\"\n",
        "    @wraps(func)\n",
        "\n",
        "\n",
        "    def wrapper(*args, **kwargs):\n",
        "        start_time = time.perf_counter()\n",
        "        result = func(*args, **kwargs)\n",
        "        end_time = time.perf_counter()\n",
        "        print(f'Время выполнения функции {func.__name__}: {end_time - start_time:.6f} секунд')\n",
        "        return result\n",
        "    return wrapper"
      ],
      "metadata": {
        "id": "eqLo4_MrNruh"
      },
      "execution_count": null,
      "outputs": []
    },
    {
      "cell_type": "code",
      "source": [
        "@benchmark\n",
        "# def get_webpage():\n",
        "#     import requests\n",
        "#     webpage = requests.get('https://stepik.org')\n",
        "\n",
        "# get_webpage()"
      ],
      "metadata": {
        "colab": {
          "base_uri": "https://localhost:8080/"
        },
        "id": "iZX1eaPiN4bw",
        "outputId": "588f21ae-7940-4a61-f0d1-c9400b7ef063"
      },
      "execution_count": null,
      "outputs": [
        {
          "output_type": "stream",
          "name": "stdout",
          "text": [
            "Время выполнения функции get_webpage: 0.664468 секунд\n"
          ]
        }
      ]
    },
    {
      "cell_type": "code",
      "source": [
        "@benchmark\n",
        "# def fib(n):\n",
        "#     if n < 2:\n",
        "#         return n\n",
        "#     return fib(n-2) + fib(n-1)\n",
        "\n",
        "# fib(3)"
      ],
      "metadata": {
        "colab": {
          "base_uri": "https://localhost:8080/"
        },
        "id": "OFZqB7FBO0fv",
        "outputId": "4c74a5a3-35f8-47d0-cb32-f81705c9fa31"
      },
      "execution_count": null,
      "outputs": [
        {
          "output_type": "stream",
          "name": "stdout",
          "text": [
            "Функции fib потребовалось 0.000001 секунд\n",
            "Функции fib потребовалось 0.000001 секунд\n",
            "Функции fib потребовалось 0.000001 секунд\n",
            "Функции fib потребовалось 0.001665 секунд\n",
            "Функции fib потребовалось 0.003773 секунд\n"
          ]
        },
        {
          "output_type": "execute_result",
          "data": {
            "text/plain": [
              "2"
            ]
          },
          "metadata": {},
          "execution_count": 55
        }
      ]
    },
    {
      "cell_type": "markdown",
      "source": [
        "## Задание 2"
      ],
      "metadata": {
        "id": "tGlbUKjihL5n"
      }
    },
    {
      "cell_type": "code",
      "source": [
        "def logging(func):\n",
        "    \"\"\"\n",
        "    Декоратор, который выводит параметры с которыми была вызвана функция\n",
        "    \"\"\"\n",
        "    @wraps(func)\n",
        "\n",
        "    def wrapper(*args, **kwargs):\n",
        "        args_str = \", \".join(repr(arg) for arg in args)\n",
        "        kwargs_dict = {key: value for key, value in kwargs.items()}\n",
        "        result = func(*args, **kwargs)\n",
        "        print(f'Функция {func.__name__} вызвана с параметрами: ({args_str}), {kwargs_dict}')\n",
        "        return result\n",
        "\n",
        "    return wrapper"
      ],
      "metadata": {
        "id": "wugOZDLqhNe-"
      },
      "execution_count": null,
      "outputs": []
    },
    {
      "cell_type": "code",
      "source": [
        "@logging\n",
        "# def final_price(*prices, discount=1, **kwargs):\n",
        "#     low = kwargs.get(\"price_low\", min(prices))\n",
        "#     high = kwargs.get(\"price_high\", max(prices))\n",
        "#     return [price - price * discount / 100 for price in prices if low <= price <= high]\n",
        "\n",
        "# print(final_price(100, 200, 300, 400, 500, discount=5))\n",
        "# print(final_price(100, 200, 300, 400, 500, discount=5, price_low=200))\n",
        "# print(final_price(100, 200, 300, 400, 500, discount=5, price_high=200))\n",
        "# print(final_price(100, 200, 300, 400, 500, discount=5, price_low=200, price_high=350))"
      ],
      "metadata": {
        "colab": {
          "base_uri": "https://localhost:8080/"
        },
        "id": "-DfgDCMBQ1qk",
        "outputId": "ecc015fe-706c-477e-d2d1-71e2da4bab54"
      },
      "execution_count": null,
      "outputs": [
        {
          "output_type": "stream",
          "name": "stdout",
          "text": [
            "Функция final_price вызвана с параметрами: (100, 200, 300, 400, 500), {'discount': 5}\n",
            "[95.0, 190.0, 285.0, 380.0, 475.0]\n",
            "Функция final_price вызвана с параметрами: (100, 200, 300, 400, 500), {'discount': 5, 'price_low': 200}\n",
            "[190.0, 285.0, 380.0, 475.0]\n",
            "Функция final_price вызвана с параметрами: (100, 200, 300, 400, 500), {'discount': 5, 'price_high': 200}\n",
            "[95.0, 190.0]\n",
            "Функция final_price вызвана с параметрами: (100, 200, 300, 400, 500), {'discount': 5, 'price_low': 200, 'price_high': 350}\n",
            "[190.0, 285.0]\n"
          ]
        }
      ]
    },
    {
      "cell_type": "markdown",
      "source": [
        "## Задание 3"
      ],
      "metadata": {
        "id": "Sq1tv5fshTfv"
      }
    },
    {
      "cell_type": "code",
      "source": [
        "def counter(func):\n",
        "    \"\"\"\n",
        "    Декоратор, считающий и выводящий количество вызовов декорируемой функции\n",
        "    \"\"\"\n",
        "    @wraps(func)\n",
        "\n",
        "    def wrapper(*args, **kwargs):\n",
        "        wrapper.calls += 1\n",
        "        result = func(*args, **kwargs)\n",
        "        print(f\"Функция {func.__name__} была вызвана {wrapper.calls} раз(а)\")\n",
        "        return result\n",
        "\n",
        "    wrapper.calls = 0\n",
        "    return wrapper"
      ],
      "metadata": {
        "id": "9nyvuxXkhVeb"
      },
      "execution_count": null,
      "outputs": []
    },
    {
      "cell_type": "code",
      "source": [
        "@counter\n",
        "# def final_price(*prices, discount=1, **kwargs):\n",
        "#     low = kwargs.get(\"price_low\", min(prices))\n",
        "#     high = kwargs.get(\"price_high\", max(prices))\n",
        "#     return [price - price * discount / 100 for price in prices if low <= price <= high]\n",
        "\n",
        "# print(final_price(100, 200, 300, 400, 500, discount=5))\n",
        "# print(final_price(100, 200, 300, 400, 500, discount=5, price_low=200))\n",
        "# print(final_price(100, 200, 300, 400, 500, discount=5, price_high=200))\n",
        "# print(final_price(100, 200, 300, 400, 500, discount=5, price_low=200, price_high=350))"
      ],
      "metadata": {
        "colab": {
          "base_uri": "https://localhost:8080/"
        },
        "id": "11Wk4q9oUgtv",
        "outputId": "a43f3e6c-9b57-4369-e552-06e13f944a51"
      },
      "execution_count": null,
      "outputs": [
        {
          "output_type": "stream",
          "name": "stdout",
          "text": [
            "Функция final_price была вызвана 1 раз(а)\n",
            "[95.0, 190.0, 285.0, 380.0, 475.0]\n",
            "Функция final_price была вызвана 2 раз(а)\n",
            "[190.0, 285.0, 380.0, 475.0]\n",
            "Функция final_price была вызвана 3 раз(а)\n",
            "[95.0, 190.0]\n",
            "Функция final_price была вызвана 4 раз(а)\n",
            "[190.0, 285.0]\n"
          ]
        }
      ]
    },
    {
      "cell_type": "code",
      "source": [
        "@counter\n",
        "# def fib(n):\n",
        "#     if n < 2:\n",
        "#         return n\n",
        "#     return fib(n-2) + fib(n-1)\n",
        "\n",
        "# fib(3)"
      ],
      "metadata": {
        "colab": {
          "base_uri": "https://localhost:8080/"
        },
        "id": "pzSDVjZ9UwkT",
        "outputId": "29e53fcb-e8bd-4570-9797-0cf8b005c2ae"
      },
      "execution_count": null,
      "outputs": [
        {
          "output_type": "stream",
          "name": "stdout",
          "text": [
            "Функция fib была вызвана 2 раз(а)\n",
            "Функция fib была вызвана 4 раз(а)\n",
            "Функция fib была вызвана 5 раз(а)\n",
            "Функция fib была вызвана 5 раз(а)\n",
            "Функция fib была вызвана 5 раз(а)\n"
          ]
        },
        {
          "output_type": "execute_result",
          "data": {
            "text/plain": [
              "2"
            ]
          },
          "metadata": {},
          "execution_count": 105
        }
      ]
    },
    {
      "cell_type": "markdown",
      "source": [
        "## Задание 4"
      ],
      "metadata": {
        "id": "uHn8Adfshz5q"
      }
    },
    {
      "cell_type": "code",
      "source": [
        "def memo(func):\n",
        "  \"\"\"\n",
        "  Декоратор, запоминающий результаты исполнения функции func, чьи аргументы args должны быть хешируемыми\n",
        "  \"\"\"\n",
        "  cache = {}\n",
        "  @wraps(func)\n",
        "  def fmemo(*args):\n",
        "      if args not in cache:\n",
        "          cache[args] = func(*args)\n",
        "      return cache[args]\n",
        "  fmemo.cache = cache\n",
        "  return fmemo"
      ],
      "metadata": {
        "id": "J_r4X6T-fetl"
      },
      "execution_count": null,
      "outputs": []
    },
    {
      "cell_type": "markdown",
      "source": [
        "## Тестирование"
      ],
      "metadata": {
        "id": "Zn5UQCa_izxo"
      }
    },
    {
      "cell_type": "code",
      "source": [
        "@counter\n",
        "@logging\n",
        "@benchmark\n",
        "def word_count(word, url=BOOK_PATH):\n",
        "    \"\"\"\n",
        "    Функция для посчета указанного слова на html-странице\n",
        "    \"\"\"\n",
        "\n",
        "    # отправляем запрос в библиотеку Gutenberg и забираем текст\n",
        "    raw = requests.get(url).text\n",
        "\n",
        "    # заменяем в тексте все небуквенные символы на пробелы\n",
        "    processed_book = re.sub('[\\W]+' , ' ', raw).lower()\n",
        "\n",
        "    # считаем\n",
        "    cnt = len(re.findall(word.lower(), processed_book))\n",
        "\n",
        "    return f\"Cлово {word} встречается {cnt} раз\"\n",
        "\n",
        "print(word_count('whole'))"
      ],
      "metadata": {
        "id": "CHCJ64I8i2QB",
        "colab": {
          "base_uri": "https://localhost:8080/"
        },
        "outputId": "2cbd6a71-1aa4-415c-dc8a-e4c368615bdc"
      },
      "execution_count": null,
      "outputs": [
        {
          "output_type": "stream",
          "name": "stdout",
          "text": [
            "Время выполнения функции word_count: 0.440753 секунд\n",
            "Функция word_count вызвана с параметрами: ('whole'), {}\n",
            "Функция word_count была вызвана 1 раз(а)\n",
            "Cлово whole встречается 176 раз\n"
          ]
        }
      ]
    },
    {
      "cell_type": "code",
      "source": [
        "def fib(n):\n",
        "    if n < 2:\n",
        "        return n\n",
        "    return fib(n-2) + fib(n-1)"
      ],
      "metadata": {
        "id": "ZE4Rfn-hh3k3"
      },
      "execution_count": null,
      "outputs": []
    },
    {
      "cell_type": "code",
      "source": [
        "#измеряем время"
      ],
      "metadata": {
        "id": "JuXc74hGltdW"
      },
      "execution_count": null,
      "outputs": []
    },
    {
      "cell_type": "code",
      "source": [
        "def fib(n):\n",
        " if n < 2:\n",
        "  return n\n",
        " return fib(n-2) + fib(n-1)\n",
        "\n",
        "\n",
        "\n",
        "n = 30\n",
        "start = time.time()\n",
        "fib(n)\n",
        "end = time.time()\n",
        "\n",
        "print(\"Время работы функции без с декоратора memo:\", round(end - start, 10))"
      ],
      "metadata": {
        "colab": {
          "base_uri": "https://localhost:8080/"
        },
        "id": "ledYsf5xl25x",
        "outputId": "791e2d9e-4730-4751-ebd4-98a0c823085e"
      },
      "execution_count": 247,
      "outputs": [
        {
          "output_type": "stream",
          "name": "stdout",
          "text": [
            "Время работы функции без с декоратора memo: 0.6442248821\n"
          ]
        }
      ]
    },
    {
      "cell_type": "code",
      "source": [
        "start = time.time()\n",
        "@memo\n",
        "def fib(n):\n",
        " if n < 2:\n",
        "  return n\n",
        " return fib(n-2) + fib(n-1)\n",
        "end = time.time()\n",
        "print(\"Время работы функции с декоратором memo:\", round(end - start, 10))"
      ],
      "metadata": {
        "colab": {
          "base_uri": "https://localhost:8080/"
        },
        "id": "8NiGoxeflZM-",
        "outputId": "bb762fe2-e5ac-45a2-8a37-819dadbbd943"
      },
      "execution_count": 248,
      "outputs": [
        {
          "output_type": "stream",
          "name": "stdout",
          "text": [
            "Время работы функции с декоратором memo: 0.0002462864\n"
          ]
        }
      ]
    },
    {
      "cell_type": "markdown",
      "source": [
        "**Вывод**: разница существенна: подсчет с использованием декоратора memo выполняется в разы быстрее"
      ],
      "metadata": {
        "id": "yUebxkKtmLqI"
      }
    }
  ]
}