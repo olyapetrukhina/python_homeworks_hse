{
 "cells": [
  {
   "cell_type": "markdown",
   "metadata": {
    "id": "gWKJuEre_u-N"
   },
   "source": [
    "# Домашнее задание 2\n",
    "\n",
    "## pandas + парсинг\n",
    "\n",
    "Здесь находится главная страница [Системного блока](https://sysblok.ru)\n",
    "\n",
    "Соберите корпус новостей (можно спарсить все новости или небольшую часть)\n",
    "\n",
    "Дедлайн: 31 декабря включительно"
   ]
  },
  {
   "cell_type": "code",
   "execution_count": 1,
   "metadata": {
    "id": "pSRHGrfg_dpE"
   },
   "outputs": [],
   "source": [
    "# необходимые импорты\n",
    "import requests as rq\n",
    "from bs4 import BeautifulSoup\n",
    "import pandas as pd"
   ]
  },
  {
   "cell_type": "markdown",
   "metadata": {
    "id": "F-WJ-h_PA9Bf"
   },
   "source": [
    "### шаг 1"
   ]
  },
  {
   "cell_type": "code",
   "execution_count": 2,
   "metadata": {
    "colab": {
     "base_uri": "https://localhost:8080/"
    },
    "id": "1EZIxFPfAeV3",
    "outputId": "69aef723-ed92-4252-c520-d1ca2ca17e46"
   },
   "outputs": [
    {
     "name": "stdout",
     "output_type": "stream",
     "text": [
      "['https://sysblok.ru', 'https://sysblok.ru/page/2', 'https://sysblok.ru/page/3', 'https://sysblok.ru/page/4', 'https://sysblok.ru/page/5', 'https://sysblok.ru/page/6', 'https://sysblok.ru/page/7', 'https://sysblok.ru/page/8', 'https://sysblok.ru/page/9', 'https://sysblok.ru/page/10', 'https://sysblok.ru/page/11', 'https://sysblok.ru/page/12', 'https://sysblok.ru/page/13', 'https://sysblok.ru/page/14', 'https://sysblok.ru/page/15', 'https://sysblok.ru/page/16']\n"
     ]
    }
   ],
   "source": [
    "# соберите все ссылки на страницы с новостями\n",
    "# 1 страница: https://sysblok.ru\n",
    "# 2 страница: https://sysblok.ru/page/2\n",
    "# последняя: https://sysblok.ru/page/16\n",
    "\n",
    "all_page = ['https://sysblok.ru']\n",
    "for i in range (2,17):\n",
    "    all_page.append(f\"https://sysblok.ru/page/{i}\")\n",
    "print (all_page)"
   ]
  },
  {
   "cell_type": "code",
   "execution_count": 41,
   "metadata": {
    "colab": {
     "base_uri": "https://localhost:8080/"
    },
    "id": "QDjnlDavQojl",
    "outputId": "c11e1c42-8906-45ce-e0f4-d039c66c3d27"
   },
   "outputs": [],
   "source": [
    "for page in all_page:\n",
    "    page1 = rq.get(page)\n",
    "    print(page1.status_code)"
   ]
  },
  {
   "cell_type": "code",
   "execution_count": 38,
   "metadata": {
    "id": "Jxffj85TRK0N"
   },
   "outputs": [],
   "source": [
    "for page in all_page:\n",
    "    soup = BeautifulSoup(page1.text, features=\"html.parser\")\n",
    "    print(soup.prettify())"
   ]
  },
  {
   "cell_type": "markdown",
   "metadata": {
    "id": "XeIBEKGyA-pn"
   },
   "source": [
    "### шаг 2"
   ]
  },
  {
   "cell_type": "code",
   "execution_count": 42,
   "metadata": {
    "id": "x9ti7TfWA7VN"
   },
   "outputs": [],
   "source": [
    "# с каждой страницы соберите ссылки на отдельные новости\n",
    "# подсказка: родительский тег h2 (проверяйте по нему), нужный нам - a\n",
    "full_urls = []\n",
    "\n",
    "for page in all_page:\n",
    "    for i in soup.find_all('a'):\n",
    "        if i.parent.name == 'h2':\n",
    "            full_urls.append(i.get('href'))\n",
    "\n",
    "full_urls"
   ]
  },
  {
   "cell_type": "markdown",
   "metadata": {
    "id": "tMfZa9Y-Bbtn"
   },
   "source": [
    "### шаг 3\n",
    "\n",
    "работаем с 1 новостью:\n",
    "\n",
    "нас интересует название, автор, дата публикации, текст (дополнительно можно спарсить тематические категории)"
   ]
  },
  {
   "cell_type": "code",
   "execution_count": 6,
   "metadata": {
    "id": "8bFB7G4uB6b3"
   },
   "outputs": [],
   "source": [
    "# для парсинга даты: извлеките текст из тега time\n",
    "url0 = full_urls[0]\n",
    "page0 = rq.get(url0)"
   ]
  },
  {
   "cell_type": "code",
   "execution_count": 39,
   "metadata": {},
   "outputs": [],
   "source": [
    "soup0 = BeautifulSoup(page0.text)\n",
    "print(soup0.prettify())"
   ]
  },
  {
   "cell_type": "code",
   "execution_count": 8,
   "metadata": {
    "colab": {
     "base_uri": "https://localhost:8080/"
    },
    "id": "ksy5_yYLcGYZ",
    "outputId": "846ee39d-7638-45fc-d436-4b4b358f104d"
   },
   "outputs": [
    {
     "data": {
      "text/plain": [
       "'05.10.2018'"
      ]
     },
     "execution_count": 8,
     "metadata": {},
     "output_type": "execute_result"
    }
   ],
   "source": [
    "soup0.find('time').get_text()"
   ]
  },
  {
   "cell_type": "code",
   "execution_count": 10,
   "metadata": {
    "colab": {
     "base_uri": "https://localhost:8080/"
    },
    "id": "sWIRCUdMCAOx",
    "outputId": "cdc1197b-16dc-4d00-a3a2-af7c32704f44"
   },
   "outputs": [
    {
     "name": "stdout",
     "output_type": "stream",
     "text": [
      "Робот прикинулся учителем. Никто не заметил\n"
     ]
    }
   ],
   "source": [
    "# для парсинга заголовка: извлеките текст из тега h1\n",
    "print(soup0.find_all('h1')[0].get_text())"
   ]
  },
  {
   "cell_type": "code",
   "execution_count": 43,
   "metadata": {
    "colab": {
     "base_uri": "https://localhost:8080/",
     "height": 123
    },
    "id": "ZbJx5m49CCrd",
    "outputId": "22cf7c93-23f0-4397-9e9e-37ad5f01bf25"
   },
   "outputs": [],
   "source": [
    "# для парсинга текста: соберите все тексты из тега p и соедините в строку\n",
    "text_list = soup0.find_all('p')\n",
    "\n",
    "text = []\n",
    "for i in text_list:\n",
    "    \n",
    "    if i.text:\n",
    "        text.append(i.text)\n",
    "\n",
    "final_text = ' '.join(text)\n",
    "final_text = final_text.replace('\\n', '')\n",
    "final_text"
   ]
  },
  {
   "cell_type": "code",
   "execution_count": 14,
   "metadata": {
    "colab": {
     "base_uri": "https://localhost:8080/"
    },
    "id": "ZId6Z8_hCUXm",
    "outputId": "95084635-71f9-4b2f-c2e1-062be13e3e43"
   },
   "outputs": [
    {
     "name": "stdout",
     "output_type": "stream",
     "text": [
      "Татьяна Дубинина\n"
     ]
    }
   ],
   "source": [
    "# автор:\n",
    "for i in soup0.find_all('meta'):\n",
    "    if i.get('name') == 'author':\n",
    "        print(i.get(\"content\"))"
   ]
  },
  {
   "cell_type": "code",
   "execution_count": 15,
   "metadata": {
    "colab": {
     "base_uri": "https://localhost:8080/"
    },
    "id": "l5mSYWsPCoBJ",
    "outputId": "a44991ef-ef56-4873-e1d9-b416f2cabd3c"
   },
   "outputs": [
    {
     "name": "stdout",
     "output_type": "stream",
     "text": [
      "образование\n",
      "общество\n",
      "робот\n"
     ]
    }
   ],
   "source": [
    "# тематические категории:\n",
    "for i in soup0.find_all('a'):\n",
    "    \n",
    "    if i.get('rel') is not None and i.get('rel')[0] == 'tag':\n",
    "        print(i.get_text())"
   ]
  },
  {
   "cell_type": "markdown",
   "metadata": {
    "id": "_Si6KFXkDV9d"
   },
   "source": [
    "### шаг 4"
   ]
  },
  {
   "cell_type": "code",
   "execution_count": 16,
   "metadata": {
    "id": "E8iEHxY7DYq2"
   },
   "outputs": [],
   "source": [
    "# пишем функцию по сбору информации\n",
    "def GetNews(url0):\n",
    "    page0 = rq.get(url0)\n",
    "    soup0 = BeautifulSoup(page0.text, features=\"html.parser\")\n",
    "    \n",
    "    time = soup0.find('time').get_text()\n",
    "    author = soup0.find_all('meta', {'name' : 'author'})[0].attrs['content']\n",
    "    \n",
    "    title = soup0.find_all('h1')[0].get_text()\n",
    "    \n",
    "    tags = []\n",
    "    for i in soup0.find_all('a'):\n",
    "        if i.get('rel') is not None and i.get('rel')[0] == 'tag':\n",
    "            tag = i.get_text()\n",
    "            tags.append(tag)\n",
    "            \n",
    "    text_list = soup0.find_all('p')\n",
    "    text = [i.text for i in text_list if i.text]\n",
    "    final_text = ' '.join(text)\n",
    "    final_text = final_text.replace('\\n', '')\n",
    "    return url0, author, time, title, tags, final_text"
   ]
  },
  {
   "cell_type": "code",
   "execution_count": 17,
   "metadata": {},
   "outputs": [
    {
     "data": {
      "text/plain": [
       "('https://sysblok.ru/society/robot-prikinulsja-uchitelem-nikto-ne-zametil/',\n",
       " 'Татьяна Дубинина',\n",
       " '05.10.2018',\n",
       " 'Робот прикинулся учителем. Никто не заметил',\n",
       " ['образование', 'общество', 'робот'],\n",
       " 'Электронный ассистент успешно выдавал себя за живого, переписываясь со студентами и рассылая задания… С днем учителя! Профессор Технологического института Джорджии (Georgia Tech) доверил обязанности своего ассистента боту. Студенты даже не догадались, что общаются не с человеком. «Джилл Уотсон» (Jill Watson) выполняла для Гоэла рутинную работу ассистента: отвечала на вопросы, которые студенты задавали на форуме, рассылала им по электронной почте напоминания о важных событиях… Все происходило настолько «по-человечески», что никому из студентов не пришло в голову , что они переписываются с ботом. Робот Джилл сделана на основе системы IBM Watson. В процессе обучения Джилл исследователи из Georgia Tech предъявили ей более 40 000 постов из обсуждений на образовательной платформе Piazza, а также научили ее использовать предыдущие сообщения для ответа на вопросы по связанной теме. «Наших ассистентов заваливают одними и теми же вопросами», — говорит Гоэл и добавляет, что приходится обрабатывать огромное количество обращений: за семестр студенты оставляют до 10 000 сообщений. Он утверждает, что через год Уотсон сможет отвечать на 40% вопросов студентов, и это позволит людям сконцентрироваться на более сложных технических моментах. Подробнее узнать о Джилл Уотсон можно в этой\\xa0статье. Теги:образование, общество, робот 10 декабря в Стокгольме Нобелевский комитет наградил лауреатов 2023 года. По этому поводу мы изучили сведения о том, кому вручали премию в течение всей её истории — с 1901 года. Теперь мы знаем, где нужно родиться, в каком университете работать и до скольких лет ждать, чтобы получить признание комитета. Эти и другие наблюдения — в нашем новом материале. Тест о том, как числа могут рассказывать о социальных проблемах. Узнайте, насколько хорошо вы представляете себе Россию Получайте наши подборки первыми Согласен с  политикой конфиденциальности © 2018–2024 Системный Блокъ')"
      ]
     },
     "execution_count": 17,
     "metadata": {},
     "output_type": "execute_result"
    }
   ],
   "source": [
    "GetNews(url0)"
   ]
  },
  {
   "cell_type": "code",
   "execution_count": 18,
   "metadata": {},
   "outputs": [],
   "source": [
    "from tqdm.notebook import tqdm"
   ]
  },
  {
   "cell_type": "code",
   "execution_count": 19,
   "metadata": {
    "colab": {
     "base_uri": "https://localhost:8080/"
    },
    "id": "Tp4tcVgGDeJs",
    "outputId": "ee3acf21-52e2-47c6-cb83-904a39ce2c40"
   },
   "outputs": [
    {
     "data": {
      "application/vnd.jupyter.widget-view+json": {
       "model_id": "fc9f1ae25a6940e8bc095c9bfc7d92b5",
       "version_major": 2,
       "version_minor": 0
      },
      "text/plain": [
       "  0%|          | 0/656 [00:00<?, ?it/s]"
      ]
     },
     "metadata": {},
     "output_type": "display_data"
    }
   ],
   "source": [
    "# собираем все новости!\n",
    "# полезно использовать try / except\n",
    "news = []\n",
    "\n",
    "for link in tqdm(full_urls):\n",
    "    try:\n",
    "        new = GetNews(link)\n",
    "        news.append(new)\n",
    "    except:\n",
    "        print(link)"
   ]
  },
  {
   "cell_type": "code",
   "execution_count": 40,
   "metadata": {
    "id": "IFYPBADuoLZx"
   },
   "outputs": [],
   "source": [
    "news"
   ]
  },
  {
   "cell_type": "markdown",
   "metadata": {
    "id": "i2gKsPgUDkMf"
   },
   "source": [
    "### шаг 5"
   ]
  },
  {
   "cell_type": "code",
   "execution_count": 21,
   "metadata": {
    "id": "5Aj9qgg8DjiJ"
   },
   "outputs": [],
   "source": [
    "# соберите всю собранную информацию в датафрейм\n"
   ]
  },
  {
   "cell_type": "code",
   "execution_count": null,
   "metadata": {},
   "outputs": [],
   "source": [
    "df = pd.DataFrame(news)"
   ]
  },
  {
   "cell_type": "code",
   "execution_count": 31,
   "metadata": {},
   "outputs": [],
   "source": [
    "df[4] = df[4].apply(lambda x: \", \".join(x))"
   ]
  },
  {
   "cell_type": "code",
   "execution_count": 33,
   "metadata": {
    "colab": {
     "base_uri": "https://localhost:8080/",
     "height": 53
    },
    "id": "q_fpJ3f1DqvX",
    "outputId": "b6055e5d-4926-43ee-d3e6-575c6c07f4b8"
   },
   "outputs": [
    {
     "data": {
      "text/html": [
       "<div>\n",
       "<style scoped>\n",
       "    .dataframe tbody tr th:only-of-type {\n",
       "        vertical-align: middle;\n",
       "    }\n",
       "\n",
       "    .dataframe tbody tr th {\n",
       "        vertical-align: top;\n",
       "    }\n",
       "\n",
       "    .dataframe thead th {\n",
       "        text-align: right;\n",
       "    }\n",
       "</style>\n",
       "<table border=\"1\" class=\"dataframe\">\n",
       "  <thead>\n",
       "    <tr style=\"text-align: right;\">\n",
       "      <th></th>\n",
       "      <th>0</th>\n",
       "      <th>1</th>\n",
       "      <th>2</th>\n",
       "      <th>3</th>\n",
       "      <th>4</th>\n",
       "      <th>5</th>\n",
       "    </tr>\n",
       "  </thead>\n",
       "  <tbody>\n",
       "    <tr>\n",
       "      <th>0</th>\n",
       "      <td>https://sysblok.ru/society/robot-prikinulsja-u...</td>\n",
       "      <td>Татьяна Дубинина</td>\n",
       "      <td>05.10.2018</td>\n",
       "      <td>Робот прикинулся учителем. Никто не заметил</td>\n",
       "      <td>образование, общество, робот</td>\n",
       "      <td>Электронный ассистент успешно выдавал себя за ...</td>\n",
       "    </tr>\n",
       "    <tr>\n",
       "      <th>1</th>\n",
       "      <td>https://sysblok.ru/society/bolshoj-brat-na-mil...</td>\n",
       "      <td>Инга Картозия</td>\n",
       "      <td>01.10.2018</td>\n",
       "      <td>Большой Брат на миллиард</td>\n",
       "      <td></td>\n",
       "      <td>Как в век интернета и соцсетей построить оруэл...</td>\n",
       "    </tr>\n",
       "    <tr>\n",
       "      <th>2</th>\n",
       "      <td>https://sysblok.ru/arts/koshmarnye-sny-nejrose...</td>\n",
       "      <td>Системный Блокъ</td>\n",
       "      <td>30.09.2018</td>\n",
       "      <td>Кошмарные сны нейросетей</td>\n",
       "      <td>искусственный интеллект, искусство, нейросети</td>\n",
       "      <td>Как алгоритмы научились видеть ночные кошмары ...</td>\n",
       "    </tr>\n",
       "    <tr>\n",
       "      <th>3</th>\n",
       "      <td>https://sysblok.ru/education/poshhady-ne-budet...</td>\n",
       "      <td>Олий Курилов</td>\n",
       "      <td>28.09.2018</td>\n",
       "      <td>Пощады не будет: учителей меняют на роботов</td>\n",
       "      <td></td>\n",
       "      <td>Преподаешь? Роботы уже готовы лишить тебя рабо...</td>\n",
       "    </tr>\n",
       "    <tr>\n",
       "      <th>4</th>\n",
       "      <td>https://sysblok.ru/courses/reguljarnye-vyrazhe...</td>\n",
       "      <td>Мариана Зорькина</td>\n",
       "      <td>27.09.2018</td>\n",
       "      <td>Регулярные выражения. Часть 2</td>\n",
       "      <td></td>\n",
       "      <td>Как найти все цифры в учебнике по истории, амп...</td>\n",
       "    </tr>\n",
       "  </tbody>\n",
       "</table>\n",
       "</div>"
      ],
      "text/plain": [
       "                                                   0                 1  \\\n",
       "0  https://sysblok.ru/society/robot-prikinulsja-u...  Татьяна Дубинина   \n",
       "1  https://sysblok.ru/society/bolshoj-brat-na-mil...     Инга Картозия   \n",
       "2  https://sysblok.ru/arts/koshmarnye-sny-nejrose...   Системный Блокъ   \n",
       "3  https://sysblok.ru/education/poshhady-ne-budet...      Олий Курилов   \n",
       "4  https://sysblok.ru/courses/reguljarnye-vyrazhe...  Мариана Зорькина   \n",
       "\n",
       "            2                                            3  \\\n",
       "0  05.10.2018  Робот прикинулся учителем. Никто не заметил   \n",
       "1  01.10.2018                     Большой Брат на миллиард   \n",
       "2  30.09.2018                     Кошмарные сны нейросетей   \n",
       "3  28.09.2018  Пощады не будет: учителей меняют на роботов   \n",
       "4  27.09.2018                Регулярные выражения. Часть 2   \n",
       "\n",
       "                                               4  \\\n",
       "0                   образование, общество, робот   \n",
       "1                                                  \n",
       "2  искусственный интеллект, искусство, нейросети   \n",
       "3                                                  \n",
       "4                                                  \n",
       "\n",
       "                                                   5  \n",
       "0  Электронный ассистент успешно выдавал себя за ...  \n",
       "1  Как в век интернета и соцсетей построить оруэл...  \n",
       "2  Как алгоритмы научились видеть ночные кошмары ...  \n",
       "3  Преподаешь? Роботы уже готовы лишить тебя рабо...  \n",
       "4  Как найти все цифры в учебнике по истории, амп...  "
      ]
     },
     "execution_count": 33,
     "metadata": {},
     "output_type": "execute_result"
    }
   ],
   "source": [
    "df.head()"
   ]
  },
  {
   "cell_type": "code",
   "execution_count": 34,
   "metadata": {},
   "outputs": [],
   "source": [
    "df.columns = ['link', 'author', 'date', 'title', \"tags\", 'text']"
   ]
  },
  {
   "cell_type": "code",
   "execution_count": 35,
   "metadata": {
    "scrolled": true
   },
   "outputs": [
    {
     "data": {
      "text/html": [
       "<div>\n",
       "<style scoped>\n",
       "    .dataframe tbody tr th:only-of-type {\n",
       "        vertical-align: middle;\n",
       "    }\n",
       "\n",
       "    .dataframe tbody tr th {\n",
       "        vertical-align: top;\n",
       "    }\n",
       "\n",
       "    .dataframe thead th {\n",
       "        text-align: right;\n",
       "    }\n",
       "</style>\n",
       "<table border=\"1\" class=\"dataframe\">\n",
       "  <thead>\n",
       "    <tr style=\"text-align: right;\">\n",
       "      <th></th>\n",
       "      <th>link</th>\n",
       "      <th>author</th>\n",
       "      <th>date</th>\n",
       "      <th>title</th>\n",
       "      <th>tags</th>\n",
       "      <th>text</th>\n",
       "    </tr>\n",
       "  </thead>\n",
       "  <tbody>\n",
       "    <tr>\n",
       "      <th>0</th>\n",
       "      <td>https://sysblok.ru/society/robot-prikinulsja-u...</td>\n",
       "      <td>Татьяна Дубинина</td>\n",
       "      <td>05.10.2018</td>\n",
       "      <td>Робот прикинулся учителем. Никто не заметил</td>\n",
       "      <td>образование, общество, робот</td>\n",
       "      <td>Электронный ассистент успешно выдавал себя за ...</td>\n",
       "    </tr>\n",
       "    <tr>\n",
       "      <th>1</th>\n",
       "      <td>https://sysblok.ru/society/bolshoj-brat-na-mil...</td>\n",
       "      <td>Инга Картозия</td>\n",
       "      <td>01.10.2018</td>\n",
       "      <td>Большой Брат на миллиард</td>\n",
       "      <td></td>\n",
       "      <td>Как в век интернета и соцсетей построить оруэл...</td>\n",
       "    </tr>\n",
       "    <tr>\n",
       "      <th>2</th>\n",
       "      <td>https://sysblok.ru/arts/koshmarnye-sny-nejrose...</td>\n",
       "      <td>Системный Блокъ</td>\n",
       "      <td>30.09.2018</td>\n",
       "      <td>Кошмарные сны нейросетей</td>\n",
       "      <td>искусственный интеллект, искусство, нейросети</td>\n",
       "      <td>Как алгоритмы научились видеть ночные кошмары ...</td>\n",
       "    </tr>\n",
       "    <tr>\n",
       "      <th>3</th>\n",
       "      <td>https://sysblok.ru/education/poshhady-ne-budet...</td>\n",
       "      <td>Олий Курилов</td>\n",
       "      <td>28.09.2018</td>\n",
       "      <td>Пощады не будет: учителей меняют на роботов</td>\n",
       "      <td></td>\n",
       "      <td>Преподаешь? Роботы уже готовы лишить тебя рабо...</td>\n",
       "    </tr>\n",
       "    <tr>\n",
       "      <th>4</th>\n",
       "      <td>https://sysblok.ru/courses/reguljarnye-vyrazhe...</td>\n",
       "      <td>Мариана Зорькина</td>\n",
       "      <td>27.09.2018</td>\n",
       "      <td>Регулярные выражения. Часть 2</td>\n",
       "      <td></td>\n",
       "      <td>Как найти все цифры в учебнике по истории, амп...</td>\n",
       "    </tr>\n",
       "  </tbody>\n",
       "</table>\n",
       "</div>"
      ],
      "text/plain": [
       "                                                link            author  \\\n",
       "0  https://sysblok.ru/society/robot-prikinulsja-u...  Татьяна Дубинина   \n",
       "1  https://sysblok.ru/society/bolshoj-brat-na-mil...     Инга Картозия   \n",
       "2  https://sysblok.ru/arts/koshmarnye-sny-nejrose...   Системный Блокъ   \n",
       "3  https://sysblok.ru/education/poshhady-ne-budet...      Олий Курилов   \n",
       "4  https://sysblok.ru/courses/reguljarnye-vyrazhe...  Мариана Зорькина   \n",
       "\n",
       "         date                                        title  \\\n",
       "0  05.10.2018  Робот прикинулся учителем. Никто не заметил   \n",
       "1  01.10.2018                     Большой Брат на миллиард   \n",
       "2  30.09.2018                     Кошмарные сны нейросетей   \n",
       "3  28.09.2018  Пощады не будет: учителей меняют на роботов   \n",
       "4  27.09.2018                Регулярные выражения. Часть 2   \n",
       "\n",
       "                                            tags  \\\n",
       "0                   образование, общество, робот   \n",
       "1                                                  \n",
       "2  искусственный интеллект, искусство, нейросети   \n",
       "3                                                  \n",
       "4                                                  \n",
       "\n",
       "                                                text  \n",
       "0  Электронный ассистент успешно выдавал себя за ...  \n",
       "1  Как в век интернета и соцсетей построить оруэл...  \n",
       "2  Как алгоритмы научились видеть ночные кошмары ...  \n",
       "3  Преподаешь? Роботы уже готовы лишить тебя рабо...  \n",
       "4  Как найти все цифры в учебнике по истории, амп...  "
      ]
     },
     "execution_count": 35,
     "metadata": {},
     "output_type": "execute_result"
    }
   ],
   "source": [
    "df.head()"
   ]
  },
  {
   "cell_type": "markdown",
   "metadata": {
    "id": "0lXQWScoDrFm"
   },
   "source": [
    "Готово!\n",
    "Загрузите ваш код и собранные новости на GitHub"
   ]
  },
  {
   "cell_type": "code",
   "execution_count": 37,
   "metadata": {},
   "outputs": [],
   "source": [
    "df.to_excel('sysblok_news.xlsx')"
   ]
  }
 ],
 "metadata": {
  "colab": {
   "provenance": []
  },
  "kernelspec": {
   "display_name": "Python 3 (ipykernel)",
   "language": "python",
   "name": "python3"
  },
  "language_info": {
   "codemirror_mode": {
    "name": "ipython",
    "version": 3
   },
   "file_extension": ".py",
   "mimetype": "text/x-python",
   "name": "python",
   "nbconvert_exporter": "python",
   "pygments_lexer": "ipython3",
   "version": "3.11.4"
  }
 },
 "nbformat": 4,
 "nbformat_minor": 1
}
