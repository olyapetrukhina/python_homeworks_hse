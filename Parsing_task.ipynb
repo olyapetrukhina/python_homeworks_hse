{
  "cells": [
    {
      "cell_type": "markdown",
      "metadata": {
        "id": "L_2Vw-KDXPz8"
      },
      "source": [
        "# Сбор данных с сайта РИА Новости"
      ]
    },
    {
      "cell_type": "code",
      "execution_count": null,
      "metadata": {
        "id": "4OpzfTAm9tKW"
      },
      "outputs": [],
      "source": [
        "%%capture\n",
        "!pip install selenium"
      ]
    },
    {
      "cell_type": "code",
      "execution_count": null,
      "metadata": {
        "id": "sLvaFNoGXPz-"
      },
      "outputs": [],
      "source": [
        "import re\n",
        "import time\n",
        "import datetime\n",
        "import pandas as pd\n",
        "import warnings\n",
        "from tqdm import tqdm\n",
        "from bs4 import BeautifulSoup\n",
        "from selenium import webdriver\n",
        "from dataclasses import dataclass\n",
        "\n",
        "warnings.filterwarnings(\"ignore\", category=FutureWarning)"
      ]
    },
    {
      "cell_type": "code",
      "execution_count": null,
      "metadata": {
        "id": "Et9aXr_AXPz_"
      },
      "outputs": [],
      "source": [
        "SLEEP = 2\n",
        "DEPTH = 20 #число страниц для скрапинга\n",
        "BASE_URL = \"https://ria.ru/\"\n",
        "TOPICS = [\"economy\", \"society\", \"incidents\", \"science\", \"culture\"]"
      ]
    },
    {
      "cell_type": "code",
      "execution_count": null,
      "metadata": {
        "id": "12FLG9pcXPz_"
      },
      "outputs": [],
      "source": [
        "@dataclass\n",
        "class Article:\n",
        "    id: str = None\n",
        "    url: str = None\n",
        "    title: str = None\n",
        "    subtitle: str = None\n",
        "    content: str = None\n",
        "    datetime: str = None"
      ]
    },
    {
      "cell_type": "code",
      "execution_count": null,
      "metadata": {
        "id": "WkccHzEPXPz_"
      },
      "outputs": [],
      "source": [
        "# set webdriver params\n",
        "chrome_options = webdriver.ChromeOptions()\n",
        "chrome_options.add_argument(\"--blink-settings=imagesEnabled=false\")\n",
        "chrome_options.add_argument(\"headless\")\n",
        "chrome_options.add_argument(\"no-sandbox\")\n",
        "chrome_options.add_argument(\"disable-dev-shm-usage\")\n",
        "driver = webdriver.Chrome(options=chrome_options)"
      ]
    },
    {
      "cell_type": "markdown",
      "source": [
        "Функция для скачивания страниц"
      ],
      "metadata": {
        "id": "9BMldxbBZphZ"
      }
    },
    {
      "cell_type": "code",
      "execution_count": null,
      "metadata": {
        "id": "97RgMNehXPz_"
      },
      "outputs": [],
      "source": [
        "def get_pages():\n",
        "\n",
        "    \"\"\"Load and scroll pages\"\"\"\n",
        "\n",
        "    items, topics_order = [], []\n",
        "\n",
        "    for topic in tqdm(TOPICS):\n",
        "        try:\n",
        "            old_size = len(items)\n",
        "            URL = BASE_URL + topic\n",
        "            driver.get(URL)\n",
        "            time.sleep(SLEEP)\n",
        "\n",
        "            driver.execute_script(\n",
        "                \"document.getElementsByClassName('list-more')[0].click()\"\n",
        "            )\n",
        "            time.sleep(1)\n",
        "\n",
        "            for i in tqdm(range(DEPTH), leave=False):\n",
        "                try:\n",
        "                    driver.execute_script(\n",
        "                        f\"window.scrollTo(0, document.body.scrollHeight - 1200)\"\n",
        "                    )\n",
        "                    time.sleep(1)\n",
        "                except:\n",
        "                    pass\n",
        "\n",
        "            html = driver.page_source\n",
        "            soup = BeautifulSoup(html, \"html.parser\")\n",
        "            scope = soup.find(\n",
        "                \"div\", {\"class\": \"list\", \"itemtype\": \"http://schema.org/ItemList\"}\n",
        "            )\n",
        "            items += scope.find_all(\"div\", {\"class\": \"list-item\"})\n",
        "\n",
        "            new_size = len(items)\n",
        "            if new_size > old_size:\n",
        "                topics_order.extend([topic] * (new_size - old_size))\n",
        "        except:\n",
        "            pass\n",
        "\n",
        "    return items, topics_order"
      ]
    },
    {
      "cell_type": "markdown",
      "source": [
        "Функция для парсинга скачанных страниц."
      ],
      "metadata": {
        "id": "29TbDDVZZyMt"
      }
    },
    {
      "cell_type": "code",
      "execution_count": null,
      "metadata": {
        "id": "sV-n6jw9XP0A"
      },
      "outputs": [],
      "source": [
        "def parse_page(page):\n",
        "    \"\"\"Extract from page desired fields\"\"\"\n",
        "\n",
        "    # Create article data class object\n",
        "    article = Article()\n",
        "\n",
        "    # article url\n",
        "    article.url = page.find(\"a\", {\"class\": \"list-item__image\"})[\"href\"]\n",
        "\n",
        "    # article id\n",
        "    s = re.findall(r\"\\d+.html\", article.url)[0]\n",
        "    article.id = s[: s.find(\".\")]\n",
        "\n",
        "    # load page\n",
        "    driver.get(article.url)\n",
        "    time.sleep(SLEEP)\n",
        "    html = driver.page_source\n",
        "\n",
        "    # article source\n",
        "    source = article.url[8 : article.url.find(\".\")]\n",
        "\n",
        "    # article object\n",
        "    soup = BeautifulSoup(html, \"html.parser\")\n",
        "    obj = soup.find(\n",
        "        \"div\",\n",
        "        {\n",
        "            \"class\": lambda x: x and (x.find(f\"article m-article m-{source}\") > -1),\n",
        "            \"data-article-id\": article.id,\n",
        "        },\n",
        "    )\n",
        "\n",
        "    if not obj:\n",
        "        obj = soup.find(\n",
        "            \"div\",\n",
        "            {\n",
        "                \"class\": lambda x: x and (x.find(f\"article m-video m-{source}\") > -1),\n",
        "                \"data-article-id\": article.id,\n",
        "            },\n",
        "        )\n",
        "\n",
        "    # process article title\n",
        "    title = obj.find(\"div\", {\"class\": \"article__title\"})\n",
        "    title_2 = obj.find(\"h1\", {\"class\": \"article__title\"})\n",
        "\n",
        "    if title:\n",
        "        article.title = title.text\n",
        "    else:\n",
        "        article.title = title_2.text if title_2 else \"\"\n",
        "\n",
        "    # article subtitle\n",
        "    subtitle = obj.find(\"h1\", {\"class\": \"article__second-title\"})\n",
        "    article.subtitle = subtitle.text if subtitle else \"\"\n",
        "\n",
        "    # article content\n",
        "    article.content = obj.find(\n",
        "        \"div\", {\"class\": \"article__body js-mediator-article mia-analytics\"}\n",
        "    ).text\n",
        "\n",
        "    # article datetime\n",
        "    article.datetime = obj.find(\"div\", {\"class\": \"article__info-date\"}).find(\"a\").text\n",
        "\n",
        "    # article number of views\n",
        "    # article.views = int(obj.find('span', {'class': 'statistic__item m-views'}).text)\n",
        "\n",
        "    return article"
      ]
    },
    {
      "cell_type": "markdown",
      "source": [
        "Скачайте новости."
      ],
      "metadata": {
        "id": "HX8gnfu1Z2F7"
      }
    },
    {
      "cell_type": "code",
      "execution_count": null,
      "metadata": {
        "collapsed": true,
        "id": "fRINr7HSXP0A",
        "jupyter": {
          "outputs_hidden": true
        },
        "tags": [],
        "outputId": "ed4db096-79cd-4998-8712-3bb520c9da47",
        "colab": {
          "base_uri": "https://localhost:8080/"
        }
      },
      "outputs": [
        {
          "output_type": "stream",
          "name": "stderr",
          "text": [
            "  0%|          | 0/5 [00:00<?, ?it/s]\n",
            "  0%|          | 0/20 [00:00<?, ?it/s]\u001b[A\n",
            "  5%|▌         | 1/20 [00:01<00:20,  1.08s/it]\u001b[A\n",
            " 10%|█         | 2/20 [00:02<00:18,  1.06s/it]\u001b[A\n",
            " 15%|█▌        | 3/20 [00:03<00:17,  1.05s/it]\u001b[A\n",
            " 20%|██        | 4/20 [00:04<00:16,  1.05s/it]\u001b[A\n",
            " 25%|██▌       | 5/20 [00:05<00:15,  1.05s/it]\u001b[A\n",
            " 30%|███       | 6/20 [00:06<00:14,  1.05s/it]\u001b[A\n",
            " 35%|███▌      | 7/20 [00:07<00:13,  1.05s/it]\u001b[A\n",
            " 40%|████      | 8/20 [00:08<00:12,  1.05s/it]\u001b[A\n",
            " 45%|████▌     | 9/20 [00:09<00:11,  1.05s/it]\u001b[A\n",
            " 50%|█████     | 10/20 [00:10<00:10,  1.05s/it]\u001b[A\n",
            " 55%|█████▌    | 11/20 [00:11<00:09,  1.05s/it]\u001b[A\n",
            " 60%|██████    | 12/20 [00:12<00:08,  1.05s/it]\u001b[A\n",
            " 65%|██████▌   | 13/20 [00:13<00:07,  1.05s/it]\u001b[A\n",
            " 70%|███████   | 14/20 [00:14<00:06,  1.05s/it]\u001b[A\n",
            " 75%|███████▌  | 15/20 [00:15<00:05,  1.04s/it]\u001b[A\n",
            " 80%|████████  | 16/20 [00:16<00:04,  1.04s/it]\u001b[A\n",
            " 85%|████████▌ | 17/20 [00:17<00:03,  1.04s/it]\u001b[A\n",
            " 90%|█████████ | 18/20 [00:18<00:02,  1.04s/it]\u001b[A\n",
            " 95%|█████████▌| 19/20 [00:19<00:01,  1.04s/it]\u001b[A\n",
            "100%|██████████| 20/20 [00:20<00:00,  1.04s/it]\u001b[A\n",
            " 20%|██        | 1/5 [00:30<02:00, 30.06s/it]\n",
            "  0%|          | 0/20 [00:00<?, ?it/s]\u001b[A\n",
            "  5%|▌         | 1/20 [00:01<00:20,  1.10s/it]\u001b[A\n",
            " 10%|█         | 2/20 [00:02<00:19,  1.06s/it]\u001b[A\n",
            " 15%|█▌        | 3/20 [00:03<00:17,  1.05s/it]\u001b[A\n",
            " 20%|██        | 4/20 [00:04<00:16,  1.04s/it]\u001b[A\n",
            " 25%|██▌       | 5/20 [00:05<00:15,  1.04s/it]\u001b[A\n",
            " 30%|███       | 6/20 [00:06<00:14,  1.03s/it]\u001b[A\n",
            " 35%|███▌      | 7/20 [00:07<00:13,  1.03s/it]\u001b[A\n",
            " 40%|████      | 8/20 [00:08<00:12,  1.03s/it]\u001b[A\n",
            " 45%|████▌     | 9/20 [00:09<00:11,  1.04s/it]\u001b[A\n",
            " 50%|█████     | 10/20 [00:10<00:10,  1.04s/it]\u001b[A\n",
            " 55%|█████▌    | 11/20 [00:11<00:09,  1.05s/it]\u001b[A\n",
            " 60%|██████    | 12/20 [00:12<00:08,  1.05s/it]\u001b[A\n",
            " 65%|██████▌   | 13/20 [00:13<00:07,  1.05s/it]\u001b[A\n",
            " 70%|███████   | 14/20 [00:14<00:06,  1.06s/it]\u001b[A\n",
            " 75%|███████▌  | 15/20 [00:15<00:05,  1.06s/it]\u001b[A\n",
            " 80%|████████  | 16/20 [00:16<00:04,  1.06s/it]\u001b[A\n",
            " 85%|████████▌ | 17/20 [00:17<00:03,  1.06s/it]\u001b[A\n",
            " 90%|█████████ | 18/20 [00:18<00:02,  1.05s/it]\u001b[A\n",
            " 95%|█████████▌| 19/20 [00:19<00:01,  1.05s/it]\u001b[A\n",
            "100%|██████████| 20/20 [00:20<00:00,  1.05s/it]\u001b[A\n",
            " 40%|████      | 2/5 [00:59<01:28, 29.47s/it]\n",
            "  0%|          | 0/20 [00:00<?, ?it/s]\u001b[A\n",
            "  5%|▌         | 1/20 [00:01<00:22,  1.16s/it]\u001b[A\n",
            " 10%|█         | 2/20 [00:02<00:19,  1.10s/it]\u001b[A\n",
            " 15%|█▌        | 3/20 [00:03<00:18,  1.09s/it]\u001b[A\n",
            " 20%|██        | 4/20 [00:04<00:17,  1.07s/it]\u001b[A\n",
            " 25%|██▌       | 5/20 [00:05<00:15,  1.06s/it]\u001b[A\n",
            " 30%|███       | 6/20 [00:06<00:14,  1.05s/it]\u001b[A\n",
            " 35%|███▌      | 7/20 [00:07<00:13,  1.04s/it]\u001b[A\n",
            " 40%|████      | 8/20 [00:08<00:12,  1.04s/it]\u001b[A\n",
            " 45%|████▌     | 9/20 [00:09<00:11,  1.04s/it]\u001b[A\n",
            " 50%|█████     | 10/20 [00:10<00:10,  1.04s/it]\u001b[A\n",
            " 55%|█████▌    | 11/20 [00:11<00:09,  1.04s/it]\u001b[A\n",
            " 60%|██████    | 12/20 [00:12<00:08,  1.04s/it]\u001b[A\n",
            " 65%|██████▌   | 13/20 [00:13<00:07,  1.04s/it]\u001b[A\n",
            " 70%|███████   | 14/20 [00:14<00:06,  1.04s/it]\u001b[A\n",
            " 75%|███████▌  | 15/20 [00:15<00:05,  1.05s/it]\u001b[A\n",
            " 80%|████████  | 16/20 [00:16<00:04,  1.06s/it]\u001b[A\n",
            " 85%|████████▌ | 17/20 [00:17<00:03,  1.07s/it]\u001b[A\n",
            " 90%|█████████ | 18/20 [00:19<00:02,  1.08s/it]\u001b[A\n",
            " 95%|█████████▌| 19/20 [00:20<00:01,  1.08s/it]\u001b[A\n",
            "100%|██████████| 20/20 [00:21<00:00,  1.07s/it]\u001b[A\n",
            " 60%|██████    | 3/5 [01:27<00:57, 28.94s/it]\n",
            "  0%|          | 0/20 [00:00<?, ?it/s]\u001b[A\n",
            "  5%|▌         | 1/20 [00:01<00:20,  1.09s/it]\u001b[A\n",
            " 10%|█         | 2/20 [00:02<00:19,  1.07s/it]\u001b[A\n",
            " 15%|█▌        | 3/20 [00:03<00:17,  1.06s/it]\u001b[A\n",
            " 20%|██        | 4/20 [00:04<00:16,  1.06s/it]\u001b[A\n",
            " 25%|██▌       | 5/20 [00:05<00:15,  1.06s/it]\u001b[A\n",
            " 30%|███       | 6/20 [00:06<00:14,  1.06s/it]\u001b[A\n",
            " 35%|███▌      | 7/20 [00:07<00:13,  1.05s/it]\u001b[A\n",
            " 40%|████      | 8/20 [00:08<00:12,  1.06s/it]\u001b[A\n",
            " 45%|████▌     | 9/20 [00:09<00:11,  1.07s/it]\u001b[A\n",
            " 50%|█████     | 10/20 [00:10<00:10,  1.06s/it]\u001b[A\n",
            " 55%|█████▌    | 11/20 [00:11<00:09,  1.05s/it]\u001b[A\n",
            " 60%|██████    | 12/20 [00:12<00:08,  1.04s/it]\u001b[A\n",
            " 65%|██████▌   | 13/20 [00:13<00:07,  1.03s/it]\u001b[A\n",
            " 70%|███████   | 14/20 [00:14<00:06,  1.03s/it]\u001b[A\n",
            " 75%|███████▌  | 15/20 [00:15<00:05,  1.04s/it]\u001b[A\n",
            " 80%|████████  | 16/20 [00:16<00:04,  1.04s/it]\u001b[A\n",
            " 85%|████████▌ | 17/20 [00:17<00:03,  1.04s/it]\u001b[A\n",
            " 90%|█████████ | 18/20 [00:18<00:02,  1.06s/it]\u001b[A\n",
            " 95%|█████████▌| 19/20 [00:20<00:01,  1.07s/it]\u001b[A\n",
            "100%|██████████| 20/20 [00:21<00:00,  1.08s/it]\u001b[A\n",
            " 80%|████████  | 4/5 [01:57<00:29, 29.38s/it]\n",
            "  0%|          | 0/20 [00:00<?, ?it/s]\u001b[A\n",
            "  5%|▌         | 1/20 [00:01<00:20,  1.10s/it]\u001b[A\n",
            " 10%|█         | 2/20 [00:02<00:19,  1.06s/it]\u001b[A\n",
            " 15%|█▌        | 3/20 [00:03<00:17,  1.05s/it]\u001b[A\n",
            " 20%|██        | 4/20 [00:04<00:16,  1.04s/it]\u001b[A\n",
            " 25%|██▌       | 5/20 [00:05<00:15,  1.04s/it]\u001b[A\n",
            " 30%|███       | 6/20 [00:06<00:14,  1.04s/it]\u001b[A\n",
            " 35%|███▌      | 7/20 [00:07<00:13,  1.04s/it]\u001b[A\n",
            " 40%|████      | 8/20 [00:08<00:12,  1.04s/it]\u001b[A\n",
            " 45%|████▌     | 9/20 [00:09<00:11,  1.05s/it]\u001b[A\n",
            " 50%|█████     | 10/20 [00:10<00:10,  1.06s/it]\u001b[A\n",
            " 55%|█████▌    | 11/20 [00:11<00:09,  1.06s/it]\u001b[A\n",
            " 60%|██████    | 12/20 [00:12<00:08,  1.05s/it]\u001b[A\n",
            " 65%|██████▌   | 13/20 [00:13<00:07,  1.05s/it]\u001b[A\n",
            " 70%|███████   | 14/20 [00:14<00:06,  1.05s/it]\u001b[A\n",
            " 75%|███████▌  | 15/20 [00:15<00:05,  1.06s/it]\u001b[A\n",
            " 80%|████████  | 16/20 [00:16<00:04,  1.05s/it]\u001b[A\n",
            " 85%|████████▌ | 17/20 [00:17<00:03,  1.04s/it]\u001b[A\n",
            " 90%|█████████ | 18/20 [00:18<00:02,  1.05s/it]\u001b[A\n",
            " 95%|█████████▌| 19/20 [00:19<00:01,  1.05s/it]\u001b[A\n",
            "100%|██████████| 20/20 [00:20<00:00,  1.05s/it]\u001b[A\n",
            "100%|██████████| 5/5 [02:40<00:00, 32.15s/it]\n"
          ]
        }
      ],
      "source": [
        "pages, topics_order = get_pages()"
      ]
    },
    {
      "cell_type": "markdown",
      "source": [
        "Сохраним результат в файл."
      ],
      "metadata": {
        "id": "uY5KK61CaU1H"
      }
    },
    {
      "cell_type": "code",
      "execution_count": null,
      "metadata": {
        "id": "WQp5JS2vMF3e"
      },
      "outputs": [],
      "source": [
        "with open(\"ria_pages.txt\", \"w\", encoding=\"utf-8\") as f:\n",
        "    for page in pages:\n",
        "        f.write(\"%s\\n\" % page)"
      ]
    },
    {
      "cell_type": "markdown",
      "source": [
        "## Вопрос 1\n",
        "\n",
        "Сколько страниц `pages` мы спарсили?"
      ],
      "metadata": {
        "id": "1aa9QR9yqEUu"
      }
    },
    {
      "cell_type": "code",
      "execution_count": null,
      "metadata": {
        "id": "s_VA_yIEHpTg",
        "outputId": "bdbca6fb-a3b3-4755-b889-10f17418596b",
        "colab": {
          "base_uri": "https://localhost:8080/"
        }
      },
      "outputs": [
        {
          "output_type": "execute_result",
          "data": {
            "text/plain": [
              "1808"
            ]
          },
          "metadata": {},
          "execution_count": 25
        }
      ],
      "source": [
        "len(pages)"
      ]
    },
    {
      "cell_type": "markdown",
      "source": [
        "Распарсим каждую страницу и достанем из нее необходимые атрибуты:\n",
        "\n",
        "* в цикле примените функцию `parse_page` к каждой странице и сохраните результат в объект `res`\n",
        "\n",
        "* затем добавьте `res` в список `data`\n",
        "\n",
        "\n",
        "Для скорости распарсим только первые 100 страниц."
      ],
      "metadata": {
        "id": "boJAYgYtqKc2"
      }
    },
    {
      "cell_type": "code",
      "execution_count": null,
      "metadata": {
        "id": "M42AfMsIXP0A",
        "scrolled": true,
        "tags": [],
        "collapsed": true,
        "outputId": "8c9b74ec-889b-41b2-f3ab-a2b429a8d5a4",
        "colab": {
          "base_uri": "https://localhost:8080/"
        }
      },
      "outputs": [
        {
          "output_type": "stream",
          "name": "stderr",
          "text": [
            "100%|██████████| 100/100 [09:57<00:00,  5.97s/it]\n"
          ]
        }
      ],
      "source": [
        "data, topics_order_fixed = [], []\n",
        "\n",
        "for num, page in enumerate(tqdm(pages[:100])):\n",
        "    try:\n",
        "        res = parse_page(page)\n",
        "        data.append(res)\n",
        "\n",
        "        topics_order_fixed.append(topics_order[num])\n",
        "    except:\n",
        "        pass\n",
        "\n",
        "driver.close()"
      ]
    },
    {
      "cell_type": "markdown",
      "source": [
        "## Вопрос 2\n",
        "\n",
        "Преобразуйте в датафрейм полученные данные.\n",
        "\n",
        "Сколько столбцов в таблице `df`?"
      ],
      "metadata": {
        "id": "nZ6p6d2wYxUA"
      }
    },
    {
      "cell_type": "code",
      "execution_count": null,
      "metadata": {
        "id": "58a2LzszXP0A",
        "tags": []
      },
      "outputs": [],
      "source": [
        "df = pd.DataFrame(data=data)\n",
        "\n",
        "df.head()"
      ]
    },
    {
      "cell_type": "code",
      "source": [
        "num_columns = df.shape[1]\n",
        "num_columns"
      ],
      "metadata": {
        "id": "l7Vu5H5ZoqLa",
        "outputId": "9f2cbfe3-ab28-4d24-d5de-3d62f24f4f56",
        "colab": {
          "base_uri": "https://localhost:8080/"
        }
      },
      "execution_count": null,
      "outputs": [
        {
          "output_type": "execute_result",
          "data": {
            "text/plain": [
              "6"
            ]
          },
          "metadata": {},
          "execution_count": 30
        }
      ]
    },
    {
      "cell_type": "markdown",
      "source": [
        "Добавьте в таблицу `df` столбец `topic`, содержащий список `topics_order_fixed`"
      ],
      "metadata": {
        "id": "spWPjAJhY3bL"
      }
    },
    {
      "cell_type": "code",
      "source": [
        "df[\"topic\"] = topics_order_fixed"
      ],
      "metadata": {
        "id": "6LAnU5PyY1B2"
      },
      "execution_count": null,
      "outputs": []
    },
    {
      "cell_type": "code",
      "source": [
        "df.head(3)"
      ],
      "metadata": {
        "id": "yECSuHYtqy5J",
        "outputId": "6481495f-0a6c-45b6-a84e-7abcf543e0b5",
        "colab": {
          "base_uri": "https://localhost:8080/",
          "height": 196
        }
      },
      "execution_count": null,
      "outputs": [
        {
          "output_type": "execute_result",
          "data": {
            "text/plain": [
              "           id                                                url  \\\n",
              "0  1949766100  https://ria.ru/20240531/kurs-valyut-1949766100...   \n",
              "1  1949758154      https://ria.ru/20240531/putin-1949758154.html   \n",
              "2  1949719963  https://realty.ria.ru/20240531/minfin-19497199...   \n",
              "\n",
              "                                               title  \\\n",
              "0  Курс доллара на Московской бирже вырос до 90,1...   \n",
              "1  Путин поручил разработать план развития индуст...   \n",
              "2  Минфин оценил доходы регионов от повышения нал...   \n",
              "\n",
              "                                            subtitle  \\\n",
              "0  Курс доллара на Мосбирже вырос до 90,1 рубля, ...   \n",
              "1  Путин поручил разработать план развития индуст...   \n",
              "2  Минфин: повышение налогов на дорогостоящее иму...   \n",
              "\n",
              "                                             content          datetime  \\\n",
              "0  МОСКВА, 31 мая - РИА Новости. Курс рубля по ит...  19:14 31.05.2024   \n",
              "1  МОСКВА, 31 мая - РИА Новости. Президент России...  18:35 31.05.2024   \n",
              "2  МОСКВА, 31 мая - РИА Новости. Повышенное налог...  16:28 31.05.2024   \n",
              "\n",
              "     topic  \n",
              "0  economy  \n",
              "1  economy  \n",
              "2  economy  "
            ],
            "text/html": [
              "\n",
              "  <div id=\"df-0ab606ae-e92b-46c7-ae27-78d0c10fcc6b\" class=\"colab-df-container\">\n",
              "    <div>\n",
              "<style scoped>\n",
              "    .dataframe tbody tr th:only-of-type {\n",
              "        vertical-align: middle;\n",
              "    }\n",
              "\n",
              "    .dataframe tbody tr th {\n",
              "        vertical-align: top;\n",
              "    }\n",
              "\n",
              "    .dataframe thead th {\n",
              "        text-align: right;\n",
              "    }\n",
              "</style>\n",
              "<table border=\"1\" class=\"dataframe\">\n",
              "  <thead>\n",
              "    <tr style=\"text-align: right;\">\n",
              "      <th></th>\n",
              "      <th>id</th>\n",
              "      <th>url</th>\n",
              "      <th>title</th>\n",
              "      <th>subtitle</th>\n",
              "      <th>content</th>\n",
              "      <th>datetime</th>\n",
              "      <th>topic</th>\n",
              "    </tr>\n",
              "  </thead>\n",
              "  <tbody>\n",
              "    <tr>\n",
              "      <th>0</th>\n",
              "      <td>1949766100</td>\n",
              "      <td>https://ria.ru/20240531/kurs-valyut-1949766100...</td>\n",
              "      <td>Курс доллара на Московской бирже вырос до 90,1...</td>\n",
              "      <td>Курс доллара на Мосбирже вырос до 90,1 рубля, ...</td>\n",
              "      <td>МОСКВА, 31 мая - РИА Новости. Курс рубля по ит...</td>\n",
              "      <td>19:14 31.05.2024</td>\n",
              "      <td>economy</td>\n",
              "    </tr>\n",
              "    <tr>\n",
              "      <th>1</th>\n",
              "      <td>1949758154</td>\n",
              "      <td>https://ria.ru/20240531/putin-1949758154.html</td>\n",
              "      <td>Путин поручил разработать план развития индуст...</td>\n",
              "      <td>Путин поручил разработать план развития индуст...</td>\n",
              "      <td>МОСКВА, 31 мая - РИА Новости. Президент России...</td>\n",
              "      <td>18:35 31.05.2024</td>\n",
              "      <td>economy</td>\n",
              "    </tr>\n",
              "    <tr>\n",
              "      <th>2</th>\n",
              "      <td>1949719963</td>\n",
              "      <td>https://realty.ria.ru/20240531/minfin-19497199...</td>\n",
              "      <td>Минфин оценил доходы регионов от повышения нал...</td>\n",
              "      <td>Минфин: повышение налогов на дорогостоящее иму...</td>\n",
              "      <td>МОСКВА, 31 мая - РИА Новости. Повышенное налог...</td>\n",
              "      <td>16:28 31.05.2024</td>\n",
              "      <td>economy</td>\n",
              "    </tr>\n",
              "  </tbody>\n",
              "</table>\n",
              "</div>\n",
              "    <div class=\"colab-df-buttons\">\n",
              "\n",
              "  <div class=\"colab-df-container\">\n",
              "    <button class=\"colab-df-convert\" onclick=\"convertToInteractive('df-0ab606ae-e92b-46c7-ae27-78d0c10fcc6b')\"\n",
              "            title=\"Convert this dataframe to an interactive table.\"\n",
              "            style=\"display:none;\">\n",
              "\n",
              "  <svg xmlns=\"http://www.w3.org/2000/svg\" height=\"24px\" viewBox=\"0 -960 960 960\">\n",
              "    <path d=\"M120-120v-720h720v720H120Zm60-500h600v-160H180v160Zm220 220h160v-160H400v160Zm0 220h160v-160H400v160ZM180-400h160v-160H180v160Zm440 0h160v-160H620v160ZM180-180h160v-160H180v160Zm440 0h160v-160H620v160Z\"/>\n",
              "  </svg>\n",
              "    </button>\n",
              "\n",
              "  <style>\n",
              "    .colab-df-container {\n",
              "      display:flex;\n",
              "      gap: 12px;\n",
              "    }\n",
              "\n",
              "    .colab-df-convert {\n",
              "      background-color: #E8F0FE;\n",
              "      border: none;\n",
              "      border-radius: 50%;\n",
              "      cursor: pointer;\n",
              "      display: none;\n",
              "      fill: #1967D2;\n",
              "      height: 32px;\n",
              "      padding: 0 0 0 0;\n",
              "      width: 32px;\n",
              "    }\n",
              "\n",
              "    .colab-df-convert:hover {\n",
              "      background-color: #E2EBFA;\n",
              "      box-shadow: 0px 1px 2px rgba(60, 64, 67, 0.3), 0px 1px 3px 1px rgba(60, 64, 67, 0.15);\n",
              "      fill: #174EA6;\n",
              "    }\n",
              "\n",
              "    .colab-df-buttons div {\n",
              "      margin-bottom: 4px;\n",
              "    }\n",
              "\n",
              "    [theme=dark] .colab-df-convert {\n",
              "      background-color: #3B4455;\n",
              "      fill: #D2E3FC;\n",
              "    }\n",
              "\n",
              "    [theme=dark] .colab-df-convert:hover {\n",
              "      background-color: #434B5C;\n",
              "      box-shadow: 0px 1px 3px 1px rgba(0, 0, 0, 0.15);\n",
              "      filter: drop-shadow(0px 1px 2px rgba(0, 0, 0, 0.3));\n",
              "      fill: #FFFFFF;\n",
              "    }\n",
              "  </style>\n",
              "\n",
              "    <script>\n",
              "      const buttonEl =\n",
              "        document.querySelector('#df-0ab606ae-e92b-46c7-ae27-78d0c10fcc6b button.colab-df-convert');\n",
              "      buttonEl.style.display =\n",
              "        google.colab.kernel.accessAllowed ? 'block' : 'none';\n",
              "\n",
              "      async function convertToInteractive(key) {\n",
              "        const element = document.querySelector('#df-0ab606ae-e92b-46c7-ae27-78d0c10fcc6b');\n",
              "        const dataTable =\n",
              "          await google.colab.kernel.invokeFunction('convertToInteractive',\n",
              "                                                    [key], {});\n",
              "        if (!dataTable) return;\n",
              "\n",
              "        const docLinkHtml = 'Like what you see? Visit the ' +\n",
              "          '<a target=\"_blank\" href=https://colab.research.google.com/notebooks/data_table.ipynb>data table notebook</a>'\n",
              "          + ' to learn more about interactive tables.';\n",
              "        element.innerHTML = '';\n",
              "        dataTable['output_type'] = 'display_data';\n",
              "        await google.colab.output.renderOutput(dataTable, element);\n",
              "        const docLink = document.createElement('div');\n",
              "        docLink.innerHTML = docLinkHtml;\n",
              "        element.appendChild(docLink);\n",
              "      }\n",
              "    </script>\n",
              "  </div>\n",
              "\n",
              "\n",
              "<div id=\"df-44568600-2bc9-4452-b173-e8980ad01a17\">\n",
              "  <button class=\"colab-df-quickchart\" onclick=\"quickchart('df-44568600-2bc9-4452-b173-e8980ad01a17')\"\n",
              "            title=\"Suggest charts\"\n",
              "            style=\"display:none;\">\n",
              "\n",
              "<svg xmlns=\"http://www.w3.org/2000/svg\" height=\"24px\"viewBox=\"0 0 24 24\"\n",
              "     width=\"24px\">\n",
              "    <g>\n",
              "        <path d=\"M19 3H5c-1.1 0-2 .9-2 2v14c0 1.1.9 2 2 2h14c1.1 0 2-.9 2-2V5c0-1.1-.9-2-2-2zM9 17H7v-7h2v7zm4 0h-2V7h2v10zm4 0h-2v-4h2v4z\"/>\n",
              "    </g>\n",
              "</svg>\n",
              "  </button>\n",
              "\n",
              "<style>\n",
              "  .colab-df-quickchart {\n",
              "      --bg-color: #E8F0FE;\n",
              "      --fill-color: #1967D2;\n",
              "      --hover-bg-color: #E2EBFA;\n",
              "      --hover-fill-color: #174EA6;\n",
              "      --disabled-fill-color: #AAA;\n",
              "      --disabled-bg-color: #DDD;\n",
              "  }\n",
              "\n",
              "  [theme=dark] .colab-df-quickchart {\n",
              "      --bg-color: #3B4455;\n",
              "      --fill-color: #D2E3FC;\n",
              "      --hover-bg-color: #434B5C;\n",
              "      --hover-fill-color: #FFFFFF;\n",
              "      --disabled-bg-color: #3B4455;\n",
              "      --disabled-fill-color: #666;\n",
              "  }\n",
              "\n",
              "  .colab-df-quickchart {\n",
              "    background-color: var(--bg-color);\n",
              "    border: none;\n",
              "    border-radius: 50%;\n",
              "    cursor: pointer;\n",
              "    display: none;\n",
              "    fill: var(--fill-color);\n",
              "    height: 32px;\n",
              "    padding: 0;\n",
              "    width: 32px;\n",
              "  }\n",
              "\n",
              "  .colab-df-quickchart:hover {\n",
              "    background-color: var(--hover-bg-color);\n",
              "    box-shadow: 0 1px 2px rgba(60, 64, 67, 0.3), 0 1px 3px 1px rgba(60, 64, 67, 0.15);\n",
              "    fill: var(--button-hover-fill-color);\n",
              "  }\n",
              "\n",
              "  .colab-df-quickchart-complete:disabled,\n",
              "  .colab-df-quickchart-complete:disabled:hover {\n",
              "    background-color: var(--disabled-bg-color);\n",
              "    fill: var(--disabled-fill-color);\n",
              "    box-shadow: none;\n",
              "  }\n",
              "\n",
              "  .colab-df-spinner {\n",
              "    border: 2px solid var(--fill-color);\n",
              "    border-color: transparent;\n",
              "    border-bottom-color: var(--fill-color);\n",
              "    animation:\n",
              "      spin 1s steps(1) infinite;\n",
              "  }\n",
              "\n",
              "  @keyframes spin {\n",
              "    0% {\n",
              "      border-color: transparent;\n",
              "      border-bottom-color: var(--fill-color);\n",
              "      border-left-color: var(--fill-color);\n",
              "    }\n",
              "    20% {\n",
              "      border-color: transparent;\n",
              "      border-left-color: var(--fill-color);\n",
              "      border-top-color: var(--fill-color);\n",
              "    }\n",
              "    30% {\n",
              "      border-color: transparent;\n",
              "      border-left-color: var(--fill-color);\n",
              "      border-top-color: var(--fill-color);\n",
              "      border-right-color: var(--fill-color);\n",
              "    }\n",
              "    40% {\n",
              "      border-color: transparent;\n",
              "      border-right-color: var(--fill-color);\n",
              "      border-top-color: var(--fill-color);\n",
              "    }\n",
              "    60% {\n",
              "      border-color: transparent;\n",
              "      border-right-color: var(--fill-color);\n",
              "    }\n",
              "    80% {\n",
              "      border-color: transparent;\n",
              "      border-right-color: var(--fill-color);\n",
              "      border-bottom-color: var(--fill-color);\n",
              "    }\n",
              "    90% {\n",
              "      border-color: transparent;\n",
              "      border-bottom-color: var(--fill-color);\n",
              "    }\n",
              "  }\n",
              "</style>\n",
              "\n",
              "  <script>\n",
              "    async function quickchart(key) {\n",
              "      const quickchartButtonEl =\n",
              "        document.querySelector('#' + key + ' button');\n",
              "      quickchartButtonEl.disabled = true;  // To prevent multiple clicks.\n",
              "      quickchartButtonEl.classList.add('colab-df-spinner');\n",
              "      try {\n",
              "        const charts = await google.colab.kernel.invokeFunction(\n",
              "            'suggestCharts', [key], {});\n",
              "      } catch (error) {\n",
              "        console.error('Error during call to suggestCharts:', error);\n",
              "      }\n",
              "      quickchartButtonEl.classList.remove('colab-df-spinner');\n",
              "      quickchartButtonEl.classList.add('colab-df-quickchart-complete');\n",
              "    }\n",
              "    (() => {\n",
              "      let quickchartButtonEl =\n",
              "        document.querySelector('#df-44568600-2bc9-4452-b173-e8980ad01a17 button');\n",
              "      quickchartButtonEl.style.display =\n",
              "        google.colab.kernel.accessAllowed ? 'block' : 'none';\n",
              "    })();\n",
              "  </script>\n",
              "</div>\n",
              "    </div>\n",
              "  </div>\n"
            ],
            "application/vnd.google.colaboratory.intrinsic+json": {
              "type": "dataframe",
              "variable_name": "df",
              "summary": "{\n  \"name\": \"df\",\n  \"rows\": 98,\n  \"fields\": [\n    {\n      \"column\": \"id\",\n      \"properties\": {\n        \"dtype\": \"string\",\n        \"num_unique_values\": 98,\n        \"samples\": [\n          \"1949244885\",\n          \"1949459782\",\n          \"1949133232\"\n        ],\n        \"semantic_type\": \"\",\n        \"description\": \"\"\n      }\n    },\n    {\n      \"column\": \"url\",\n      \"properties\": {\n        \"dtype\": \"string\",\n        \"num_unique_values\": 98,\n        \"samples\": [\n          \"https://ria.ru/20240530/syurprizy-1949244885.html\",\n          \"https://ria.ru/20240530/siluanov-1949459782.html\",\n          \"https://ria.ru/20240529/ekspobank-1949133232.html\"\n        ],\n        \"semantic_type\": \"\",\n        \"description\": \"\"\n      }\n    },\n    {\n      \"column\": \"title\",\n      \"properties\": {\n        \"dtype\": \"string\",\n        \"num_unique_values\": 98,\n        \"samples\": [\n          \"\\u0420\\u043e\\u0441\\u0441\\u0438\\u044f\\u043d\\u0430\\u043c \\u0440\\u0430\\u0441\\u0441\\u043a\\u0430\\u0437\\u0430\\u043b\\u0438 \\u043e \\u0441\\u044e\\u0440\\u043f\\u0440\\u0438\\u0437\\u0430\\u0445, \\u043a\\u043e\\u0442\\u043e\\u0440\\u044b\\u0435 \\u0433\\u043e\\u0442\\u043e\\u0432\\u0438\\u0442 \\u0411\\u0430\\u043d\\u043a \\u0420\\u043e\\u0441\\u0441\\u0438\\u0438 \\u0432 \\u0438\\u044e\\u043d\\u0435\",\n          \"\\u0421\\u0438\\u043b\\u0443\\u0430\\u043d\\u043e\\u0432: \\u0435\\u0449\\u0435 \\u0435\\u0441\\u0442\\u044c \\u043d\\u0430\\u0434 \\u0447\\u0435\\u043c \\u0440\\u0430\\u0431\\u043e\\u0442\\u0430\\u0442\\u044c \\u043f\\u043e \\u043d\\u0430\\u043b\\u043e\\u0433\\u043e\\u043e\\u0431\\u043b\\u043e\\u0436\\u0435\\u043d\\u0438\\u044e \\u0440\\u0435\\u043d\\u0442\\u043d\\u044b\\u0445 \\u043e\\u0442\\u0440\\u0430\\u0441\\u043b\\u0435\\u0439\",\n          \"\\u042d\\u043a\\u0441\\u043f\\u043e\\u0431\\u0430\\u043d\\u043a \\u0437\\u0430\\u043a\\u0440\\u044b\\u043b \\u0441\\u0434\\u0435\\u043b\\u043a\\u0443 \\u043f\\u043e \\u043f\\u0440\\u0438\\u043e\\u0431\\u0440\\u0435\\u0442\\u0435\\u043d\\u0438\\u044e \\u0440\\u043e\\u0441\\u0441\\u0438\\u0439\\u0441\\u043a\\u043e\\u0439 \\\"\\u0434\\u043e\\u0447\\u043a\\u0438\\\" HSBC\"\n        ],\n        \"semantic_type\": \"\",\n        \"description\": \"\"\n      }\n    },\n    {\n      \"column\": \"subtitle\",\n      \"properties\": {\n        \"dtype\": \"string\",\n        \"num_unique_values\": 90,\n        \"samples\": [\n          \"\\u0421\\u0438\\u043b\\u0443\\u0430\\u043d\\u043e\\u0432: \\u0435\\u0449\\u0435 \\u0435\\u0441\\u0442\\u044c \\u043d\\u0430\\u0434 \\u0447\\u0435\\u043c \\u0440\\u0430\\u0431\\u043e\\u0442\\u0430\\u0442\\u044c \\u043f\\u043e \\u043d\\u0430\\u043b\\u043e\\u0433\\u043e\\u043e\\u0431\\u043b\\u043e\\u0436\\u0435\\u043d\\u0438\\u044e \\u0440\\u0435\\u043d\\u0442\\u043d\\u044b\\u0445 \\u043e\\u0442\\u0440\\u0430\\u0441\\u043b\\u0435\\u0439 \\u0420\\u043e\\u0441\\u0441\\u0438\\u0438\",\n          \"\\u0421\\u043e\\u043a\\u043e\\u043b\\u043e\\u0432: \\\"\\u0410\\u0432\\u0442\\u043e\\u0412\\u0410\\u0417\\\" \\u0441 \\u044f\\u043d\\u0432\\u0430\\u0440\\u044f \\u043f\\u043e \\u0430\\u043f\\u0440\\u0435\\u043b\\u044c \\u0432\\u044b\\u043f\\u0443\\u0441\\u0442\\u0438\\u043b \\u0431\\u043e\\u043b\\u0435\\u0435 160 \\u0442\\u044b\\u0441\\u044f\\u0447 \\u0430\\u0432\\u0442\\u043e\\u043c\\u043e\\u0431\\u0438\\u043b\\u0435\\u0439 Lada\",\n          \"\\u0410\\u043d\\u0430\\u043b\\u0438\\u0442\\u0438\\u043a\\u0438 \\u043f\\u0435\\u0440\\u0435\\u0447\\u0438\\u0441\\u043b\\u0438\\u043b\\u0438 \\u043f\\u043e\\u043b\\u043e\\u0436\\u0438\\u0442\\u0435\\u043b\\u044c\\u043d\\u044b\\u0435 \\u0444\\u0430\\u043a\\u0442\\u043e\\u0440\\u044b \\u0434\\u043b\\u044f \\u043a\\u0443\\u0440\\u0441\\u0430 \\u0440\\u0443\\u0431\\u043b\\u044f \\u043b\\u0435\\u0442\\u043e\\u043c\"\n        ],\n        \"semantic_type\": \"\",\n        \"description\": \"\"\n      }\n    },\n    {\n      \"column\": \"content\",\n      \"properties\": {\n        \"dtype\": \"string\",\n        \"num_unique_values\": 98,\n        \"samples\": [\n          \"\\u041c\\u041e\\u0421\\u041a\\u0412\\u0410, 30 \\u043c\\u0430\\u044f - \\u0420\\u0418\\u0410 \\u041d\\u043e\\u0432\\u043e\\u0441\\u0442\\u0438. \\u0411\\u0430\\u043d\\u043a \\u0420\\u043e\\u0441\\u0441\\u0438\\u0438 \\u0432 \\u0438\\u044e\\u043d\\u0435 \\u043c\\u043e\\u0436\\u0435\\u0442 \\u043f\\u043e\\u0441\\u043b\\u0435 \\u0434\\u043e\\u043b\\u0433\\u043e\\u0433\\u043e \\u043f\\u0435\\u0440\\u0435\\u0440\\u044b\\u0432\\u0430 \\u043f\\u043e\\u0432\\u044b\\u0441\\u0438\\u0442\\u044c \\u043a\\u043b\\u044e\\u0447\\u0435\\u0432\\u0443\\u044e \\u0441\\u0442\\u0430\\u0432\\u043a\\u0443 \\u0441 16 \\u0434\\u043e 17 \\u043f\\u0440\\u043e\\u0446\\u0435\\u043d\\u0442\\u043e\\u0432 \\u0438\\u0437-\\u0437\\u0430 \\u0441\\u043e\\u0445\\u0440\\u0430\\u043d\\u0435\\u043d\\u0438\\u044f \\u0432\\u044b\\u0441\\u043e\\u043a\\u0438\\u0445 \\u0442\\u0435\\u043c\\u043f\\u043e\\u0432 \\u0438\\u043d\\u0444\\u043b\\u044f\\u0446\\u0438\\u0438. \\u041d\\u0430\\u0441\\u043a\\u043e\\u043b\\u044c\\u043a\\u043e \\u044d\\u0444\\u0444\\u0435\\u043a\\u0442\\u0438\\u0432\\u043d\\u0430 \\u044d\\u0442\\u0430 \\u043c\\u0435\\u0440\\u0430, \\u0440\\u0430\\u0441\\u0441\\u043a\\u0430\\u0437\\u0430\\u043b \\u0430\\u0433\\u0435\\u043d\\u0442\\u0441\\u0442\\u0432\\u0443 \\u201c\\u041f\\u0440\\u0430\\u0439\\u043c\\u201d \\u0438\\u0441\\u043f\\u043e\\u043b\\u043d\\u0438\\u0442\\u0435\\u043b\\u044c\\u043d\\u044b\\u0439 \\u0434\\u0438\\u0440\\u0435\\u043a\\u0442\\u043e\\u0440 \\u0418\\u043d\\u0441\\u0442\\u0438\\u0442\\u0443\\u0442\\u0430 \\u044d\\u043a\\u043e\\u043d\\u043e\\u043c\\u0438\\u043a\\u0438 \\u0440\\u043e\\u0441\\u0442\\u0430 \\u0438\\u043c. \\u0421\\u0442\\u043e\\u043b\\u044b\\u043f\\u0438\\u043d\\u0430 \\u0410\\u043d\\u0442\\u043e\\u043d \\u0421\\u0432\\u0438\\u0440\\u0438\\u0434\\u0435\\u043d\\u043a\\u043e.\\u0421\\u0442\\u0430\\u0432\\u043a\\u0430 \\u043d\\u0430\\u0445\\u043e\\u0434\\u0438\\u0442\\u0441\\u044f \\u043d\\u0430 \\u0434\\u043e\\u0441\\u0442\\u0430\\u0442\\u043e\\u0447\\u043d\\u043e \\u0432\\u044b\\u0441\\u043e\\u043a\\u043e\\u043c \\u0443\\u0440\\u043e\\u0432\\u043d\\u0435 \\u2014 16% \\u0433\\u043e\\u0434\\u043e\\u0432\\u044b\\u0445 \\u0441 \\u043a\\u043e\\u043d\\u0446\\u0430 \\u043f\\u0440\\u043e\\u0448\\u043b\\u043e\\u0433\\u043e \\u0433\\u043e\\u0434\\u0430, \\u0430 \\u0438\\u043d\\u0444\\u043b\\u044f\\u0446\\u0438\\u044f \\u0438 \\u043d\\u0435 \\u0434\\u0443\\u043c\\u0430\\u0435\\u0442 \\u0437\\u0430\\u043c\\u0435\\u0434\\u043b\\u044f\\u0442\\u044c\\u0441\\u044f. \\u201c\\u0412\\u043e\\u0437\\u043c\\u043e\\u0436\\u043d\\u043e, \\u0441\\u043b\\u0435\\u0434\\u0443\\u0435\\u0442 \\u0431\\u043e\\u043b\\u0435\\u0435 \\u0434\\u0435\\u0442\\u0430\\u043b\\u044c\\u043d\\u043e \\u0438\\u0437\\u0443\\u0447\\u0438\\u0442\\u044c \\u043f\\u0440\\u043e\\u0438\\u043d\\u0444\\u043b\\u044f\\u0446\\u0438\\u043e\\u043d\\u043d\\u044b\\u0435 \\u0444\\u0430\\u043a\\u0442\\u043e\\u0440\\u044b \\u2013 \\u0432 \\u043d\\u0438\\u0437\\u043a\\u043e\\u0439 \\u043b\\u0438 \\u0441\\u0442\\u0430\\u0432\\u043a\\u0435 \\u0431\\u044b\\u043b\\u043e \\u0434\\u0435\\u043b\\u043e\\\", \\u2014 \\u0440\\u0430\\u0441\\u0441\\u0443\\u0436\\u0434\\u0430\\u0435\\u0442 \\u044d\\u043a\\u043e\\u043d\\u043e\\u043c\\u0438\\u0441\\u0442.\\u042d\\u043a\\u043e\\u043d\\u043e\\u043c\\u0438\\u0441\\u0442 \\u043d\\u0430\\u0437\\u0432\\u0430\\u043b \\u0447\\u0435\\u0442\\u044b\\u0440\\u0435 \\u0441\\u043f\\u043e\\u0441\\u043e\\u0431\\u0430 \\u0443\\u0431\\u0435\\u0440\\u0435\\u0447\\u044c \\u0434\\u0435\\u043d\\u044c\\u0433\\u0438 \\u043e\\u0442 \\u0438\\u043d\\u0444\\u043b\\u044f\\u0446\\u0438\\u043818 \\u043c\\u0430\\u044f, 02:15\\n\\n\\n\\u041f\\u043e\\u0434\\u0435\\u043b\\u0438\\u0442\\u044c\\u0441\\u044f\\n\\n\\u041e\\u043d \\u043d\\u0430\\u043f\\u043e\\u043c\\u043d\\u0438\\u043b, \\u0447\\u0442\\u043e \\u0441\\u0442\\u0430\\u0432\\u043a\\u0430 \\u0432\\u043b\\u0438\\u044f\\u0435\\u0442 \\u043d\\u0430 \\u0438\\u043d\\u0444\\u043b\\u044f\\u0446\\u0438\\u044e \\u0434\\u0432\\u043e\\u044f\\u043a\\u043e. \\u0421 \\u043e\\u0434\\u043d\\u043e\\u0439 \\u0441\\u0442\\u043e\\u0440\\u043e\\u043d\\u044b, \\u0432\\u044b\\u0441\\u043e\\u043a\\u0438\\u0435 \\u043f\\u0440\\u043e\\u0446\\u0435\\u043d\\u0442\\u044b \\u043f\\u043e \\u0434\\u0435\\u043f\\u043e\\u0437\\u0438\\u0442\\u0430\\u043c \\u043f\\u0440\\u0438\\u0432\\u043e\\u0434\\u044f\\u0442 \\u043a \\u0440\\u043e\\u0441\\u0442\\u0443 \\u0434\\u043e\\u0445\\u043e\\u0434\\u043e\\u0432 \\u0432\\u043a\\u043b\\u0430\\u0434\\u0447\\u0438\\u043a\\u043e\\u0432 \\u0432 \\u0434\\u043e\\u043b\\u0433\\u043e\\u0441\\u0440\\u043e\\u0447\\u043d\\u043e\\u0439 \\u043f\\u0435\\u0440\\u0441\\u043f\\u0435\\u043a\\u0442\\u0438\\u0432\\u0435, \\u0430 \\u0441 \\u0434\\u0440\\u0443\\u0433\\u043e\\u0439 \\u2014 \\u0432\\u044b\\u0441\\u043e\\u043a\\u0438\\u0435 \\u043f\\u0440\\u043e\\u0446\\u0435\\u043d\\u0442\\u044b \\u043f\\u043e \\u043a\\u0440\\u0435\\u0434\\u0438\\u0442\\u0430\\u043c, \\u043a\\u043e\\u0442\\u043e\\u0440\\u044b\\u0435 \\u0432\\u044b\\u043d\\u0443\\u0436\\u0434\\u0435\\u043d \\u043f\\u043b\\u0430\\u0442\\u0438\\u0442\\u044c \\u0431\\u0438\\u0437\\u043d\\u0435\\u0441, \\u0440\\u0430\\u0437\\u0433\\u043e\\u043d\\u044f\\u044e\\u0442 \\u0446\\u0435\\u043d\\u044b \\u0435\\u0449\\u0435 \\u0441\\u0438\\u043b\\u044c\\u043d\\u0435\\u0435. \\u041a\\u0440\\u043e\\u043c\\u0435 \\u0442\\u043e\\u0433\\u043e, \\u0441\\u043b\\u0438\\u0448\\u043a\\u043e\\u043c \\u0432\\u044b\\u0441\\u043e\\u043a\\u0438\\u0435 \\u0441\\u0442\\u0430\\u0432\\u043a\\u0438 \\u0434\\u0435\\u043b\\u0430\\u044e\\u0442 \\u043a\\u0440\\u0435\\u0434\\u0438\\u0442\\u044b \\u0434\\u043b\\u044f \\u0433\\u0440\\u0430\\u0436\\u0434\\u0430\\u043d \\u043d\\u0435\\u0434\\u043e\\u0441\\u0442\\u0443\\u043f\\u043d\\u044b\\u043c\\u0438, \\u0447\\u0442\\u043e \\u0442\\u043e\\u0440\\u043c\\u043e\\u0437\\u0438\\u0442 \\u044d\\u043a\\u043e\\u043d\\u043e\\u043c\\u0438\\u043a\\u0443.\\n\\n\\n\\n\\n\\n\\n\\n\\n\\n\\n\\n\\n\\u0427\\u0442\\u043e\\u0431\\u044b \\u043d\\u0435 \\u0434\\u043e\\u043f\\u0443\\u0441\\u0442\\u0438\\u0442\\u044c \\u043f\\u0435\\u0440\\u0435\\u043a\\u043e\\u0441\\u043e\\u0432, \\u0434\\u0435\\u043d\\u0435\\u0436\\u043d\\u043e-\\u043a\\u0440\\u0435\\u0434\\u0438\\u0442\\u043d\\u0443\\u044e \\u043f\\u043e\\u043b\\u0438\\u0442\\u0438\\u043a\\u0443 \\u0441\\u043b\\u0435\\u0434\\u0443\\u0435\\u0442 \\u0432\\u044b\\u0432\\u0435\\u0440\\u044f\\u0442\\u044c \\u0444\\u0438\\u043b\\u0438\\u0433\\u0440\\u0430\\u043d\\u043d\\u043e, \\u0434\\u0435\\u043b\\u0430\\u044f \\u0430\\u043a\\u0446\\u0435\\u043d\\u0442 \\u043d\\u0430 \\u0440\\u0430\\u0437\\u0432\\u0438\\u0442\\u0438\\u0435. \\u041a \\u0432\\u044b\\u0440\\u0430\\u0431\\u043e\\u0442\\u043a\\u0435 \\u0440\\u0435\\u0448\\u0435\\u043d\\u0438\\u044f \\u0441\\u043b\\u0435\\u0434\\u0443\\u0435\\u0442 \\u043f\\u0440\\u0438\\u0432\\u043b\\u0435\\u043a\\u0430\\u0442\\u044c \\u0448\\u0438\\u0440\\u043e\\u043a\\u043e\\u0435 \\u044d\\u043a\\u0441\\u043f\\u0435\\u0440\\u0442\\u043d\\u043e\\u0435 \\u0441\\u043e\\u043e\\u0431\\u0449\\u0435\\u0441\\u0442\\u0432\\u043e, \\u043f\\u0440\\u0430\\u0432\\u0438\\u0442\\u0435\\u043b\\u044c\\u0441\\u0442\\u0432\\u043e \\u0438 \\u0413\\u043e\\u0441\\u0434\\u0443\\u043c\\u0443, \\u0434\\u0435\\u043b\\u0430\\u0435\\u0442 \\u0432\\u044b\\u0432\\u043e\\u0434 \\u0421\\u0432\\u0438\\u0440\\u0438\\u0434\\u0435\\u043d\\u043a\\u043e.\\u041c\\u0430\\u0440\\u043a\\u0435\\u0442\\u043e\\u043b\\u043e\\u0433 \\u0440\\u0430\\u0441\\u043a\\u0440\\u044b\\u043b, \\u0447\\u0442\\u043e \\u0432 \\u0438\\u044e\\u043d\\u0435 \\u043f\\u043e\\u0434\\u0435\\u0448\\u0435\\u0432\\u0435\\u0435\\u0442 \\u043d\\u0430 \\u0444\\u043e\\u043d\\u0435 \\u043e\\u0431\\u0449\\u0435\\u0433\\u043e \\u043f\\u043e\\u0434\\u043e\\u0440\\u043e\\u0436\\u0430\\u043d\\u0438\\u044f22 \\u043c\\u0430\\u044f, 02:17\\n\\n\\n\\u041f\\u043e\\u0434\\u0435\\u043b\\u0438\\u0442\\u044c\\u0441\\u044f\\n\\n\",\n          \"\\u041c\\u041e\\u0421\\u041a\\u0412\\u0410, 30 \\u043c\\u0430\\u044f - \\u0420\\u0418\\u0410 \\u041d\\u043e\\u0432\\u043e\\u0441\\u0442\\u0438. \\u041c\\u0438\\u043d\\u0438\\u0441\\u0442\\u0440 \\u0444\\u0438\\u043d\\u0430\\u043d\\u0441\\u043e\\u0432 \\u0420\\u0424 \\u0410\\u043d\\u0442\\u043e\\u043d \\u0421\\u0438\\u043b\\u0443\\u0430\\u043d\\u043e\\u0432 \\u043d\\u0430 \\u0437\\u0430\\u0441\\u0435\\u0434\\u0430\\u043d\\u0438\\u0438 \\u043f\\u0440\\u0430\\u0432\\u0438\\u0442\\u0435\\u043b\\u044c\\u0441\\u0442\\u0432\\u0430 \\u0437\\u0430\\u044f\\u0432\\u0438\\u043b, \\u0447\\u0442\\u043e \\u0435\\u0449\\u0435 \\u0435\\u0441\\u0442\\u044c \\u043d\\u0430\\u0434 \\u0447\\u0435\\u043c \\u0440\\u0430\\u0431\\u043e\\u0442\\u0430\\u0442\\u044c \\u043f\\u043e \\u043d\\u0430\\u043b\\u043e\\u0433\\u043e\\u043e\\u0431\\u043b\\u043e\\u0436\\u0435\\u043d\\u0438\\u044e \\u0440\\u0435\\u043d\\u0442\\u043d\\u044b\\u0445 \\u043e\\u0442\\u0440\\u0430\\u0441\\u043b\\u0435\\u0439 \\u0420\\u0424.\\u00ab\\\"\\u041d\\u0430\\u043b\\u043e\\u0433\\u043e\\u043e\\u0431\\u043b\\u043e\\u0436\\u0435\\u043d\\u0438\\u0435 \\u0440\\u0435\\u043d\\u0442\\u043d\\u044b\\u0445 \\u043e\\u0442\\u0440\\u0430\\u0441\\u043b\\u0435\\u0439. \\u041f\\u0440\\u043e\\u0432\\u0435\\u0434\\u0435\\u043d\\u043d\\u044b\\u0439 \\u043d\\u0430\\u043c\\u0438 \\u0430\\u043d\\u0430\\u043b\\u0438\\u0437 \\u043e\\u0442\\u0434\\u0435\\u043b\\u044c\\u043d\\u044b\\u0445 \\u043e\\u0442\\u0440\\u0430\\u0441\\u043b\\u0435\\u0439 \\u0432\\u044b\\u044f\\u0432\\u0438\\u043b \\u0440\\u044f\\u0434 \\u0441\\u0435\\u043a\\u0442\\u043e\\u0440\\u043e\\u0432, \\u0432 \\u043e\\u0441\\u043d\\u043e\\u0432\\u043d\\u043e\\u043c \\u0441\\u044b\\u0440\\u044c\\u0435\\u0432\\u044b\\u0445, \\u0433\\u0434\\u0435 \\u0434\\u043e\\u0441\\u0442\\u0438\\u0433\\u043d\\u0443\\u0442 \\u0443\\u0440\\u043e\\u0432\\u0435\\u043d\\u044c \\u0440\\u0435\\u043d\\u0442\\u0430\\u0431\\u0435\\u043b\\u044c\\u043d\\u043e\\u0441\\u0442\\u0438, \\u0441\\u0443\\u0449\\u0435\\u0441\\u0442\\u0432\\u0435\\u043d\\u043d\\u043e \\u043f\\u0440\\u0435\\u0432\\u044b\\u0448\\u0430\\u044e\\u0449\\u0438\\u0439 \\u0441\\u0440\\u0435\\u0434\\u043d\\u0435\\u0435 \\u0437\\u043d\\u0430\\u0447\\u0435\\u043d\\u0438\\u0435 - \\u0432 \\u0434\\u0432\\u0430 \\u0438 \\u0431\\u043e\\u043b\\u0435\\u0435 \\u0440\\u0430\\u0437\\u0430. \\u041f\\u0440\\u0438 \\u044d\\u0442\\u043e\\u043c \\u0443\\u0440\\u043e\\u0432\\u0435\\u043d\\u044c \\u0440\\u0435\\u043d\\u0442\\u043d\\u043e\\u0439 \\u043d\\u0430\\u043b\\u043e\\u0433\\u043e\\u0432\\u043e\\u0439 \\u043d\\u0430\\u0433\\u0440\\u0443\\u0437\\u043a\\u0438 \\u043d\\u0438\\u0436\\u0435 \\u043c\\u0438\\u043d\\u0438\\u043c\\u0430\\u043b\\u044c\\u043d\\u044b\\u0445, \\u043a\\u043e\\u0442\\u043e\\u0440\\u044b\\u0435 \\u043c\\u044b \\u043e\\u043f\\u0440\\u0435\\u0434\\u0435\\u043b\\u044f\\u0435\\u043c \\u043f\\u043e\\u0440\\u044f\\u0434\\u043a\\u0430 5% \\u043e\\u0442 \\u0432\\u044b\\u0440\\u0443\\u0447\\u043a\\u0438\\\", - \\u0441\\u043a\\u0430\\u0437\\u0430\\u043b \\u0421\\u0438\\u043b\\u0443\\u0430\\u043d\\u043e\\u0432.\\u041d\\u0430\\u0437\\u0432\\u0430\\u043d\\u044b \\u0441\\u0442\\u0440\\u0430\\u043d\\u044b \\u0441 \\u0441\\u0430\\u043c\\u044b\\u043c\\u0438 \\u0432\\u044b\\u0441\\u043e\\u043a\\u0438\\u043c\\u0438 \\u0432 \\u043c\\u0438\\u0440\\u0435 \\u043d\\u0430\\u043b\\u043e\\u0433\\u0430\\u043c\\u0438 \\u043d\\u0430 \\u0434\\u043e\\u0445\\u043e\\u0434\\u044b \\u0433\\u0440\\u0430\\u0436\\u0434\\u0430\\u043d29 \\u043c\\u0430\\u044f, 00:23\\n\\n\\n\\u041f\\u043e\\u0434\\u0435\\u043b\\u0438\\u0442\\u044c\\u0441\\u044f\\n\\n\\\"\\u041c\\u044b \\u0441\\u0435\\u0439\\u0447\\u0430\\u0441 \\u0442\\u0430\\u043a\\u0436\\u0435 \\u043f\\u0440\\u043e\\u0434\\u043e\\u043b\\u0436\\u0430\\u0435\\u043c \\u0430\\u043d\\u0430\\u043b\\u0438\\u0437 \\u0440\\u0435\\u043d\\u0442\\u043d\\u044b\\u0445 \\u0441\\u0435\\u043a\\u0442\\u043e\\u0440\\u043e\\u0432 \\u044d\\u043a\\u043e\\u043d\\u043e\\u043c\\u0438\\u043a\\u0438 \\u0438\\u0441\\u0445\\u043e\\u0434\\u044f \\u0438\\u0437 \\u0432\\u043d\\u0435\\u0448\\u043d\\u0435\\u0439 \\u043a\\u043e\\u043d\\u044a\\u044e\\u043d\\u043a\\u0442\\u0443\\u0440\\u044b \\u0438 \\u0432\\u0438\\u0434\\u0438\\u043c, \\u0447\\u0442\\u043e \\u0437\\u0434\\u0435\\u0441\\u044c \\u0435\\u0441\\u0442\\u044c \\u043d\\u0430\\u0434 \\u0447\\u0435\\u043c \\u0435\\u0449\\u0435 \\u0440\\u0430\\u0431\\u043e\\u0442\\u0430\\u0442\\u044c\\\", - \\u043e\\u0442\\u043c\\u0435\\u0442\\u0438\\u043b \\u043e\\u043d.\\n\\n\\n\\n\\n\\n\\u041c\\u0438\\u043d\\u0444\\u0438\\u043d \\u0432\\u043e \\u0432\\u0442\\u043e\\u0440\\u043d\\u0438\\u043a \\u043f\\u0440\\u0435\\u0434\\u043b\\u043e\\u0436\\u0438\\u043b \\u0440\\u044f\\u0434 \\u0438\\u0437\\u043c\\u0435\\u043d\\u0435\\u043d\\u0438\\u0439 \\u0432 \\u043d\\u0430\\u043b\\u043e\\u0433\\u043e\\u0432\\u0443\\u044e \\u0441\\u0438\\u0441\\u0442\\u0435\\u043c\\u0443 \\u0420\\u043e\\u0441\\u0441\\u0438\\u0438. \\u041a\\u0430\\u0441\\u0430\\u0442\\u0435\\u043b\\u044c\\u043d\\u043e \\u0440\\u0435\\u043d\\u0442\\u043d\\u044b\\u0445 \\u0441\\u0435\\u043a\\u0442\\u043e\\u0440\\u043e\\u0432 \\u041c\\u0438\\u043d\\u0444\\u0438\\u043d \\u043f\\u0440\\u0435\\u0434\\u043b\\u0430\\u0433\\u0430\\u0435\\u0442 \\u0443\\u0432\\u0435\\u043b\\u0438\\u0447\\u0438\\u0442\\u044c \\u041d\\u0414\\u041f\\u0418 \\u0434\\u043b\\u044f \\u0434\\u043e\\u0431\\u044b\\u0447\\u0438 \\u0436\\u0435\\u043b\\u0435\\u0437\\u0430 \\u0432 1,15 \\u0440\\u0430\\u0437\\u0430, \\u0434\\u043b\\u044f \\u043f\\u0440\\u043e\\u0438\\u0437\\u0432\\u043e\\u0434\\u0441\\u0442\\u0432\\u0430 \\u043a\\u0430\\u043b\\u0438\\u044f - \\u0432 2,3 \\u0440\\u0430\\u0437\\u0430, \\u0444\\u043e\\u0441\\u0444\\u043e\\u0440\\u0430 - \\u0432 2 \\u0440\\u0430\\u0437\\u0430, \\u0430 \\u0442\\u0430\\u043a\\u0436\\u0435 \\u0432\\u0435\\u0441\\u0442\\u0438 \\u0430\\u043a\\u0446\\u0438\\u0437 \\u0434\\u043b\\u044f \\u043f\\u0440\\u043e\\u0438\\u0437\\u0432\\u043e\\u0434\\u0438\\u0442\\u0435\\u043b\\u0435\\u0439 \\u0430\\u0437\\u043e\\u0442\\u043d\\u044b\\u0445 \\u0443\\u0434\\u043e\\u0431\\u0440\\u0435\\u043d\\u0438\\u0439 \\u043d\\u0430 \\u043f\\u0440\\u0438\\u043e\\u0431\\u0440\\u0435\\u0442\\u0435\\u043d\\u0438\\u0435 \\u0433\\u0430\\u0437\\u0430 \\u0434\\u043b\\u044f \\u043f\\u0440\\u043e\\u0438\\u0437\\u0432\\u043e\\u0434\\u0441\\u0442\\u0432\\u0430 \\u0430\\u043c\\u043c\\u0438\\u0430\\u043a\\u0430 \\u0432 1200 \\u0440\\u0443\\u0431\\u043b\\u0435\\u0439 \\u0437\\u0430 \\u0442\\u044b\\u0441\\u044f\\u0447\\u0443 \\u043a\\u0443\\u0431\\u043e\\u0432. \\u0412 \\u044d\\u0442\\u0438\\u0445 \\u043e\\u0442\\u0440\\u0430\\u0441\\u043b\\u044f\\u0445 \\u0432\\u044b\\u0441\\u043e\\u043a\\u0430\\u044f \\u0440\\u0435\\u043d\\u0442\\u0430\\u0431\\u0435\\u043b\\u044c\\u043d\\u043e\\u0441\\u0442\\u044c \\u043f\\u0440\\u0438 \\u043d\\u0438\\u0437\\u043a\\u043e\\u0439 \\u043d\\u0430\\u043b\\u043e\\u0433\\u043e\\u0432\\u043e\\u0439 \\u043d\\u0430\\u0433\\u0440\\u0443\\u0437\\u043a\\u0435, \\u043f\\u043e\\u044f\\u0441\\u043d\\u044f\\u043b \\u041c\\u0438\\u043d\\u0444\\u0438\\u043d. \\u0418 \\u043f\\u043e\\u0434\\u0447\\u0435\\u0440\\u043a\\u0438\\u0432\\u0430\\u043b, \\u0447\\u0442\\u043e \\u0434\\u043e\\u0445\\u043e\\u0434\\u044b \\u043e\\u0442 \\u043f\\u0440\\u0438\\u0440\\u043e\\u0434\\u043d\\u044b\\u0445 \\u0431\\u043e\\u0433\\u0430\\u0442\\u0441\\u0442\\u0432 \\u0434\\u043e\\u043b\\u0436\\u043d\\u044b \\u0438\\u0434\\u0442\\u0438 \\u043d\\u0430 \\u043f\\u043e\\u0434\\u0434\\u0435\\u0440\\u0436\\u043a\\u0443 \\u0433\\u0440\\u0430\\u0436\\u0434\\u0430\\u043d \\u0438 \\u0431\\u0438\\u0437\\u043d\\u0435\\u0441\\u0430, \\u0430 \\u043d\\u0435 \\u043e\\u0441\\u0435\\u0434\\u0430\\u0442\\u044c \\u0443 \\u0432\\u043b\\u0430\\u0434\\u0435\\u043b\\u044c\\u0446\\u0435\\u0432 \\u0440\\u0435\\u043d\\u0442\\u043d\\u044b\\u0445 \\u043a\\u043e\\u043c\\u043f\\u0430\\u043d\\u0438\\u0439.\\u0421\\u0438\\u043b\\u0443\\u0430\\u043d\\u043e\\u0432 \\u0440\\u0430\\u0441\\u0441\\u043a\\u0430\\u0437\\u0430\\u043b, \\u043a\\u043e\\u043c\\u0443 \\u043f\\u0440\\u043e\\u0438\\u043d\\u0434\\u0435\\u043a\\u0441\\u0438\\u0440\\u0443\\u044e\\u0442 \\u043f\\u0435\\u043d\\u0441\\u0438\\u0438 \\u0441 1 \\u043e\\u043a\\u0442\\u044f\\u0431\\u0440\\u044f 2024 \\u0433\\u043e\\u0434\\u0430\\u0412\\u0447\\u0435\\u0440\\u0430, 17:35\\n\\n\\n\\u041f\\u043e\\u0434\\u0435\\u043b\\u0438\\u0442\\u044c\\u0441\\u044f\\n\\n\",\n          \"\\u041c\\u041e\\u0421\\u041a\\u0412\\u0410, 29 \\u043c\\u0430\\u044f - \\u0420\\u0418\\u0410 \\u041d\\u043e\\u0432\\u043e\\u0441\\u0442\\u0438. \\u042d\\u043a\\u0441\\u043f\\u043e\\u0431\\u0430\\u043d\\u043a \\u0441\\u043e\\u043e\\u0431\\u0449\\u0438\\u043b, \\u0447\\u0442\\u043e \\u0437\\u0430\\u043a\\u0440\\u044b\\u043b \\u0441\\u0434\\u0435\\u043b\\u043a\\u0443 \\u043f\\u043e \\u043f\\u0440\\u0438\\u043e\\u0431\\u0440\\u0435\\u0442\\u0435\\u043d\\u0438\\u044e \\u0440\\u043e\\u0441\\u0441\\u0438\\u0439\\u0441\\u043a\\u043e\\u0439 \\\"\\u0434\\u043e\\u0447\\u043a\\u0438\\\" \\u0431\\u0440\\u0438\\u0442\\u0430\\u043d\\u0441\\u043a\\u043e\\u0433\\u043e HSBC, \\u043e\\u043d\\u0430 \\u0431\\u0443\\u0434\\u0435\\u0442 \\u043f\\u0435\\u0440\\u0435\\u0438\\u043c\\u0435\\u043d\\u043e\\u0432\\u0430\\u043d\\u0430 \\u0438 \\u043f\\u0440\\u043e\\u0434\\u043e\\u043b\\u0436\\u0438\\u0442 \\u0440\\u0430\\u0431\\u043e\\u0442\\u0443. \\u00ab\\\"\\u042d\\u043a\\u0441\\u043f\\u043e\\u0431\\u0430\\u043d\\u043a \\u0443\\u0441\\u043f\\u0435\\u0448\\u043d\\u043e \\u0437\\u0430\\u043a\\u0440\\u044b\\u043b \\u0441\\u0434\\u0435\\u043b\\u043a\\u0443 \\u0438 \\u043f\\u0440\\u0438\\u043e\\u0431\\u0440\\u0435\\u043b 100% \\u0434\\u043e\\u043b\\u0435\\u0439 \\u041e\\u041e\\u041e \\\"\\u042d\\u0439\\u0447-\\u044d\\u0441-\\u0431\\u0438-\\u0441\\u0438 \\u0411\\u0430\\u043d\\u043a (\\u0420\\u0420)\\\" \\u0443 HSBC Europe B.V. \\u041f\\u043e\\u043b\\u0443\\u0447\\u0435\\u043d\\u044b \\u043e\\u0434\\u043e\\u0431\\u0440\\u0435\\u043d\\u0438\\u044f \\u043f\\u0440\\u0435\\u0437\\u0438\\u0434\\u0435\\u043d\\u0442\\u0430 \\u0420\\u0424 \\u0432 \\u0441\\u043e\\u043e\\u0442\\u0432\\u0435\\u0442\\u0441\\u0442\\u0432\\u0438\\u0438 \\u0441 \\u0443\\u043a\\u0430\\u0437\\u043e\\u043c \\u2116520 \\u0438 \\u0426\\u0435\\u043d\\u0442\\u0440\\u0430\\u043b\\u044c\\u043d\\u043e\\u0433\\u043e \\u0431\\u0430\\u043d\\u043a\\u0430 \\u0420\\u043e\\u0441\\u0441\\u0438\\u0439\\u0441\\u043a\\u043e\\u0439 \\u0424\\u0435\\u0434\\u0435\\u0440\\u0430\\u0446\\u0438\\u0438. \\u0414\\u043e\\u0447\\u0435\\u0440\\u043d\\u0438\\u0439 \\u0431\\u0430\\u043d\\u043a \\u043f\\u0440\\u043e\\u0434\\u043e\\u043b\\u0436\\u0438\\u0442 \\u0441\\u0432\\u043e\\u044e \\u0440\\u0430\\u0431\\u043e\\u0442\\u0443 \\u043f\\u043e\\u0434 \\u043d\\u043e\\u0432\\u044b\\u043c \\u043d\\u0430\\u0438\\u043c\\u0435\\u043d\\u043e\\u0432\\u0430\\u043d\\u0438\\u0435\\u043c\\\", - \\u0441\\u043a\\u0430\\u0437\\u0430\\u043d\\u043e \\u0432 \\u0441\\u043e\\u043e\\u0431\\u0449\\u0435\\u043d\\u0438\\u0438. \\u0411\\u0440\\u0438\\u0442\\u0430\\u043d\\u043e-\\u0433\\u043e\\u043d\\u043a\\u043e\\u043d\\u0433\\u0441\\u043a\\u0430\\u044f \\u0431\\u0430\\u043d\\u043a\\u043e\\u0432\\u0441\\u043a\\u0430\\u044f \\u0433\\u0440\\u0443\\u043f\\u043f\\u0430 HSBC Holdings plc \\u0432 \\u0438\\u044e\\u043d\\u0435 2022 \\u0433\\u043e\\u0434\\u0430 \\u043e\\u0431\\u044a\\u044f\\u0432\\u0438\\u043b\\u0430 \\u043e \\u043f\\u043b\\u0430\\u043d\\u0438\\u0440\\u0443\\u0435\\u043c\\u043e\\u0439 \\u043f\\u0440\\u043e\\u0434\\u0430\\u0436\\u0435 \\u0441\\u0432\\u043e\\u0435\\u0433\\u043e \\u0434\\u043e\\u0447\\u0435\\u0440\\u043d\\u0435\\u0433\\u043e \\u0431\\u0430\\u043d\\u043a\\u0430 \\u0432 \\u0420\\u043e\\u0441\\u0441\\u0438\\u0438. \\u0412 \\u0444\\u0435\\u0432\\u0440\\u0430\\u043b\\u0435 \\u0442\\u0435\\u043a\\u0443\\u0449\\u0435\\u0433\\u043e \\u0433\\u043e\\u0434\\u0430 \\u043f\\u0440\\u0435\\u0437\\u0438\\u0434\\u0435\\u043d\\u0442 \\u0420\\u043e\\u0441\\u0441\\u0438\\u0438 \\u0441\\u0432\\u043e\\u0438\\u043c \\u0440\\u0430\\u0441\\u043f\\u043e\\u0440\\u044f\\u0436\\u0435\\u043d\\u0438\\u0435\\u043c \\u0434\\u0430\\u043b \\u0440\\u0430\\u0437\\u0440\\u0435\\u0448\\u0435\\u043d\\u0438\\u0435 \\u042d\\u043a\\u0441\\u043f\\u043e\\u0431\\u0430\\u043d\\u043a\\u0443 \\u043f\\u0440\\u0438\\u043e\\u0431\\u0440\\u0435\\u0441\\u0442\\u0438 100% \\u0434\\u043e\\u043b\\u0435\\u0439 \\u0432 \\\"\\u042d\\u0439\\u0447-\\u044d\\u0441-\\u0431\\u0438-\\u0441\\u0438 \\u0431\\u0430\\u043d\\u043a\\u0435\\\". \\n\\n\\n\\n\\n\\n\\u042d\\u043a\\u0441\\u043f\\u043e\\u0431\\u0430\\u043d\\u043a, \\u0441\\u043e\\u0433\\u043b\\u0430\\u0441\\u043d\\u043e \\\"\\u0420\\u0418\\u0410 \\u0420\\u0435\\u0439\\u0442\\u0438\\u043d\\u0433\\u0443\\\" \\u043d\\u0430 1 \\u0430\\u043f\\u0440\\u0435\\u043b\\u044f, \\u0437\\u0430\\u043d\\u0438\\u043c\\u0430\\u0435\\u0442 45-\\u0435 \\u043c\\u0435\\u0441\\u0442\\u043e \\u0441\\u0440\\u0435\\u0434\\u0438 \\u043a\\u0440\\u0435\\u0434\\u0438\\u0442\\u043d\\u044b\\u0445 \\u043e\\u0440\\u0433\\u0430\\u043d\\u0438\\u0437\\u0430\\u0446\\u0438\\u0439 \\u0420\\u043e\\u0441\\u0441\\u0438\\u0438 \\u043f\\u043e \\u043e\\u0431\\u044a\\u0435\\u043c\\u0443 \\u0430\\u043a\\u0442\\u0438\\u0432\\u043e\\u0432. \\u0421\\u043a\\u043e\\u043d\\u0446\\u0435\\u043d\\u0442\\u0440\\u0438\\u0440\\u043e\\u0432\\u0430\\u043d \\u043d\\u0430 \\u0440\\u0430\\u0437\\u0432\\u0438\\u0442\\u0438\\u0438 \\u043a\\u043e\\u0440\\u043f\\u043e\\u0440\\u0430\\u0442\\u0438\\u0432\\u043d\\u043e\\u0433\\u043e \\u0431\\u0438\\u0437\\u043d\\u0435\\u0441\\u0430 \\u0438 \\u0441\\u0435\\u0433\\u043c\\u0435\\u043d\\u0442\\u0430 \\u0430\\u0432\\u0442\\u043e\\u043a\\u0440\\u0435\\u0434\\u0438\\u0442\\u043e\\u0432\\u0430\\u043d\\u0438\\u044f, \\u0438\\u043c\\u0435\\u0435\\u0442 \\u0431\\u043e\\u043b\\u044c\\u0448\\u043e\\u0439 \\u043e\\u043f\\u044b\\u0442 \\u0432 \\u0440\\u0435\\u0430\\u043b\\u0438\\u0437\\u0430\\u0446\\u0438\\u0438 \\u0441\\u0434\\u0435\\u043b\\u043e\\u043a \\u043f\\u043e \\u043f\\u043e\\u043a\\u0443\\u043f\\u043a\\u0435 \\u0438 \\u043a\\u043e\\u043d\\u0441\\u043e\\u043b\\u0438\\u0434\\u0430\\u0446\\u0438\\u0438 \\u0430\\u043a\\u0442\\u0438\\u0432\\u043e\\u0432 (M&A).\\u0417\\u0430\\u043f\\u0430\\u0434 \\u043f\\u0440\\u0438 \\u043a\\u043e\\u043d\\u0444\\u0438\\u0441\\u043a\\u0430\\u0446\\u0438\\u0438 \\u0440\\u0435\\u0437\\u0435\\u0440\\u0432\\u043e\\u0432 \\u0426\\u0411 \\u043c\\u043e\\u0436\\u0435\\u0442 \\u043f\\u043e\\u0442\\u0435\\u0440\\u044f\\u0442\\u044c 288 \\u043c\\u0438\\u043b\\u043b\\u0438\\u0430\\u0440\\u0434\\u043e\\u0432 \\u0434\\u043e\\u043b\\u043b\\u0430\\u0440\\u043e\\u043221 \\u044f\\u043d\\u0432\\u0430\\u0440\\u044f, 08:04\\n\\n\\n\\u041f\\u043e\\u0434\\u0435\\u043b\\u0438\\u0442\\u044c\\u0441\\u044f\\n\\n\"\n        ],\n        \"semantic_type\": \"\",\n        \"description\": \"\"\n      }\n    },\n    {\n      \"column\": \"datetime\",\n      \"properties\": {\n        \"dtype\": \"object\",\n        \"num_unique_values\": 95,\n        \"samples\": [\n          \"22:15 29.05.2024\",\n          \"09:25 31.05.2024\",\n          \"19:14 29.05.2024\"\n        ],\n        \"semantic_type\": \"\",\n        \"description\": \"\"\n      }\n    },\n    {\n      \"column\": \"topic\",\n      \"properties\": {\n        \"dtype\": \"category\",\n        \"num_unique_values\": 1,\n        \"samples\": [\n          \"economy\"\n        ],\n        \"semantic_type\": \"\",\n        \"description\": \"\"\n      }\n    }\n  ]\n}"
            }
          },
          "metadata": {},
          "execution_count": 33
        }
      ]
    },
    {
      "cell_type": "markdown",
      "source": [
        "## Вопрос 3\n",
        "\n",
        "Какой `topic` имеет новость из первой строки таблицы?"
      ],
      "metadata": {
        "id": "BWahmdaOZCXs"
      }
    },
    {
      "cell_type": "code",
      "source": [
        "first_row_topic = df.loc[0, 'topic']\n",
        "first_row_topic"
      ],
      "metadata": {
        "id": "3rqKwLaMZLyt",
        "outputId": "a86a3640-d651-4789-b90e-cc1344c0ca8a",
        "colab": {
          "base_uri": "https://localhost:8080/",
          "height": 35
        }
      },
      "execution_count": null,
      "outputs": [
        {
          "output_type": "execute_result",
          "data": {
            "text/plain": [
              "'economy'"
            ],
            "application/vnd.google.colaboratory.intrinsic+json": {
              "type": "string"
            }
          },
          "metadata": {},
          "execution_count": 34
        }
      ]
    },
    {
      "cell_type": "markdown",
      "source": [
        "Сохраните скачанные данные в файл."
      ],
      "metadata": {
        "id": "Jk7cH3W6ZMop"
      }
    },
    {
      "cell_type": "code",
      "execution_count": null,
      "metadata": {
        "id": "MLhAMKr-pFIi"
      },
      "outputs": [],
      "source": [
        "df.to_pickle(\"df_ria.p\", compression=\"gzip\")"
      ]
    },
    {
      "cell_type": "markdown",
      "source": [
        "## Вопрос 4\n",
        "\n",
        "Есть ли пропуски в каких-либо столбцах в таблице `df`?"
      ],
      "metadata": {
        "id": "_73x_cJcXVeG"
      }
    },
    {
      "cell_type": "code",
      "execution_count": null,
      "metadata": {
        "id": "On9a3_YbpFIy",
        "outputId": "1e6d5ddc-0807-45dd-ec24-20eddfb391ca",
        "colab": {
          "base_uri": "https://localhost:8080/"
        }
      },
      "outputs": [
        {
          "output_type": "execute_result",
          "data": {
            "text/plain": [
              "id          0\n",
              "url         0\n",
              "title       0\n",
              "subtitle    0\n",
              "content     0\n",
              "datetime    0\n",
              "topic       0\n",
              "dtype: int64"
            ]
          },
          "metadata": {},
          "execution_count": 35
        }
      ],
      "source": [
        "missing = df.isnull().sum()\n",
        "missing"
      ]
    }
  ],
  "metadata": {
    "colab": {
      "provenance": []
    },
    "interpreter": {
      "hash": "403959ecd139c89f35081fab3d0ca535dfc149adc8a1d47a6d44f830632776ba"
    },
    "kernelspec": {
      "display_name": "Python 3 (ipykernel)",
      "language": "python",
      "name": "python3"
    },
    "language_info": {
      "codemirror_mode": {
        "name": "ipython",
        "version": 3
      },
      "file_extension": ".py",
      "mimetype": "text/x-python",
      "name": "python",
      "nbconvert_exporter": "python",
      "pygments_lexer": "ipython3",
      "version": "3.9.13"
    }
  },
  "nbformat": 4,
  "nbformat_minor": 0
}